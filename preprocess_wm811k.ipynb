{
 "cells": [
  {
   "cell_type": "markdown",
   "metadata": {
    "id": "JwbdS4wyH2c3"
   },
   "source": [
    "# IMPORT"
   ]
  },
  {
   "cell_type": "code",
   "execution_count": 1,
   "metadata": {
    "colab": {
     "base_uri": "https://localhost:8080/"
    },
    "id": "453YYtb6ufP5",
    "outputId": "7f266442-390e-4e73-8ebf-712d99176110"
   },
   "outputs": [
    {
     "name": "stdout",
     "output_type": "stream",
     "text": [
      "Defaulting to user installation because normal site-packages is not writeable\n",
      "Looking in indexes: https://pypi.org/simple, https://pypi.ngc.nvidia.com\n",
      "Requirement already satisfied: torchsummary in /shared/home/qlql323/.local/lib/python3.8/site-packages (1.5.1)\n",
      "Defaulting to user installation because normal site-packages is not writeable\n",
      "Looking in indexes: https://pypi.org/simple, https://pypi.ngc.nvidia.com\n",
      "Requirement already satisfied: seaborn in /shared/home/qlql323/.local/lib/python3.8/site-packages (0.12.0)\n",
      "Requirement already satisfied: matplotlib>=3.1 in /opt/conda/lib/python3.8/site-packages (from seaborn) (3.5.2)\n",
      "Requirement already satisfied: pandas>=0.25 in /opt/conda/lib/python3.8/site-packages (from seaborn) (1.4.3)\n",
      "Requirement already satisfied: numpy>=1.17 in /opt/conda/lib/python3.8/site-packages (from seaborn) (1.22.4)\n",
      "Requirement already satisfied: cycler>=0.10 in /opt/conda/lib/python3.8/site-packages (from matplotlib>=3.1->seaborn) (0.11.0)\n",
      "Requirement already satisfied: packaging>=20.0 in /opt/conda/lib/python3.8/site-packages (from matplotlib>=3.1->seaborn) (21.3)\n",
      "Requirement already satisfied: python-dateutil>=2.7 in /opt/conda/lib/python3.8/site-packages (from matplotlib>=3.1->seaborn) (2.8.2)\n",
      "Requirement already satisfied: fonttools>=4.22.0 in /opt/conda/lib/python3.8/site-packages (from matplotlib>=3.1->seaborn) (4.34.4)\n",
      "Requirement already satisfied: pillow>=6.2.0 in /opt/conda/lib/python3.8/site-packages (from matplotlib>=3.1->seaborn) (9.2.0)\n",
      "Requirement already satisfied: pyparsing>=2.2.1 in /opt/conda/lib/python3.8/site-packages (from matplotlib>=3.1->seaborn) (3.0.9)\n",
      "Requirement already satisfied: kiwisolver>=1.0.1 in /opt/conda/lib/python3.8/site-packages (from matplotlib>=3.1->seaborn) (1.4.4)\n",
      "Requirement already satisfied: pytz>=2020.1 in /opt/conda/lib/python3.8/site-packages (from pandas>=0.25->seaborn) (2022.1)\n",
      "Requirement already satisfied: six>=1.5 in /opt/conda/lib/python3.8/site-packages (from python-dateutil>=2.7->matplotlib>=3.1->seaborn) (1.16.0)\n"
     ]
    }
   ],
   "source": [
    "!pip install seaborn"
   ]
  },
  {
   "cell_type": "code",
   "execution_count": 2,
   "metadata": {
    "_cell_guid": "b1076dfc-b9ad-4769-8c92-a6c4dae69d19",
    "_uuid": "8f2839f25d086af736a60e9eeb907d3b93b6e0e5",
    "id": "wOnDnULQkyJ7",
    "tags": []
   },
   "outputs": [],
   "source": [
    "# Load in our libraries\n",
    "import pandas as pd\n",
    "import numpy as np\n",
    "import sklearn\n",
    "import seaborn as sns\n",
    "import matplotlib.pyplot as plt\n",
    "plt.style.use('seaborn')\n",
    "sns.set(font_scale=2) \n",
    "from tqdm import tqdm\n",
    "\n",
    "%matplotlib inline\n",
    "import torch\n",
    "import torchvision\n",
    "from PIL import Image\n",
    "import random\n",
    "import pickle"
   ]
  },
  {
   "cell_type": "code",
   "execution_count": 3,
   "metadata": {
    "id": "eKHQ9NMwwEGI"
   },
   "outputs": [],
   "source": [
    "random_seed = 629"
   ]
  },
  {
   "cell_type": "code",
   "execution_count": 4,
   "metadata": {
    "id": "PZ65PWJqwDeN"
   },
   "outputs": [],
   "source": [
    "torch.manual_seed(random_seed)\n",
    "torch.cuda.manual_seed(random_seed)\n",
    "torch.backends.cudnn.deterministic = True\n",
    "torch.backends.cudnn.benchmark = False\n",
    "np.random.seed(random_seed)\n",
    "random.seed(random_seed)"
   ]
  },
  {
   "cell_type": "markdown",
   "metadata": {
    "id": "xYzmE9VjH7ky"
   },
   "source": [
    "# Load data"
   ]
  },
  {
   "cell_type": "code",
   "execution_count": 5,
   "metadata": {
    "id": "WZjRkx2GkyJ8",
    "tags": []
   },
   "outputs": [],
   "source": [
    "df = pd.read_pickle(\"raw_data/LSWMD.pkl\")"
   ]
  },
  {
   "cell_type": "code",
   "execution_count": 6,
   "metadata": {
    "colab": {
     "base_uri": "https://localhost:8080/"
    },
    "id": "1Sa2Qo4uNTh5",
    "outputId": "37af652c-28ff-48a8-851f-f2a7af7de359"
   },
   "outputs": [
    {
     "data": {
      "text/html": [
       "<div>\n",
       "<style scoped>\n",
       "    .dataframe tbody tr th:only-of-type {\n",
       "        vertical-align: middle;\n",
       "    }\n",
       "\n",
       "    .dataframe tbody tr th {\n",
       "        vertical-align: top;\n",
       "    }\n",
       "\n",
       "    .dataframe thead th {\n",
       "        text-align: right;\n",
       "    }\n",
       "</style>\n",
       "<table border=\"1\" class=\"dataframe\">\n",
       "  <thead>\n",
       "    <tr style=\"text-align: right;\">\n",
       "      <th></th>\n",
       "      <th>waferMap</th>\n",
       "      <th>dieSize</th>\n",
       "      <th>lotName</th>\n",
       "      <th>waferIndex</th>\n",
       "      <th>trianTestLabel</th>\n",
       "      <th>failureType</th>\n",
       "    </tr>\n",
       "  </thead>\n",
       "  <tbody>\n",
       "    <tr>\n",
       "      <th>0</th>\n",
       "      <td>[[0, 0, 0, 0, 0, 0, 0, 0, 0, 0, 0, 0, 0, 0, 0,...</td>\n",
       "      <td>1683.0</td>\n",
       "      <td>lot1</td>\n",
       "      <td>1.0</td>\n",
       "      <td>[[Training]]</td>\n",
       "      <td>[[none]]</td>\n",
       "    </tr>\n",
       "    <tr>\n",
       "      <th>1</th>\n",
       "      <td>[[0, 0, 0, 0, 0, 0, 0, 0, 0, 0, 0, 0, 0, 0, 0,...</td>\n",
       "      <td>1683.0</td>\n",
       "      <td>lot1</td>\n",
       "      <td>2.0</td>\n",
       "      <td>[[Training]]</td>\n",
       "      <td>[[none]]</td>\n",
       "    </tr>\n",
       "    <tr>\n",
       "      <th>2</th>\n",
       "      <td>[[0, 0, 0, 0, 0, 0, 0, 0, 0, 0, 0, 0, 0, 0, 0,...</td>\n",
       "      <td>1683.0</td>\n",
       "      <td>lot1</td>\n",
       "      <td>3.0</td>\n",
       "      <td>[[Training]]</td>\n",
       "      <td>[[none]]</td>\n",
       "    </tr>\n",
       "    <tr>\n",
       "      <th>3</th>\n",
       "      <td>[[0, 0, 0, 0, 0, 0, 0, 0, 0, 0, 0, 0, 0, 0, 0,...</td>\n",
       "      <td>1683.0</td>\n",
       "      <td>lot1</td>\n",
       "      <td>4.0</td>\n",
       "      <td>[[Training]]</td>\n",
       "      <td>[[none]]</td>\n",
       "    </tr>\n",
       "    <tr>\n",
       "      <th>4</th>\n",
       "      <td>[[0, 0, 0, 0, 0, 0, 0, 0, 0, 0, 0, 0, 0, 0, 0,...</td>\n",
       "      <td>1683.0</td>\n",
       "      <td>lot1</td>\n",
       "      <td>5.0</td>\n",
       "      <td>[[Training]]</td>\n",
       "      <td>[[none]]</td>\n",
       "    </tr>\n",
       "  </tbody>\n",
       "</table>\n",
       "</div>"
      ],
      "text/plain": [
       "                                            waferMap  dieSize lotName  \\\n",
       "0  [[0, 0, 0, 0, 0, 0, 0, 0, 0, 0, 0, 0, 0, 0, 0,...   1683.0    lot1   \n",
       "1  [[0, 0, 0, 0, 0, 0, 0, 0, 0, 0, 0, 0, 0, 0, 0,...   1683.0    lot1   \n",
       "2  [[0, 0, 0, 0, 0, 0, 0, 0, 0, 0, 0, 0, 0, 0, 0,...   1683.0    lot1   \n",
       "3  [[0, 0, 0, 0, 0, 0, 0, 0, 0, 0, 0, 0, 0, 0, 0,...   1683.0    lot1   \n",
       "4  [[0, 0, 0, 0, 0, 0, 0, 0, 0, 0, 0, 0, 0, 0, 0,...   1683.0    lot1   \n",
       "\n",
       "   waferIndex trianTestLabel failureType  \n",
       "0         1.0   [[Training]]    [[none]]  \n",
       "1         2.0   [[Training]]    [[none]]  \n",
       "2         3.0   [[Training]]    [[none]]  \n",
       "3         4.0   [[Training]]    [[none]]  \n",
       "4         5.0   [[Training]]    [[none]]  "
      ]
     },
     "execution_count": 6,
     "metadata": {},
     "output_type": "execute_result"
    }
   ],
   "source": [
    "df.head()"
   ]
  },
  {
   "cell_type": "markdown",
   "metadata": {
    "id": "V_Y7Z5WuK5jq"
   },
   "source": [
    "# EDA & PreProcess"
   ]
  },
  {
   "cell_type": "code",
   "execution_count": 128,
   "metadata": {
    "id": "0vmuQGpIkyJ-",
    "tags": []
   },
   "outputs": [],
   "source": [
    "df = df.drop(['waferIndex', 'dieSize', 'lotName'], axis = 1)"
   ]
  },
  {
   "cell_type": "code",
   "execution_count": 7,
   "metadata": {
    "colab": {
     "base_uri": "https://localhost:8080/",
     "height": 206
    },
    "id": "7lGrTXD5kyJ_",
    "outputId": "46f42d13-b040-4221-d4e3-2e59ed59e72d",
    "tags": []
   },
   "outputs": [
    {
     "data": {
      "text/html": [
       "<div>\n",
       "<style scoped>\n",
       "    .dataframe tbody tr th:only-of-type {\n",
       "        vertical-align: middle;\n",
       "    }\n",
       "\n",
       "    .dataframe tbody tr th {\n",
       "        vertical-align: top;\n",
       "    }\n",
       "\n",
       "    .dataframe thead th {\n",
       "        text-align: right;\n",
       "    }\n",
       "</style>\n",
       "<table border=\"1\" class=\"dataframe\">\n",
       "  <thead>\n",
       "    <tr style=\"text-align: right;\">\n",
       "      <th></th>\n",
       "      <th>waferMap</th>\n",
       "      <th>dieSize</th>\n",
       "      <th>lotName</th>\n",
       "      <th>waferIndex</th>\n",
       "      <th>trianTestLabel</th>\n",
       "      <th>failureType</th>\n",
       "      <th>waferMapDim</th>\n",
       "    </tr>\n",
       "  </thead>\n",
       "  <tbody>\n",
       "    <tr>\n",
       "      <th>480191</th>\n",
       "      <td>[[0, 0, 0, 0, 0, 0, 0, 0, 0, 0, 0, 0, 1, 1, 1,...</td>\n",
       "      <td>846.0</td>\n",
       "      <td>lot29750</td>\n",
       "      <td>25.0</td>\n",
       "      <td>[]</td>\n",
       "      <td>[]</td>\n",
       "      <td>(33, 33)</td>\n",
       "    </tr>\n",
       "    <tr>\n",
       "      <th>124002</th>\n",
       "      <td>[[0, 0, 0, 0, 0, 0, 0, 0, 0, 0, 0, 0, 0, 0, 0,...</td>\n",
       "      <td>2856.0</td>\n",
       "      <td>lot8238</td>\n",
       "      <td>17.0</td>\n",
       "      <td>[]</td>\n",
       "      <td>[]</td>\n",
       "      <td>(59, 62)</td>\n",
       "    </tr>\n",
       "    <tr>\n",
       "      <th>82760</th>\n",
       "      <td>[[0, 0, 0, 0, 0, 0, 0, 0, 0, 0, 0, 0, 0, 0, 0,...</td>\n",
       "      <td>1801.0</td>\n",
       "      <td>lot5915</td>\n",
       "      <td>19.0</td>\n",
       "      <td>[]</td>\n",
       "      <td>[]</td>\n",
       "      <td>(56, 41)</td>\n",
       "    </tr>\n",
       "    <tr>\n",
       "      <th>189542</th>\n",
       "      <td>[[0, 0, 0, 0, 0, 0, 0, 0, 0, 0, 1, 2, 2, 1, 2,...</td>\n",
       "      <td>533.0</td>\n",
       "      <td>lot12057</td>\n",
       "      <td>16.0</td>\n",
       "      <td>[]</td>\n",
       "      <td>[]</td>\n",
       "      <td>(26, 26)</td>\n",
       "    </tr>\n",
       "    <tr>\n",
       "      <th>782715</th>\n",
       "      <td>[[0, 0, 0, 0, 0, 0, 0, 0, 0, 0, 0, 0, 0, 0, 0,...</td>\n",
       "      <td>1414.0</td>\n",
       "      <td>lot46375</td>\n",
       "      <td>8.0</td>\n",
       "      <td>[[Test]]</td>\n",
       "      <td>[[none]]</td>\n",
       "      <td>(42, 44)</td>\n",
       "    </tr>\n",
       "  </tbody>\n",
       "</table>\n",
       "</div>"
      ],
      "text/plain": [
       "                                                 waferMap  dieSize   lotName  \\\n",
       "480191  [[0, 0, 0, 0, 0, 0, 0, 0, 0, 0, 0, 0, 1, 1, 1,...    846.0  lot29750   \n",
       "124002  [[0, 0, 0, 0, 0, 0, 0, 0, 0, 0, 0, 0, 0, 0, 0,...   2856.0   lot8238   \n",
       "82760   [[0, 0, 0, 0, 0, 0, 0, 0, 0, 0, 0, 0, 0, 0, 0,...   1801.0   lot5915   \n",
       "189542  [[0, 0, 0, 0, 0, 0, 0, 0, 0, 0, 1, 2, 2, 1, 2,...    533.0  lot12057   \n",
       "782715  [[0, 0, 0, 0, 0, 0, 0, 0, 0, 0, 0, 0, 0, 0, 0,...   1414.0  lot46375   \n",
       "\n",
       "        waferIndex trianTestLabel failureType waferMapDim  \n",
       "480191        25.0             []          []    (33, 33)  \n",
       "124002        17.0             []          []    (59, 62)  \n",
       "82760         19.0             []          []    (56, 41)  \n",
       "189542        16.0             []          []    (26, 26)  \n",
       "782715         8.0       [[Test]]    [[none]]    (42, 44)  "
      ]
     },
     "execution_count": 7,
     "metadata": {},
     "output_type": "execute_result"
    }
   ],
   "source": [
    "#add wafermapDim column because waferMap dim is different each other.\n",
    "def find_dim(x):\n",
    "    dim0=np.size(x,axis=0)\n",
    "    dim1=np.size(x,axis=1)\n",
    "    return dim0,dim1\n",
    "df['waferMapDim']=df.waferMap.apply(find_dim)\n",
    "df.sample(5)"
   ]
  },
  {
   "cell_type": "code",
   "execution_count": 8,
   "metadata": {
    "colab": {
     "base_uri": "https://localhost:8080/"
    },
    "id": "0xblTweJkyJ_",
    "outputId": "f94bb230-411f-4d71-b8fe-18e98f26ad77",
    "tags": []
   },
   "outputs": [
    {
     "name": "stderr",
     "output_type": "stream",
     "text": [
      "/opt/conda/lib/python3.8/site-packages/pandas/core/array_algos/replace.py:85: FutureWarning: elementwise comparison failed; returning scalar instead, but in the future will perform elementwise comparison\n",
      "  op = lambda x: operator.eq(x, b)\n"
     ]
    }
   ],
   "source": [
    "#To check failureType# and class dist.\n",
    "df['failureNum'] = df.failureType\n",
    "mapping_type={'Center':0,'Donut':1,'Edge-Loc':2,'Edge-Ring':3,'Loc':4,'Random':5,'Scratch':6,'Near-full':7,'none':8}\n",
    "df=df.replace({'failureNum':mapping_type})"
   ]
  },
  {
   "cell_type": "code",
   "execution_count": 9,
   "metadata": {
    "colab": {
     "base_uri": "https://localhost:8080/"
    },
    "id": "Mcg-uFQVEFyr",
    "outputId": "d270c156-97c6-4812-fe8c-387e1c7c4b30"
   },
   "outputs": [
    {
     "name": "stderr",
     "output_type": "stream",
     "text": [
      "/opt/conda/lib/python3.8/site-packages/pandas/core/ops/array_ops.py:73: FutureWarning: elementwise comparison failed; returning scalar instead, but in the future will perform elementwise comparison\n",
      "  result = libops.scalar_compare(x.ravel(), y, op)\n",
      "/opt/conda/lib/python3.8/site-packages/pandas/core/ops/array_ops.py:73: FutureWarning: elementwise comparison failed; returning scalar instead, but in the future will perform elementwise comparison\n",
      "  result = libops.scalar_compare(x.ravel(), y, op)\n"
     ]
    }
   ],
   "source": [
    "df_training = df[df['trianTestLabel'] == 'Training']\n",
    "defect_train = df_training[df_training['failureType'] != 'none']\n",
    "defect_train = defect_train.reset_index()\n",
    "\n",
    "df_test = df[df['trianTestLabel'] == 'Test']\n",
    "defect_test = df_test[df_test['failureType'] != 'none']\n",
    "defect_test = defect_test.reset_index()"
   ]
  },
  {
   "cell_type": "code",
   "execution_count": 10,
   "metadata": {
    "id": "tZgftcd4Iib-"
   },
   "outputs": [],
   "source": [
    "none_train = df_training[df_training['failureType'] == 'none']"
   ]
  },
  {
   "cell_type": "code",
   "execution_count": 11,
   "metadata": {
    "id": "tMJZsuHaJlRu"
   },
   "outputs": [],
   "source": [
    "none_defect = none_train.sample(3000, random_state = 629)\n",
    "# none_test = none_test.sample(1000, random_state = 629)"
   ]
  },
  {
   "cell_type": "code",
   "execution_count": 12,
   "metadata": {
    "colab": {
     "base_uri": "https://localhost:8080/"
    },
    "id": "xS1ehq1YNybl",
    "outputId": "70cc5c4e-9c97-4eae-a2b6-8d58f848023e"
   },
   "outputs": [
    {
     "name": "stderr",
     "output_type": "stream",
     "text": [
      "/opt/conda/lib/python3.8/site-packages/pandas/core/ops/array_ops.py:73: FutureWarning: elementwise comparison failed; returning scalar instead, but in the future will perform elementwise comparison\n",
      "  result = libops.scalar_compare(x.ravel(), y, op)\n"
     ]
    }
   ],
   "source": [
    "df_withlabel = df[(df['failureType']!=0)]\n",
    "df_withlabel =df_withlabel.reset_index() #labeled index.\n",
    "df_withpattern = df_withlabel[(df_withlabel['failureType'] != 'none')]\n",
    "df_withpattern = df_withpattern.reset_index() #patterned index."
   ]
  },
  {
   "cell_type": "code",
   "execution_count": 13,
   "metadata": {
    "id": "M05vdlhvKRzv"
   },
   "outputs": [],
   "source": [
    "X = pd.concat([df_withpattern, none_defect], axis = 0)"
   ]
  },
  {
   "cell_type": "code",
   "execution_count": 14,
   "metadata": {
    "colab": {
     "base_uri": "https://localhost:8080/"
    },
    "id": "x6swOL6XOS4Q",
    "outputId": "63d4efc7-718a-4921-e4e3-33f7c8d5d03e"
   },
   "outputs": [
    {
     "data": {
      "text/plain": [
       "(28519, 10)"
      ]
     },
     "execution_count": 14,
     "metadata": {},
     "output_type": "execute_result"
    }
   ],
   "source": [
    "X.shape"
   ]
  },
  {
   "cell_type": "markdown",
   "metadata": {
    "id": "jx3LYko2zS4V"
   },
   "source": [
    "## Implementation of c median filter algorithm"
   ]
  },
  {
   "cell_type": "code",
   "execution_count": 15,
   "metadata": {
    "id": "4PM9tqi2Hbsn"
   },
   "outputs": [],
   "source": [
    "def mean_filter(img):\n",
    "    img_cpy = np.copy(img)\n",
    "    height = img_cpy.shape[0]\n",
    "    width = img_cpy.shape[1]\n",
    "    for h in range(1,height):\n",
    "        for w in range(1,width):\n",
    "            if img_cpy[h][w] == 2.0:\n",
    "                filter_area = img_cpy[h-1:h+2, w-1:w+2]\n",
    "                filter_area = np.where(filter_area == 2.0, filter_area, 0)\n",
    "                if (filter_area == 2.0).sum() - 1.0 == 0.0:\n",
    "                    img_cpy[h][w] = 1.0\n",
    "                else:\n",
    "                    mean = (filter_area.sum())/((filter_area == 2.0).sum() - 1.0 )\n",
    "                    if mean >= 1.25:\n",
    "                        img_cpy[h][w] = 2.0\n",
    "                    \n",
    "    return img_cpy"
   ]
  },
  {
   "cell_type": "code",
   "execution_count": 16,
   "metadata": {},
   "outputs": [],
   "source": [
    "# def mean_filter(img):\n",
    "#     img_cpy = np.copy(img)\n",
    "#     height = img_cpy.shape[0]\n",
    "#     width = img_cpy.shape[1]\n",
    "#     for h in range(1,height):\n",
    "#         for w in range(1,width):\n",
    "#             if img_cpy[h][w] == 2.0:\n",
    "#                 filter_area = img_cpy[h-1:h+2, w-1:w+2]\n",
    "#                 zero_count = (filter_area == 0.0).sum()\n",
    "#                 neighbor_mean = (filter_area.sum()-2.0)/(8 - zero_count)\n",
    "#                 if neighbor_mean < 1.25:\n",
    "#                     img_cpy[h][w] = 1.0\n",
    "#     return img_cpy"
   ]
  },
  {
   "cell_type": "code",
   "execution_count": 17,
   "metadata": {
    "colab": {
     "base_uri": "https://localhost:8080/",
     "height": 304
    },
    "id": "F4IHSgEdNJGw",
    "outputId": "b8334d14-faca-44a2-a100-5acd60143f64"
   },
   "outputs": [
    {
     "name": "stdout",
     "output_type": "stream",
     "text": [
      "6\n"
     ]
    },
    {
     "data": {
      "image/png": "[encoded data removed]",
      "text/plain": [
       "<Figure size 432x288 with 1 Axes>"
      ]
     },
     "metadata": {
      "needs_background": "light"
     },
     "output_type": "display_data"
    }
   ],
   "source": [
    "i = 11000\n",
    "img_array =Image.fromarray(defect_train.iloc[i]['waferMap'])\n",
    "label = defect_train.iloc[i]['failureNum'] \n",
    "plt.imshow(img_array)\n",
    "print(label)"
   ]
  },
  {
   "cell_type": "code",
   "execution_count": 18,
   "metadata": {
    "colab": {
     "base_uri": "https://localhost:8080/",
     "height": 304
    },
    "id": "TWN2x8RDNFUY",
    "outputId": "3e3790c2-fc29-4cba-b3c9-687e067e64a8"
   },
   "outputs": [
    {
     "data": {
      "text/plain": [
       "<matplotlib.image.AxesImage at 0x7fde6d2fb4f0>"
      ]
     },
     "execution_count": 18,
     "metadata": {},
     "output_type": "execute_result"
    },
    {
     "data": {
      "image/png": "[encoded data removed]",
      "text/plain": [
       "<Figure size 432x288 with 1 Axes>"
      ]
     },
     "metadata": {
      "needs_background": "light"
     },
     "output_type": "display_data"
    }
   ],
   "source": [
    "img_array = defect_train.iloc[i]['waferMap'] \n",
    "img_array = img_array.astype('float64')\n",
    "img_array = mean_filter(img_array)\n",
    "img_array =Image.fromarray(img_array.astype('uint8'))\n",
    "plt.imshow(img_array)"
   ]
  },
  {
   "cell_type": "markdown",
   "metadata": {
    "id": "rqGwrMHEzaUN"
   },
   "source": [
    "## preprocess"
   ]
  },
  {
   "cell_type": "code",
   "execution_count": 19,
   "metadata": {
    "id": "1TAMjqi0t6-S"
   },
   "outputs": [],
   "source": [
    "def resize_arr(df):\n",
    "    x = []\n",
    "    y = []\n",
    "    for i in tqdm(range(len(df))):\n",
    "        img_array = df.iloc[i]['waferMap'] \n",
    "        label = df.iloc[i]['failureNum'] \n",
    "        img_array = mean_filter(img_array)\n",
    "        img_array =Image.fromarray(img_array)\n",
    "        im_resized = img_array.resize((64,64), Image.NEAREST)\n",
    "        img_array = np.array(im_resized, dtype = 'f')\n",
    "        y.append(label)\n",
    "        x.append(img_array)\n",
    "    x = np.array(x)\n",
    "    return np.array(x), np.array(y)"
   ]
  },
  {
   "cell_type": "code",
   "execution_count": 141,
   "metadata": {
    "colab": {
     "base_uri": "https://localhost:8080/"
    },
    "id": "i3vXwNF4OflT",
    "outputId": "3bbda063-baac-48d3-c377-31507105d046"
   },
   "outputs": [
    {
     "name": "stderr",
     "output_type": "stream",
     "text": [
      "  0%|                                                                                         | 0/28519 [00:00<?, ?it/s]/tmp/ipykernel_2466648/2243927867.py:9: DeprecationWarning: NEAREST is deprecated and will be removed in Pillow 10 (2023-07-01). Use Resampling.NEAREST or Dither.NONE instead.\n",
      "  im_resized = img_array.resize((64,64), Image.NEAREST)\n",
      "100%|████████████████████████████████████████████████████████████████████████████| 28519/28519 [03:16<00:00, 145.19it/s]\n"
     ]
    },
    {
     "data": {
      "text/plain": [
       "(array([0, 1, 2, 3, 4, 5, 6, 7, 8]),\n",
       " array([4294,  555, 5189, 9680, 3593,  866, 1193,  149, 3000]))"
      ]
     },
     "execution_count": 141,
     "metadata": {},
     "output_type": "execute_result"
    }
   ],
   "source": [
    "X_, label = resize_arr(X)\n",
    "np.unique(label, return_counts = True)     "
   ]
  },
  {
   "cell_type": "code",
   "execution_count": null,
   "metadata": {
    "id": "CUwrJhgHIjnu"
   },
   "outputs": [],
   "source": [
    "# mapping_type={'Center':0,'Donut':1,'Edge-Loc':2,'Edge-Ring':3,'Loc':4,'Random':5,'Scratch':6,'Near-full':7,'none':8}"
   ]
  },
  {
   "cell_type": "code",
   "execution_count": 147,
   "metadata": {},
   "outputs": [
    {
     "data": {
      "text/plain": [
       "array([    0,     5,    10, ..., 25489, 25491, 25492])"
      ]
     },
     "execution_count": 147,
     "metadata": {},
     "output_type": "execute_result"
    }
   ],
   "source": [
    "target_idx[0]"
   ]
  },
  {
   "cell_type": "code",
   "execution_count": 154,
   "metadata": {
    "colab": {
     "base_uri": "https://localhost:8080/",
     "height": 549
    },
    "id": "kqgr8fPGH62o",
    "outputId": "e3b35bc0-fd70-4aed-8de1-49056b542d12",
    "tags": []
   },
   "outputs": [
    {
     "data": {
      "text/plain": [
       "<matplotlib.image.AxesImage at 0x7f78447a59d0>"
      ]
     },
     "execution_count": 154,
     "metadata": {},
     "output_type": "execute_result"
    },
    {
     "data": {
      "image/png": "[encoded data removed]",
      "text/plain": [
       "<Figure size 720x720 with 6 Axes>"
      ]
     },
     "metadata": {
      "needs_background": "light"
     },
     "output_type": "display_data"
    }
   ],
   "source": [
    "target_idx = np.where(label == 5)\n",
    "plt.figure(figsize=(10,10))\n",
    "plt.subplot(2,3,1)\n",
    "plt.imshow(  X.iloc[target_idx[0][1]]['waferMap']  )\n",
    "plt.subplot(2,3,2)\n",
    "plt.imshow(  X.iloc[target_idx[0][2]]['waferMap'])\n",
    "plt.subplot(2,3,3)\n",
    "plt.imshow(  X.iloc[target_idx[0][3]]['waferMap'])\n",
    "plt.subplot(2,3,4)\n",
    "plt.imshow(  X.iloc[target_idx[0][-1]]['waferMap'])\n",
    "plt.subplot(2,3,5)\n",
    "plt.imshow(  X.iloc[target_idx[0][-2]]['waferMap'])\n",
    "plt.subplot(2,3,6)\n",
    "plt.imshow(  X.iloc[target_idx[0][-4]]['waferMap'])"
   ]
  },
  {
   "cell_type": "code",
   "execution_count": 153,
   "metadata": {},
   "outputs": [
    {
     "data": {
      "text/plain": [
       "<matplotlib.image.AxesImage at 0x7f78442a1fd0>"
      ]
     },
     "execution_count": 153,
     "metadata": {},
     "output_type": "execute_result"
    },
    {
     "data": {
      "image/png": "[encoded data removed]",
      "text/plain": [
       "<Figure size 720x720 with 6 Axes>"
      ]
     },
     "metadata": {
      "needs_background": "light"
     },
     "output_type": "display_data"
    }
   ],
   "source": [
    "target_idx = np.where(label == 5)\n",
    "plt.figure(figsize=(10,10))\n",
    "plt.subplot(2,3,1)\n",
    "plt.imshow(X_[target_idx[0][1]])\n",
    "plt.subplot(2,3,2)\n",
    "plt.imshow(  X_[target_idx[0][2]])\n",
    "plt.subplot(2,3,3)\n",
    "plt.imshow(  X_[target_idx[0][3]])\n",
    "plt.subplot(2,3,4)\n",
    "plt.imshow(  X_[target_idx[0][-1]]  )\n",
    "plt.subplot(2,3,5)\n",
    "plt.imshow(  X_[target_idx[0][-2]])\n",
    "plt.subplot(2,3,6)\n",
    "plt.imshow(  X_[target_idx[0][-3]])"
   ]
  },
  {
   "cell_type": "code",
   "execution_count": 98,
   "metadata": {
    "id": "X89wT-ClRS1z"
   },
   "outputs": [],
   "source": [
    "def shuffle_idx(label):\n",
    "    train_idx = []\n",
    "    valid_idx = []\n",
    "    test_idx = []\n",
    "    train_label = []\n",
    "    valid_label = []\n",
    "    test_label = []\n",
    "    for defect in range(0, 8+1):\n",
    "        target_defect = np.where(label == defect)[0]\n",
    "        np.random.shuffle(target_defect)\n",
    "        training_size = int(len(target_defect)*0.60)\n",
    "        valid_size = int(len(target_defect)*0.15)\n",
    "        defect_train = target_defect[:training_size]\n",
    "        defect_valid = target_defect[training_size:training_size+valid_size]\n",
    "        defect_test = target_defect[training_size+valid_size:]\n",
    "        train_idx.extend(list(defect_train))\n",
    "        valid_idx.extend(list(defect_valid))\n",
    "        test_idx.extend(list(defect_test))\n",
    "        train_label.extend([defect] * len(defect_train))\n",
    "        valid_label.extend([defect] * len(defect_valid))\n",
    "        test_label.extend([defect] * len(defect_test))\n",
    "    return train_idx, valid_idx, test_idx, train_label, valid_label, test_label\n"
   ]
  },
  {
   "cell_type": "code",
   "execution_count": 99,
   "metadata": {
    "id": "-5Y5yX2ATbxc"
   },
   "outputs": [],
   "source": [
    "train_idx, valid_idx, test_idx, train_label, valid_label, test_label = shuffle_idx(label)"
   ]
  },
  {
   "cell_type": "code",
   "execution_count": 100,
   "metadata": {
    "colab": {
     "base_uri": "https://localhost:8080/"
    },
    "id": "tzqPBFTlU5CB",
    "outputId": "cdd31521-b669-467e-94f4-607fec032589"
   },
   "outputs": [
    {
     "data": {
      "text/plain": [
       "(array([0, 1, 2, 3, 4, 5, 6, 7, 8]),\n",
       " array([ 644,   83,  778, 1452,  538,  129,  178,   22,  450]))"
      ]
     },
     "execution_count": 100,
     "metadata": {},
     "output_type": "execute_result"
    }
   ],
   "source": [
    "np.unique(valid_label, return_counts = True)  "
   ]
  },
  {
   "cell_type": "code",
   "execution_count": 105,
   "metadata": {
    "id": "oSypkTSgYqS0"
   },
   "outputs": [],
   "source": [
    "X = torch.Tensor(X).unsqueeze(1)"
   ]
  },
  {
   "cell_type": "code",
   "execution_count": 106,
   "metadata": {
    "colab": {
     "base_uri": "https://localhost:8080/"
    },
    "id": "u82eGL6tYwB8",
    "outputId": "adb902ee-833d-48c9-ae8a-d956d1e49bfd"
   },
   "outputs": [
    {
     "data": {
      "text/plain": [
       "torch.Size([28519, 1, 64, 64])"
      ]
     },
     "execution_count": 106,
     "metadata": {},
     "output_type": "execute_result"
    }
   ],
   "source": [
    "X.shape"
   ]
  },
  {
   "cell_type": "code",
   "execution_count": 107,
   "metadata": {
    "colab": {
     "base_uri": "https://localhost:8080/"
    },
    "id": "U1PhE3ogX6YS",
    "outputId": "3b789ac3-7175-4292-b9ba-789bcc35964b"
   },
   "outputs": [
    {
     "name": "stderr",
     "output_type": "stream",
     "text": [
      "100%|█████████████████████████████████████████████████████████████████████████████| 17108/17108 [03:54<00:00, 72.99it/s]\n",
      "100%|█████████████████████████████████████████████████████████████████████████████| 4274/4274 [00:03<00:00, 1362.98it/s]\n",
      "100%|██████████████████████████████████████████████████████████████████████████████| 7137/7137 [00:38<00:00, 186.89it/s]\n"
     ]
    }
   ],
   "source": [
    "base = torch.zeros(1,64,64)\n",
    "for idx in tqdm(train_idx):\n",
    "    base = torch.cat([base, X[idx]], axis = 0)\n",
    "train = base[1:]\n",
    "\n",
    "base = torch.zeros(1,64,64)\n",
    "for idx in tqdm(valid_idx):\n",
    "    base = torch.cat([base, X[idx]], axis = 0)\n",
    "valid = base[1:]\n",
    "\n",
    "base = torch.zeros(1,64,64)\n",
    "for idx in tqdm(test_idx):\n",
    "    base = torch.cat([base, X[idx]], axis = 0)\n",
    "test = base[1:]"
   ]
  },
  {
   "cell_type": "code",
   "execution_count": 108,
   "metadata": {
    "colab": {
     "base_uri": "https://localhost:8080/"
    },
    "id": "Z3XxTpA5YPKH",
    "outputId": "a77bb765-b5c6-4b0a-8d1b-7beb089a6e0e"
   },
   "outputs": [
    {
     "name": "stdout",
     "output_type": "stream",
     "text": [
      "torch.Size([17108, 64, 64])\n",
      "17108\n"
     ]
    }
   ],
   "source": [
    "print(train.shape)\n",
    "print(len(train_label))"
   ]
  },
  {
   "cell_type": "code",
   "execution_count": 109,
   "metadata": {
    "id": "sPeYPLlQMoQP"
   },
   "outputs": [],
   "source": [
    "import pickle \n",
    "\n",
    "with open('data/X_train.pickle', 'wb') as handle:\n",
    "    pickle.dump(train, handle, protocol = pickle.HIGHEST_PROTOCOL)    \n",
    "with open('data/y_train.pickle', 'wb') as handle:\n",
    "    pickle.dump(train_label, handle, protocol = pickle.HIGHEST_PROTOCOL)    \n",
    "\n",
    "with open('data/X_valid.pickle', 'wb') as handle:\n",
    "    pickle.dump(valid, handle, protocol = pickle.HIGHEST_PROTOCOL)    \n",
    "with open('data/y_valid.pickle', 'wb') as handle:\n",
    "    pickle.dump(valid_label, handle, protocol = pickle.HIGHEST_PROTOCOL)    \n",
    "\n",
    "with open('data/X_test.pickle', 'wb') as handle:\n",
    "    pickle.dump(test, handle, protocol = pickle.HIGHEST_PROTOCOL)    \n",
    "with open('data/y_test.pickle', 'wb') as handle:\n",
    "    pickle.dump(test_label, handle, protocol = pickle.HIGHEST_PROTOCOL)    "
   ]
  },
  {
   "cell_type": "code",
   "execution_count": null,
   "metadata": {
    "id": "lT93FSaCW72t"
   },
   "outputs": [],
   "source": []
  }
 ],
 "metadata": {
  "colab": {
   "collapsed_sections": [
    "JwbdS4wyH2c3",
    "xYzmE9VjH7ky",
    "xGkLch_sLraZ",
    "pLf6p98AK83u"
   ],
   "machine_shape": "hm",
   "provenance": []
  },
  "kernelspec": {
   "display_name": "Python 3 (ipykernel)",
   "language": "python",
   "name": "python3"
  },
  "language_info": {
   "codemirror_mode": {
    "name": "ipython",
    "version": 3
   },
   "file_extension": ".py",
   "mimetype": "text/x-python",
   "name": "python",
   "nbconvert_exporter": "python",
   "pygments_lexer": "ipython3",
   "version": "3.8.13"
  }
 },
 "nbformat": 4,
 "nbformat_minor": 4
}
