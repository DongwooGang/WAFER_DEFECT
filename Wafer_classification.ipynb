{
 "cells": [
  {
   "cell_type": "markdown",
   "metadata": {
    "id": "nPDt2FJ45k0q"
   },
   "source": [
    "# Install and Import"
   ]
  },
  {
   "cell_type": "code",
   "execution_count": 1,
   "metadata": {
    "id": "453YYtb6ufP5"
   },
   "outputs": [
    {
     "name": "stdout",
     "output_type": "stream",
     "text": [
      "Defaulting to user installation because normal site-packages is not writeable\n",
      "Looking in indexes: https://pypi.org/simple, https://pypi.ngc.nvidia.com\n",
      "Requirement already satisfied: torchsummary in /shared/home/qlql323/.local/lib/python3.8/site-packages (1.5.1)\n"
     ]
    }
   ],
   "source": [
    "!pip install torchsummary"
   ]
  },
  {
   "cell_type": "code",
   "execution_count": 2,
   "metadata": {
    "_cell_guid": "b1076dfc-b9ad-4769-8c92-a6c4dae69d19",
    "_uuid": "8f2839f25d086af736a60e9eeb907d3b93b6e0e5",
    "id": "wOnDnULQkyJ7"
   },
   "outputs": [],
   "source": [
    "# Load in our libraries\n",
    "import pandas as pd\n",
    "import numpy as np\n",
    "import sklearn\n",
    "import seaborn as sns\n",
    "import matplotlib.pyplot as plt\n",
    "from sklearn.model_selection import KFold\n",
    "from sklearn.model_selection import train_test_split\n",
    "from sklearn.metrics import confusion_matrix\n",
    "plt.style.use('seaborn')\n",
    "sns.set(font_scale=2) \n",
    "from tqdm import tqdm\n",
    "\n",
    "%matplotlib inline\n",
    "import torch\n",
    "import torchvision\n",
    "from PIL import Image\n",
    "import random\n",
    "import pickle\n",
    "\n",
    "\n",
    "from metrics import ArcMarginProduct\n",
    "from utils import EarlyStopping"
   ]
  },
  {
   "cell_type": "code",
   "execution_count": 3,
   "metadata": {
    "id": "r4iW4Y5z6ecC"
   },
   "outputs": [],
   "source": [
    "import torch\n",
    "import torch.nn as nn\n",
    "import torch.nn.functional as F\n",
    "from torch.utils.data import Dataset, DataLoader\n",
    "import math\n",
    "import torch.optim as optim\n",
    "import torch.nn.functional as F\n",
    "from torch.utils.data import Dataset, DataLoader\n",
    "import torchvision\n",
    "from torchvision import datasets, models, transforms\n",
    "import torchvision.transforms as T\n",
    "from torchsummary import summary"
   ]
  },
  {
   "cell_type": "code",
   "execution_count": 4,
   "metadata": {
    "id": "eKHQ9NMwwEGI"
   },
   "outputs": [],
   "source": [
    "random_seed = 629"
   ]
  },
  {
   "cell_type": "code",
   "execution_count": 5,
   "metadata": {
    "id": "PZ65PWJqwDeN"
   },
   "outputs": [],
   "source": [
    "torch.manual_seed(random_seed)\n",
    "torch.cuda.manual_seed(random_seed)\n",
    "torch.backends.cudnn.deterministic = True\n",
    "torch.backends.cudnn.benchmark = False\n",
    "np.random.seed(random_seed)\n",
    "random.seed(random_seed)"
   ]
  },
  {
   "cell_type": "markdown",
   "metadata": {
    "id": "4D_vhu4gAgDW"
   },
   "source": [
    "# Config"
   ]
  },
  {
   "cell_type": "code",
   "execution_count": 6,
   "metadata": {
    "id": "vlWk90A9Ah8X"
   },
   "outputs": [],
   "source": [
    "batch_size = 128\n",
    "device = torch.device('cuda' if torch.cuda.is_available() else 'cpu')\n",
    "lr = 1e-5\n",
    "epochs = 1000"
   ]
  },
  {
   "cell_type": "markdown",
   "metadata": {
    "id": "KCVGyshh5zjP"
   },
   "source": [
    "# Load data"
   ]
  },
  {
   "cell_type": "code",
   "execution_count": 7,
   "metadata": {
    "id": "H-ZM5hCh5nsM"
   },
   "outputs": [],
   "source": [
    "# with open('/content/drive/MyDrive/wafer/dataset/X_train.pickle', 'rb') as f:\n",
    "#     X_train = pickle.load(f)\n",
    "# with open('/content/drive/MyDrive/wafer/dataset/y_train.pickle', 'rb') as f:\n",
    "#     y_train = pickle.load(f)\n",
    "# with open('/content/drive/MyDrive/wafer/dataset/X_valid.pickle', 'rb') as f:\n",
    "#     X_valid = pickle.load(f)\n",
    "# with open('/content/drive/MyDrive/wafer/dataset/y_valid.pickle', 'rb') as f:\n",
    "#     y_valid = pickle.load(f)\n",
    "# with open('/content/drive/MyDrive/wafer/dataset/X_test.pickle', 'rb') as f:\n",
    "#     X_test = pickle.load(f)\n",
    "# with open('/content/drive/MyDrive/wafer/dataset/y_test.pickle', 'rb') as f:\n",
    "#     y_test = pickle.load(f)\n",
    "with open('data/wm_38_X_train.pickle', 'rb') as f:\n",
    "    X_train_38 = pickle.load(f)\n",
    "with open('data/wm_38_y_train.pickle', 'rb') as f:\n",
    "    y_train_38 = pickle.load(f)\n",
    "with open('data/wm_38_X_valid.pickle', 'rb') as f:\n",
    "    X_valid_38 = pickle.load(f)\n",
    "with open('data/wm_38_y_valid.pickle', 'rb') as f:\n",
    "    y_valid_38 = pickle.load(f)\n",
    "with open('data/wm_38_X_test.pickle', 'rb') as f:\n",
    "    X_test_38 = pickle.load(f)\n",
    "with open('data/wm_38_y_test.pickle', 'rb') as f:\n",
    "    y_test_38 = pickle.load(f)"
   ]
  },
  {
   "cell_type": "code",
   "execution_count": 8,
   "metadata": {
    "id": "MtFJwvJipr_t"
   },
   "outputs": [
    {
     "data": {
      "text/plain": [
       "(array([0, 1, 2, 3, 4, 5, 6, 7, 8]),\n",
       " array([600, 600, 600, 600, 600,  89, 600, 519, 600]))"
      ]
     },
     "execution_count": 8,
     "metadata": {},
     "output_type": "execute_result"
    }
   ],
   "source": [
    "np.unique(y_train_38, return_counts = True)     "
   ]
  },
  {
   "cell_type": "code",
   "execution_count": 9,
   "metadata": {
    "id": "S12mI7lTJ2h-"
   },
   "outputs": [],
   "source": [
    "# X_train = X_train.unsqueeze(1)\n",
    "# X_valid = X_valid.unsqueeze(1)\n",
    "# X_test = X_test.unsqueeze(1)\n",
    "X_train_38 = X_train_38.unsqueeze(1)\n",
    "X_valid_38 = X_valid_38.unsqueeze(1)\n",
    "X_test_38 = X_test_38.unsqueeze(1)"
   ]
  },
  {
   "cell_type": "code",
   "execution_count": 10,
   "metadata": {
    "id": "B4WkKPhNdCTd"
   },
   "outputs": [],
   "source": [
    "# y_train = torch.Tensor(y_train).type(torch.int64)\n",
    "# y_valid = torch.Tensor(y_valid).type(torch.int64)\n",
    "# y_test = torch.Tensor(y_test).type(torch.int64)\n",
    "y_train_38 = torch.Tensor(y_train_38).type(torch.int64)\n",
    "y_valid_38 = torch.Tensor(y_valid_38).type(torch.int64)\n",
    "y_test_38 = torch.Tensor(y_test_38).type(torch.int64)"
   ]
  },
  {
   "cell_type": "code",
   "execution_count": 11,
   "metadata": {
    "id": "4jNay-vyoMti"
   },
   "outputs": [],
   "source": [
    "# X_train = torch.concat([X_train, X_train_38], axis = 0)\n",
    "# X_valid = torch.concat([X_valid, X_valid_38], axis = 0)\n",
    "# X_test = torch.concat([X_test,X_test_38], axis = 0)\n",
    "\n",
    "# y_train = torch.concat([y_train, y_train_38], axis = 0)\n",
    "# y_valid = torch.concat([y_valid, y_valid_38], axis = 0)\n",
    "# y_test = torch.concat([y_test, y_test_38], axis = 0)"
   ]
  },
  {
   "cell_type": "code",
   "execution_count": 12,
   "metadata": {
    "id": "ciaYCBHOGFlI"
   },
   "outputs": [],
   "source": [
    "X_train = torch.where(X_train_38 == 2.0, 2.0, 0.0)\n",
    "X_valid = torch.where(X_valid_38 == 2.0, 2.0, 0.0)\n",
    "X_test = torch.where(X_test_38 == 2.0, 2.0, 0.0)\n",
    "\n",
    "# X_train = torch.where(X_train == 2.0, 2.0, 0.0)\n",
    "# X_valid = torch.where(X_valid == 2.0, 2.0, 0.0)\n",
    "# X_test = torch.where(X_test == 2.0, 2.0, 0.0)"
   ]
  },
  {
   "cell_type": "code",
   "execution_count": 13,
   "metadata": {
    "id": "_CYmrzbXHpTB"
   },
   "outputs": [],
   "source": [
    "def _to_one_hot(y, num_classes):\n",
    "    scatter_dim = len(y.size())\n",
    "    y_tensor = y.view(*y.size(), -1)\n",
    "    zeros = torch.zeros(*y.size(), num_classes, dtype=y.dtype)\n",
    "    return zeros.scatter(scatter_dim, y_tensor, 1)\n",
    "y_train = _to_one_hot(y_train_38, 9)\n",
    "y_valid = _to_one_hot(y_valid_38, 9)\n",
    "y_test = _to_one_hot(y_test_38, 9)\n",
    "\n",
    "# y_train = _to_one_hot(y_train, 9)\n",
    "# y_valid = _to_one_hot(y_valid, 9)\n",
    "# y_test = _to_one_hot(y_test, 9)"
   ]
  },
  {
   "cell_type": "code",
   "execution_count": 14,
   "metadata": {
    "id": "wvIXKMkWyraE"
   },
   "outputs": [],
   "source": [
    "preprocess = T.Compose([\n",
    "   T.RandomHorizontalFlip(0.3),\n",
    "   T.RandomVerticalFlip(0.3) \n",
    "])"
   ]
  },
  {
   "cell_type": "code",
   "execution_count": 15,
   "metadata": {
    "id": "2EhRgRX8yW2k"
   },
   "outputs": [],
   "source": [
    "class WaferSet(Dataset):\n",
    "    def __init__(self, X, y, transform):\n",
    "        self.X = X\n",
    "        self.y = y\n",
    "        self.transformer = transform\n",
    "\n",
    "    def __getitem__(self, idx):\n",
    "        X = self.X[idx]\n",
    "        X = self.transformer(X)\n",
    "        y = self.y[idx]\n",
    "        return X, y\n",
    "\n",
    "    def __len__(self):\n",
    "        return len(self.X)"
   ]
  },
  {
   "cell_type": "code",
   "execution_count": 16,
   "metadata": {
    "id": "RDByjFPb6DJS"
   },
   "outputs": [],
   "source": [
    "train_dataset = WaferSet(X_train, y_train, preprocess)\n",
    "valid_dataset = torch.utils.data.TensorDataset(X_valid, y_valid)\n",
    "test_dataset = torch.utils.data.TensorDataset(X_test, y_test)"
   ]
  },
  {
   "cell_type": "code",
   "execution_count": 17,
   "metadata": {
    "id": "F0y3FVhr9lCW"
   },
   "outputs": [],
   "source": [
    "train_loader = DataLoader(train_dataset, batch_size = batch_size, shuffle = True, num_workers = 4, pin_memory = True)\n",
    "valid_loader = DataLoader(valid_dataset, batch_size = batch_size, shuffle = False, num_workers = 4, pin_memory = True)\n",
    "test_loader = DataLoader(test_dataset, batch_size = batch_size, shuffle = False, num_workers = 4, pin_memory = True)"
   ]
  },
  {
   "cell_type": "markdown",
   "metadata": {
    "id": "Md9Ai_8DA0G7"
   },
   "source": [
    "# Model"
   ]
  },
  {
   "cell_type": "code",
   "execution_count": 18,
   "metadata": {
    "id": "HNiCxkuHAl26"
   },
   "outputs": [],
   "source": [
    "class base_line(nn.Module):\n",
    "    def __init__(self):\n",
    "        super(base_line, self).__init__()\n",
    "        \n",
    "        self.fc1 = nn.Linear(256, 128, bias=True) # fully connected, \n",
    "        self.fc2 = nn.Linear(128, 128, bias = True)\n",
    "        self.fc3 = nn.Linear(128, 9, bias=True) #오류패턴 9개로 출력 9\n",
    "        self.tanh = nn.Tanh()\n",
    "        self.dropout = nn.Dropout(0.1)\n",
    "        \n",
    "        self.layer1 =nn.Sequential(\n",
    "            nn.Conv2d(1, 32, kernel_size=3, stride=2, padding = 1),#1번째 conv layer : 입력 층 3, 출력 32, Relu, Poolling으로 MAX 직용.\n",
    "            nn.ReLU(),\n",
    "            nn.MaxPool2d(kernel_size=2, stride=2, padding = 0))\n",
    "\n",
    "    \n",
    "        self.layer2 = nn.Sequential(\n",
    "            nn.Conv2d(32, 64, kernel_size=3, stride=1, padding = 1), #2번째 conv layer : 입력 층 32, 출력 64, Relu, Poolling으로 MAX 직용.\n",
    "            nn.ReLU(),\n",
    "            nn.MaxPool2d(kernel_size=2, stride=2, padding = 0))\n",
    "        \n",
    "\n",
    "        self.layer3 = nn.Sequential(\n",
    "            nn.Conv2d(64, 128, kernel_size=3, stride=1, padding = 1), #3번째 conv layer : 입력 층 64, 출력 128, Relu, Polling으로 Max 적용.\n",
    "            nn.ReLU(),\n",
    "            nn.MaxPool2d(kernel_size=2, stride=2, padding = 0))\n",
    "        \n",
    "        self.layer4 = nn.Sequential(\n",
    "            nn.Conv2d(128, 256, kernel_size=3, stride=2, padding = 3), #3번째 conv layer : 입력 층 64, 출력 128, Relu, Polling으로 Max 적용.\n",
    "            nn.ReLU(),\n",
    "            nn.MaxPool2d(kernel_size=2, stride=2, padding = 0))\n",
    "        self.layer5 = nn.Sequential(\n",
    "            self.dropout,\n",
    "            self.fc1,\n",
    "            self.tanh,\n",
    "            self.dropout,\n",
    "            self.fc2,\n",
    "            self.tanh\n",
    "        )\n",
    "        self.global_avg_pool = nn.AvgPool2d(kernel_size = 2,stride = 1, padding=0)\n",
    " \n",
    "\n",
    "        \n",
    "    # def printout(self, x):\n",
    "    #     out = self.layer1(x)\n",
    "    #     print(out)\n",
    "    #     out = self.layer2(out)\n",
    "    #     print(out)\n",
    "    #     out = self.layer3(out)\n",
    "    #     print(out)\n",
    "    #     out = self.layer4(out)\n",
    "    #     print(out)\n",
    "    #     out = self.global_avg_pool(out)\n",
    "    #     out = self.layer5(out)\n",
    "    #     print(out)\n",
    "    #     out = self.fc3(out)\n",
    "\n",
    "    def forward(self, x):\n",
    "        out = self.layer1(x)\n",
    "        out = self.layer2(out)\n",
    "        out = self.layer3(out)\n",
    "        out = self.layer4(out)\n",
    "        out = self.global_avg_pool(out)   # fully conntect를위해 flatten을 함.\n",
    "        out = out.view(-1, 256)\n",
    "        out = self.layer5(out)\n",
    "        out = self.fc3(out)\n",
    "        return out    \n",
    "\n",
    "base_line = base_line().to(device)"
   ]
  },
  {
   "cell_type": "markdown",
   "metadata": {
    "id": "iGxGo97wCU2x"
   },
   "source": [
    "# Train"
   ]
  },
  {
   "cell_type": "code",
   "execution_count": 19,
   "metadata": {
    "id": "86fD9FdldAYi"
   },
   "outputs": [],
   "source": [
    "# metric_fc = ArcMarginProduct(256, 9, s=32, m=0.5, easy_margin=False).to(device)\n",
    "# metric_fc"
   ]
  },
  {
   "cell_type": "code",
   "execution_count": 20,
   "metadata": {
    "id": "hPfXu6DPCsTh"
   },
   "outputs": [],
   "source": [
    "criterion = torch.nn.CrossEntropyLoss().to(device) # 비용 함수에 소프트맥스 함수 포함되어져 있음.\n",
    "# optimizer = torch.optim.AdamW([{'params': base_line.parameters()}, {'params': metric_fc.parameters()}], lr=0.0001, betas=(0.9, 0.999), eps=1e-08, weight_decay=0.01, amsgrad=False)\n",
    "optimizer = torch.optim.AdamW(base_line.parameters(), lr=lr)"
   ]
  },
  {
   "cell_type": "code",
   "execution_count": 21,
   "metadata": {
    "id": "iHU6-cZu7DDf"
   },
   "outputs": [],
   "source": [
    "def train_epoch(model, dataloader,loss_fn,optimizer):\n",
    "    train_loss,train_correct=0.0,0\n",
    "    model.train()\n",
    "    for images, labels in dataloader:\n",
    "        images = images.float().to(device)\n",
    "        labels = labels.float().reshape(images.size(0), 9).to(device)\n",
    "        optimizer.zero_grad()\n",
    "        output = model(images)\n",
    "        loss = loss_fn(output, labels)\n",
    "        loss.backward()\n",
    "        optimizer.step()\n",
    "        train_loss += loss.item() * images.size(0)\n",
    "        predictions = torch.argmax(output, 1)\n",
    "        labels = torch.argmax(labels, dim=1).float()\n",
    "        train_correct += (predictions == labels).sum().item()\n",
    "    return train_loss,train_correct\n",
    "  \n",
    "def valid_epoch(model,dataloader,loss_fn):\n",
    "    valid_loss, val_correct = 0.0, 0\n",
    "    model.eval()\n",
    "    for images, labels in dataloader:\n",
    "        images = images.float().to(device)\n",
    "        labels = labels.float().reshape(images.size(0), 9).to(device)\n",
    "        output = model(images)\n",
    "        loss=loss_fn(output,labels)\n",
    "        valid_loss+=loss.item() * images.size(0)\n",
    "        labels = torch.argmax(labels, dim=1).float()\n",
    "        predictions = torch.argmax(output, 1)\n",
    "        val_correct+=(predictions == labels).sum().item()\n",
    "    return valid_loss,val_correct"
   ]
  },
  {
   "cell_type": "code",
   "execution_count": 22,
   "metadata": {
    "id": "LRqnIIYsCUlB"
   },
   "outputs": [],
   "source": [
    "# def train_epoch(model, dataloader,loss_fn,optimizer):\n",
    "#     train_loss,train_correct=0.0,0\n",
    "#     model.train()\n",
    "#     for images, labels in dataloader:\n",
    "#         images = images.float().to(device)\n",
    "#         labels = labels.to(device)\n",
    "#         # labels = labels.float().reshape(images.size(0), 9).to(device)\n",
    "#         optimizer.zero_grad()\n",
    "#         embeded = model(images)\n",
    "#         output = metric_fc(embeded,labels)\n",
    "#         loss = loss_fn(output, labels)\n",
    "#         loss.backward()\n",
    "#         optimizer.step()\n",
    "#         train_loss += loss.item() * images.size(0)\n",
    "#         predictions = torch.argmax(output, 1)\n",
    "#         # labels = torch.argmax(labels, dim=1).float()\n",
    "#         train_correct += (predictions == labels).sum().item()\n",
    "#     return train_loss,train_correct\n",
    "  \n",
    "# def valid_epoch(model,dataloader,loss_fn):\n",
    "#     valid_loss, val_correct = 0.0, 0\n",
    "#     model.eval()\n",
    "#     for images, labels in dataloader:\n",
    "#         images = images.float().to(device)\n",
    "#         labels = labels.to(device)\n",
    "#         # labels = labels.float().reshape(images.size(0), 9).to(device)\n",
    "#         embeded = model(images)\n",
    "#         output = metric_fc(embeded, labels)\n",
    "#         loss=loss_fn(output,labels)\n",
    "#         valid_loss+=loss.item() * images.size(0)\n",
    "#         # labels = torch.argmax(labels, dim=1).float()\n",
    "#         predictions = torch.argmax(output, 1)\n",
    "#         val_correct+=(predictions == labels).sum().item()\n",
    "#     return valid_loss,val_correct"
   ]
  },
  {
   "cell_type": "code",
   "execution_count": 23,
   "metadata": {
    "id": "tFzk2jkqHJI1",
    "tags": []
   },
   "outputs": [
    {
     "name": "stdout",
     "output_type": "stream",
     "text": [
      "Epoch:1/1000 AVG Training Loss:2.194 AVG Test Loss:2.190 AVG Training Acc 14.08 % AVG Test Acc 15.57 %\n",
      "Validation loss decreased (inf --> 2.189614).  Saving model ...\n",
      "Epoch:2/1000 AVG Training Loss:2.184 AVG Test Loss:2.176 AVG Training Acc 13.39 % AVG Test Acc 12.49 %\n",
      "Validation loss decreased (2.189614 --> 2.176157).  Saving model ...\n",
      "Epoch:3/1000 AVG Training Loss:2.166 AVG Test Loss:2.153 AVG Training Acc 12.48 % AVG Test Acc 12.49 %\n",
      "Validation loss decreased (2.176157 --> 2.152934).  Saving model ...\n",
      "Epoch:4/1000 AVG Training Loss:2.141 AVG Test Loss:2.124 AVG Training Acc 12.46 % AVG Test Acc 12.49 %\n",
      "Validation loss decreased (2.152934 --> 2.124235).  Saving model ...\n",
      "Epoch:5/1000 AVG Training Loss:2.114 AVG Test Loss:2.101 AVG Training Acc 13.79 % AVG Test Acc 15.57 %\n",
      "Validation loss decreased (2.124235 --> 2.101317).  Saving model ...\n",
      "Epoch:6/1000 AVG Training Loss:2.094 AVG Test Loss:2.081 AVG Training Acc 20.47 % AVG Test Acc 22.90 %\n",
      "Validation loss decreased (2.101317 --> 2.080897).  Saving model ...\n",
      "Epoch:7/1000 AVG Training Loss:2.073 AVG Test Loss:2.055 AVG Training Acc 24.48 % AVG Test Acc 24.15 %\n",
      "Validation loss decreased (2.080897 --> 2.054770).  Saving model ...\n",
      "Epoch:8/1000 AVG Training Loss:2.041 AVG Test Loss:2.016 AVG Training Acc 27.31 % AVG Test Acc 29.64 %\n",
      "Validation loss decreased (2.054770 --> 2.015828).  Saving model ...\n",
      "Epoch:9/1000 AVG Training Loss:1.993 AVG Test Loss:1.958 AVG Training Acc 33.32 % AVG Test Acc 41.80 %\n",
      "Validation loss decreased (2.015828 --> 1.958213).  Saving model ...\n",
      "Epoch:10/1000 AVG Training Loss:1.927 AVG Test Loss:1.882 AVG Training Acc 38.66 % AVG Test Acc 43.46 %\n",
      "Validation loss decreased (1.958213 --> 1.882274).  Saving model ...\n",
      "Epoch:11/1000 AVG Training Loss:1.848 AVG Test Loss:1.799 AVG Training Acc 42.53 % AVG Test Acc 48.04 %\n",
      "Validation loss decreased (1.882274 --> 1.799126).  Saving model ...\n",
      "Epoch:12/1000 AVG Training Loss:1.767 AVG Test Loss:1.716 AVG Training Acc 48.21 % AVG Test Acc 53.71 %\n",
      "Validation loss decreased (1.799126 --> 1.716496).  Saving model ...\n",
      "Epoch:13/1000 AVG Training Loss:1.686 AVG Test Loss:1.638 AVG Training Acc 55.07 % AVG Test Acc 56.62 %\n",
      "Validation loss decreased (1.716496 --> 1.638103).  Saving model ...\n",
      "Epoch:14/1000 AVG Training Loss:1.613 AVG Test Loss:1.565 AVG Training Acc 57.55 % AVG Test Acc 59.53 %\n",
      "Validation loss decreased (1.638103 --> 1.565402).  Saving model ...\n",
      "Epoch:15/1000 AVG Training Loss:1.546 AVG Test Loss:1.499 AVG Training Acc 60.02 % AVG Test Acc 60.12 %\n",
      "Validation loss decreased (1.565402 --> 1.498747).  Saving model ...\n",
      "Epoch:16/1000 AVG Training Loss:1.487 AVG Test Loss:1.438 AVG Training Acc 60.84 % AVG Test Acc 60.70 %\n",
      "Validation loss decreased (1.498747 --> 1.438363).  Saving model ...\n",
      "Epoch:17/1000 AVG Training Loss:1.429 AVG Test Loss:1.381 AVG Training Acc 62.73 % AVG Test Acc 62.86 %\n",
      "Validation loss decreased (1.438363 --> 1.381043).  Saving model ...\n",
      "Epoch:18/1000 AVG Training Loss:1.380 AVG Test Loss:1.329 AVG Training Acc 63.17 % AVG Test Acc 64.03 %\n",
      "Validation loss decreased (1.381043 --> 1.328665).  Saving model ...\n",
      "Epoch:19/1000 AVG Training Loss:1.330 AVG Test Loss:1.280 AVG Training Acc 64.68 % AVG Test Acc 65.45 %\n",
      "Validation loss decreased (1.328665 --> 1.280003).  Saving model ...\n",
      "Epoch:20/1000 AVG Training Loss:1.291 AVG Test Loss:1.238 AVG Training Acc 66.66 % AVG Test Acc 64.78 %\n",
      "Validation loss decreased (1.280003 --> 1.238257).  Saving model ...\n",
      "Epoch:21/1000 AVG Training Loss:1.246 AVG Test Loss:1.191 AVG Training Acc 66.10 % AVG Test Acc 67.69 %\n",
      "Validation loss decreased (1.238257 --> 1.191067).  Saving model ...\n",
      "Epoch:22/1000 AVG Training Loss:1.204 AVG Test Loss:1.150 AVG Training Acc 68.45 % AVG Test Acc 68.61 %\n",
      "Validation loss decreased (1.191067 --> 1.150413).  Saving model ...\n",
      "Epoch:23/1000 AVG Training Loss:1.166 AVG Test Loss:1.111 AVG Training Acc 69.11 % AVG Test Acc 69.03 %\n",
      "Validation loss decreased (1.150413 --> 1.111275).  Saving model ...\n",
      "Epoch:24/1000 AVG Training Loss:1.131 AVG Test Loss:1.074 AVG Training Acc 70.49 % AVG Test Acc 71.11 %\n",
      "Validation loss decreased (1.111275 --> 1.074070).  Saving model ...\n",
      "Epoch:25/1000 AVG Training Loss:1.096 AVG Test Loss:1.041 AVG Training Acc 71.26 % AVG Test Acc 71.69 %\n",
      "Validation loss decreased (1.074070 --> 1.041306).  Saving model ...\n",
      "Epoch:26/1000 AVG Training Loss:1.064 AVG Test Loss:1.008 AVG Training Acc 71.82 % AVG Test Acc 74.27 %\n",
      "Validation loss decreased (1.041306 --> 1.007886).  Saving model ...\n",
      "Epoch:27/1000 AVG Training Loss:1.035 AVG Test Loss:0.979 AVG Training Acc 73.94 % AVG Test Acc 75.27 %\n",
      "Validation loss decreased (1.007886 --> 0.978987).  Saving model ...\n",
      "Epoch:28/1000 AVG Training Loss:1.004 AVG Test Loss:0.953 AVG Training Acc 74.65 % AVG Test Acc 74.85 %\n",
      "Validation loss decreased (0.978987 --> 0.952648).  Saving model ...\n",
      "Epoch:29/1000 AVG Training Loss:0.981 AVG Test Loss:0.925 AVG Training Acc 75.06 % AVG Test Acc 77.27 %\n",
      "Validation loss decreased (0.952648 --> 0.924693).  Saving model ...\n",
      "Epoch:30/1000 AVG Training Loss:0.954 AVG Test Loss:0.900 AVG Training Acc 75.04 % AVG Test Acc 77.94 %\n",
      "Validation loss decreased (0.924693 --> 0.900260).  Saving model ...\n",
      "Epoch:31/1000 AVG Training Loss:0.931 AVG Test Loss:0.877 AVG Training Acc 76.29 % AVG Test Acc 78.60 %\n",
      "Validation loss decreased (0.900260 --> 0.877464).  Saving model ...\n",
      "Epoch:32/1000 AVG Training Loss:0.913 AVG Test Loss:0.859 AVG Training Acc 76.52 % AVG Test Acc 77.77 %\n",
      "Validation loss decreased (0.877464 --> 0.859102).  Saving model ...\n",
      "Epoch:33/1000 AVG Training Loss:0.888 AVG Test Loss:0.836 AVG Training Acc 77.97 % AVG Test Acc 79.18 %\n",
      "Validation loss decreased (0.859102 --> 0.836390).  Saving model ...\n",
      "Epoch:34/1000 AVG Training Loss:0.869 AVG Test Loss:0.818 AVG Training Acc 78.12 % AVG Test Acc 79.60 %\n",
      "Validation loss decreased (0.836390 --> 0.817878).  Saving model ...\n",
      "Epoch:35/1000 AVG Training Loss:0.851 AVG Test Loss:0.799 AVG Training Acc 79.18 % AVG Test Acc 79.60 %\n",
      "Validation loss decreased (0.817878 --> 0.799008).  Saving model ...\n",
      "Epoch:36/1000 AVG Training Loss:0.834 AVG Test Loss:0.781 AVG Training Acc 79.41 % AVG Test Acc 80.43 %\n",
      "Validation loss decreased (0.799008 --> 0.781186).  Saving model ...\n",
      "Epoch:37/1000 AVG Training Loss:0.817 AVG Test Loss:0.766 AVG Training Acc 79.70 % AVG Test Acc 81.27 %\n",
      "Validation loss decreased (0.781186 --> 0.765638).  Saving model ...\n",
      "Epoch:38/1000 AVG Training Loss:0.800 AVG Test Loss:0.749 AVG Training Acc 80.66 % AVG Test Acc 80.93 %\n",
      "Validation loss decreased (0.765638 --> 0.748591).  Saving model ...\n",
      "Epoch:39/1000 AVG Training Loss:0.784 AVG Test Loss:0.734 AVG Training Acc 80.49 % AVG Test Acc 81.43 %\n",
      "Validation loss decreased (0.748591 --> 0.733536).  Saving model ...\n",
      "Epoch:40/1000 AVG Training Loss:0.770 AVG Test Loss:0.719 AVG Training Acc 80.51 % AVG Test Acc 81.60 %\n",
      "Validation loss decreased (0.733536 --> 0.718917).  Saving model ...\n",
      "Epoch:41/1000 AVG Training Loss:0.758 AVG Test Loss:0.705 AVG Training Acc 81.32 % AVG Test Acc 82.18 %\n",
      "Validation loss decreased (0.718917 --> 0.705485).  Saving model ...\n",
      "Epoch:42/1000 AVG Training Loss:0.741 AVG Test Loss:0.693 AVG Training Acc 81.43 % AVG Test Acc 81.77 %\n",
      "Validation loss decreased (0.705485 --> 0.693466).  Saving model ...\n",
      "Epoch:43/1000 AVG Training Loss:0.729 AVG Test Loss:0.680 AVG Training Acc 81.49 % AVG Test Acc 82.76 %\n",
      "Validation loss decreased (0.693466 --> 0.679775).  Saving model ...\n",
      "Epoch:44/1000 AVG Training Loss:0.714 AVG Test Loss:0.667 AVG Training Acc 82.32 % AVG Test Acc 83.18 %\n",
      "Validation loss decreased (0.679775 --> 0.667044).  Saving model ...\n",
      "Epoch:45/1000 AVG Training Loss:0.703 AVG Test Loss:0.656 AVG Training Acc 81.57 % AVG Test Acc 82.76 %\n",
      "Validation loss decreased (0.667044 --> 0.655796).  Saving model ...\n",
      "Epoch:46/1000 AVG Training Loss:0.692 AVG Test Loss:0.646 AVG Training Acc 82.36 % AVG Test Acc 82.51 %\n",
      "Validation loss decreased (0.655796 --> 0.646265).  Saving model ...\n",
      "Epoch:47/1000 AVG Training Loss:0.681 AVG Test Loss:0.633 AVG Training Acc 82.18 % AVG Test Acc 83.85 %\n",
      "Validation loss decreased (0.646265 --> 0.633429).  Saving model ...\n",
      "Epoch:48/1000 AVG Training Loss:0.670 AVG Test Loss:0.623 AVG Training Acc 82.97 % AVG Test Acc 83.76 %\n",
      "Validation loss decreased (0.633429 --> 0.623154).  Saving model ...\n",
      "Epoch:49/1000 AVG Training Loss:0.664 AVG Test Loss:0.614 AVG Training Acc 82.61 % AVG Test Acc 83.68 %\n",
      "Validation loss decreased (0.623154 --> 0.613696).  Saving model ...\n",
      "Epoch:50/1000 AVG Training Loss:0.650 AVG Test Loss:0.606 AVG Training Acc 83.03 % AVG Test Acc 83.26 %\n",
      "Validation loss decreased (0.613696 --> 0.606392).  Saving model ...\n",
      "Epoch:51/1000 AVG Training Loss:0.642 AVG Test Loss:0.595 AVG Training Acc 82.57 % AVG Test Acc 83.93 %\n",
      "Validation loss decreased (0.606392 --> 0.595320).  Saving model ...\n",
      "Epoch:52/1000 AVG Training Loss:0.630 AVG Test Loss:0.589 AVG Training Acc 83.67 % AVG Test Acc 83.43 %\n",
      "Validation loss decreased (0.595320 --> 0.588526).  Saving model ...\n",
      "Epoch:53/1000 AVG Training Loss:0.620 AVG Test Loss:0.577 AVG Training Acc 83.82 % AVG Test Acc 84.76 %\n",
      "Validation loss decreased (0.588526 --> 0.576506).  Saving model ...\n",
      "Epoch:54/1000 AVG Training Loss:0.615 AVG Test Loss:0.570 AVG Training Acc 82.86 % AVG Test Acc 84.35 %\n",
      "Validation loss decreased (0.576506 --> 0.569899).  Saving model ...\n",
      "Epoch:55/1000 AVG Training Loss:0.603 AVG Test Loss:0.561 AVG Training Acc 83.55 % AVG Test Acc 84.35 %\n",
      "Validation loss decreased (0.569899 --> 0.561361).  Saving model ...\n",
      "Epoch:56/1000 AVG Training Loss:0.595 AVG Test Loss:0.555 AVG Training Acc 83.88 % AVG Test Acc 83.85 %\n",
      "Validation loss decreased (0.561361 --> 0.555249).  Saving model ...\n",
      "Epoch:57/1000 AVG Training Loss:0.586 AVG Test Loss:0.546 AVG Training Acc 84.30 % AVG Test Acc 84.26 %\n",
      "Validation loss decreased (0.555249 --> 0.546456).  Saving model ...\n",
      "Epoch:58/1000 AVG Training Loss:0.578 AVG Test Loss:0.539 AVG Training Acc 84.38 % AVG Test Acc 84.85 %\n",
      "Validation loss decreased (0.546456 --> 0.538647).  Saving model ...\n",
      "Epoch:59/1000 AVG Training Loss:0.575 AVG Test Loss:0.532 AVG Training Acc 84.19 % AVG Test Acc 84.76 %\n",
      "Validation loss decreased (0.538647 --> 0.531648).  Saving model ...\n",
      "Epoch:60/1000 AVG Training Loss:0.568 AVG Test Loss:0.526 AVG Training Acc 84.28 % AVG Test Acc 84.68 %\n",
      "Validation loss decreased (0.531648 --> 0.526210).  Saving model ...\n",
      "Epoch:61/1000 AVG Training Loss:0.560 AVG Test Loss:0.519 AVG Training Acc 84.53 % AVG Test Acc 84.68 %\n",
      "Validation loss decreased (0.526210 --> 0.519497).  Saving model ...\n",
      "Epoch:62/1000 AVG Training Loss:0.552 AVG Test Loss:0.514 AVG Training Acc 84.48 % AVG Test Acc 84.68 %\n",
      "Validation loss decreased (0.519497 --> 0.514122).  Saving model ...\n",
      "Epoch:63/1000 AVG Training Loss:0.549 AVG Test Loss:0.506 AVG Training Acc 84.11 % AVG Test Acc 85.26 %\n",
      "Validation loss decreased (0.514122 --> 0.506161).  Saving model ...\n",
      "Epoch:64/1000 AVG Training Loss:0.540 AVG Test Loss:0.501 AVG Training Acc 84.48 % AVG Test Acc 85.26 %\n",
      "Validation loss decreased (0.506161 --> 0.500910).  Saving model ...\n",
      "Epoch:65/1000 AVG Training Loss:0.534 AVG Test Loss:0.497 AVG Training Acc 84.61 % AVG Test Acc 85.01 %\n",
      "Validation loss decreased (0.500910 --> 0.496991).  Saving model ...\n",
      "Epoch:66/1000 AVG Training Loss:0.526 AVG Test Loss:0.491 AVG Training Acc 84.75 % AVG Test Acc 85.01 %\n",
      "Validation loss decreased (0.496991 --> 0.490987).  Saving model ...\n",
      "Epoch:67/1000 AVG Training Loss:0.523 AVG Test Loss:0.484 AVG Training Acc 84.55 % AVG Test Acc 85.35 %\n",
      "Validation loss decreased (0.490987 --> 0.484440).  Saving model ...\n",
      "Epoch:68/1000 AVG Training Loss:0.515 AVG Test Loss:0.479 AVG Training Acc 85.61 % AVG Test Acc 85.51 %\n",
      "Validation loss decreased (0.484440 --> 0.478675).  Saving model ...\n",
      "Epoch:69/1000 AVG Training Loss:0.514 AVG Test Loss:0.473 AVG Training Acc 84.57 % AVG Test Acc 85.43 %\n",
      "Validation loss decreased (0.478675 --> 0.473093).  Saving model ...\n",
      "Epoch:70/1000 AVG Training Loss:0.506 AVG Test Loss:0.468 AVG Training Acc 85.27 % AVG Test Acc 85.76 %\n",
      "Validation loss decreased (0.473093 --> 0.468043).  Saving model ...\n",
      "Epoch:71/1000 AVG Training Loss:0.498 AVG Test Loss:0.464 AVG Training Acc 85.34 % AVG Test Acc 85.85 %\n",
      "Validation loss decreased (0.468043 --> 0.464368).  Saving model ...\n",
      "Epoch:72/1000 AVG Training Loss:0.495 AVG Test Loss:0.460 AVG Training Acc 85.57 % AVG Test Acc 85.93 %\n",
      "Validation loss decreased (0.464368 --> 0.460149).  Saving model ...\n",
      "Epoch:73/1000 AVG Training Loss:0.489 AVG Test Loss:0.455 AVG Training Acc 85.92 % AVG Test Acc 85.85 %\n",
      "Validation loss decreased (0.460149 --> 0.454862).  Saving model ...\n",
      "Epoch:74/1000 AVG Training Loss:0.484 AVG Test Loss:0.453 AVG Training Acc 85.69 % AVG Test Acc 85.43 %\n",
      "Validation loss decreased (0.454862 --> 0.453208).  Saving model ...\n",
      "Epoch:75/1000 AVG Training Loss:0.482 AVG Test Loss:0.448 AVG Training Acc 85.65 % AVG Test Acc 85.68 %\n",
      "Validation loss decreased (0.453208 --> 0.447586).  Saving model ...\n",
      "Epoch:76/1000 AVG Training Loss:0.476 AVG Test Loss:0.445 AVG Training Acc 86.00 % AVG Test Acc 85.68 %\n",
      "Validation loss decreased (0.447586 --> 0.445467).  Saving model ...\n",
      "Epoch:77/1000 AVG Training Loss:0.470 AVG Test Loss:0.441 AVG Training Acc 85.79 % AVG Test Acc 85.76 %\n",
      "Validation loss decreased (0.445467 --> 0.440621).  Saving model ...\n",
      "Epoch:78/1000 AVG Training Loss:0.466 AVG Test Loss:0.436 AVG Training Acc 85.94 % AVG Test Acc 85.85 %\n",
      "Validation loss decreased (0.440621 --> 0.435545).  Saving model ...\n",
      "Epoch:79/1000 AVG Training Loss:0.458 AVG Test Loss:0.432 AVG Training Acc 86.17 % AVG Test Acc 85.93 %\n",
      "Validation loss decreased (0.435545 --> 0.431902).  Saving model ...\n",
      "Epoch:80/1000 AVG Training Loss:0.457 AVG Test Loss:0.427 AVG Training Acc 85.84 % AVG Test Acc 86.18 %\n",
      "Validation loss decreased (0.431902 --> 0.426685).  Saving model ...\n",
      "Epoch:81/1000 AVG Training Loss:0.458 AVG Test Loss:0.423 AVG Training Acc 85.57 % AVG Test Acc 86.01 %\n",
      "Validation loss decreased (0.426685 --> 0.423344).  Saving model ...\n",
      "Epoch:82/1000 AVG Training Loss:0.445 AVG Test Loss:0.420 AVG Training Acc 86.61 % AVG Test Acc 86.09 %\n",
      "Validation loss decreased (0.423344 --> 0.420277).  Saving model ...\n",
      "Epoch:83/1000 AVG Training Loss:0.449 AVG Test Loss:0.417 AVG Training Acc 86.17 % AVG Test Acc 86.59 %\n",
      "Validation loss decreased (0.420277 --> 0.416660).  Saving model ...\n",
      "Epoch:84/1000 AVG Training Loss:0.442 AVG Test Loss:0.413 AVG Training Acc 86.48 % AVG Test Acc 86.01 %\n",
      "Validation loss decreased (0.416660 --> 0.413332).  Saving model ...\n",
      "Epoch:85/1000 AVG Training Loss:0.441 AVG Test Loss:0.411 AVG Training Acc 86.56 % AVG Test Acc 86.43 %\n",
      "Validation loss decreased (0.413332 --> 0.410712).  Saving model ...\n",
      "Epoch:86/1000 AVG Training Loss:0.437 AVG Test Loss:0.407 AVG Training Acc 86.04 % AVG Test Acc 86.34 %\n",
      "Validation loss decreased (0.410712 --> 0.406998).  Saving model ...\n",
      "Epoch:87/1000 AVG Training Loss:0.432 AVG Test Loss:0.402 AVG Training Acc 86.94 % AVG Test Acc 86.34 %\n",
      "Validation loss decreased (0.406998 --> 0.401972).  Saving model ...\n",
      "Epoch:88/1000 AVG Training Loss:0.428 AVG Test Loss:0.403 AVG Training Acc 86.65 % AVG Test Acc 86.59 %\n",
      "EarlyStopping counter: 1 out of 20\n",
      "Epoch:89/1000 AVG Training Loss:0.429 AVG Test Loss:0.399 AVG Training Acc 86.54 % AVG Test Acc 86.76 %\n",
      "Validation loss decreased (0.401972 --> 0.399260).  Saving model ...\n",
      "Epoch:90/1000 AVG Training Loss:0.422 AVG Test Loss:0.395 AVG Training Acc 86.69 % AVG Test Acc 86.51 %\n",
      "Validation loss decreased (0.399260 --> 0.395226).  Saving model ...\n",
      "Epoch:91/1000 AVG Training Loss:0.417 AVG Test Loss:0.390 AVG Training Acc 87.04 % AVG Test Acc 86.84 %\n",
      "Validation loss decreased (0.395226 --> 0.389710).  Saving model ...\n",
      "Epoch:92/1000 AVG Training Loss:0.416 AVG Test Loss:0.387 AVG Training Acc 87.00 % AVG Test Acc 86.76 %\n",
      "Validation loss decreased (0.389710 --> 0.387349).  Saving model ...\n",
      "Epoch:93/1000 AVG Training Loss:0.412 AVG Test Loss:0.389 AVG Training Acc 87.29 % AVG Test Acc 86.68 %\n",
      "EarlyStopping counter: 1 out of 20\n",
      "Epoch:94/1000 AVG Training Loss:0.412 AVG Test Loss:0.384 AVG Training Acc 87.02 % AVG Test Acc 86.84 %\n",
      "Validation loss decreased (0.387349 --> 0.384187).  Saving model ...\n",
      "Epoch:95/1000 AVG Training Loss:0.408 AVG Test Loss:0.382 AVG Training Acc 86.86 % AVG Test Acc 86.93 %\n",
      "Validation loss decreased (0.384187 --> 0.382398).  Saving model ...\n",
      "Epoch:96/1000 AVG Training Loss:0.404 AVG Test Loss:0.377 AVG Training Acc 87.27 % AVG Test Acc 87.18 %\n",
      "Validation loss decreased (0.382398 --> 0.376809).  Saving model ...\n",
      "Epoch:97/1000 AVG Training Loss:0.396 AVG Test Loss:0.374 AVG Training Acc 87.38 % AVG Test Acc 87.43 %\n",
      "Validation loss decreased (0.376809 --> 0.373641).  Saving model ...\n",
      "Epoch:98/1000 AVG Training Loss:0.396 AVG Test Loss:0.371 AVG Training Acc 87.27 % AVG Test Acc 87.18 %\n",
      "Validation loss decreased (0.373641 --> 0.371376).  Saving model ...\n",
      "Epoch:99/1000 AVG Training Loss:0.395 AVG Test Loss:0.373 AVG Training Acc 87.13 % AVG Test Acc 86.84 %\n",
      "EarlyStopping counter: 1 out of 20\n",
      "Epoch:100/1000 AVG Training Loss:0.395 AVG Test Loss:0.368 AVG Training Acc 87.29 % AVG Test Acc 87.43 %\n",
      "Validation loss decreased (0.371376 --> 0.368360).  Saving model ...\n",
      "Epoch:101/1000 AVG Training Loss:0.387 AVG Test Loss:0.366 AVG Training Acc 87.48 % AVG Test Acc 87.43 %\n",
      "Validation loss decreased (0.368360 --> 0.365676).  Saving model ...\n",
      "Epoch:102/1000 AVG Training Loss:0.388 AVG Test Loss:0.362 AVG Training Acc 87.33 % AVG Test Acc 87.51 %\n",
      "Validation loss decreased (0.365676 --> 0.362100).  Saving model ...\n",
      "Epoch:103/1000 AVG Training Loss:0.383 AVG Test Loss:0.359 AVG Training Acc 87.48 % AVG Test Acc 87.51 %\n",
      "Validation loss decreased (0.362100 --> 0.359100).  Saving model ...\n",
      "Epoch:104/1000 AVG Training Loss:0.377 AVG Test Loss:0.356 AVG Training Acc 87.60 % AVG Test Acc 87.59 %\n",
      "Validation loss decreased (0.359100 --> 0.355875).  Saving model ...\n",
      "Epoch:105/1000 AVG Training Loss:0.376 AVG Test Loss:0.355 AVG Training Acc 87.98 % AVG Test Acc 87.68 %\n",
      "Validation loss decreased (0.355875 --> 0.354515).  Saving model ...\n",
      "Epoch:106/1000 AVG Training Loss:0.376 AVG Test Loss:0.353 AVG Training Acc 87.79 % AVG Test Acc 87.76 %\n",
      "Validation loss decreased (0.354515 --> 0.353123).  Saving model ...\n",
      "Epoch:107/1000 AVG Training Loss:0.373 AVG Test Loss:0.350 AVG Training Acc 87.94 % AVG Test Acc 87.84 %\n",
      "Validation loss decreased (0.353123 --> 0.350166).  Saving model ...\n",
      "Epoch:108/1000 AVG Training Loss:0.372 AVG Test Loss:0.349 AVG Training Acc 88.06 % AVG Test Acc 87.68 %\n",
      "Validation loss decreased (0.350166 --> 0.348538).  Saving model ...\n",
      "Epoch:109/1000 AVG Training Loss:0.369 AVG Test Loss:0.346 AVG Training Acc 87.85 % AVG Test Acc 87.84 %\n",
      "Validation loss decreased (0.348538 --> 0.346248).  Saving model ...\n",
      "Epoch:110/1000 AVG Training Loss:0.368 AVG Test Loss:0.344 AVG Training Acc 87.85 % AVG Test Acc 88.09 %\n",
      "Validation loss decreased (0.346248 --> 0.343627).  Saving model ...\n",
      "Epoch:111/1000 AVG Training Loss:0.365 AVG Test Loss:0.343 AVG Training Acc 87.94 % AVG Test Acc 88.18 %\n",
      "Validation loss decreased (0.343627 --> 0.342672).  Saving model ...\n",
      "Epoch:112/1000 AVG Training Loss:0.359 AVG Test Loss:0.343 AVG Training Acc 87.94 % AVG Test Acc 87.84 %\n",
      "EarlyStopping counter: 1 out of 20\n",
      "Epoch:113/1000 AVG Training Loss:0.362 AVG Test Loss:0.340 AVG Training Acc 88.17 % AVG Test Acc 88.18 %\n",
      "Validation loss decreased (0.342672 --> 0.340131).  Saving model ...\n",
      "Epoch:114/1000 AVG Training Loss:0.363 AVG Test Loss:0.338 AVG Training Acc 88.02 % AVG Test Acc 88.09 %\n",
      "Validation loss decreased (0.340131 --> 0.337668).  Saving model ...\n",
      "Epoch:115/1000 AVG Training Loss:0.353 AVG Test Loss:0.335 AVG Training Acc 88.35 % AVG Test Acc 88.09 %\n",
      "Validation loss decreased (0.337668 --> 0.334905).  Saving model ...\n",
      "Epoch:116/1000 AVG Training Loss:0.352 AVG Test Loss:0.336 AVG Training Acc 88.69 % AVG Test Acc 88.09 %\n",
      "EarlyStopping counter: 1 out of 20\n",
      "Epoch:117/1000 AVG Training Loss:0.349 AVG Test Loss:0.331 AVG Training Acc 88.37 % AVG Test Acc 88.18 %\n",
      "Validation loss decreased (0.334905 --> 0.330696).  Saving model ...\n",
      "Epoch:118/1000 AVG Training Loss:0.346 AVG Test Loss:0.330 AVG Training Acc 88.64 % AVG Test Acc 88.51 %\n",
      "Validation loss decreased (0.330696 --> 0.329512).  Saving model ...\n",
      "Epoch:119/1000 AVG Training Loss:0.350 AVG Test Loss:0.328 AVG Training Acc 88.42 % AVG Test Acc 88.34 %\n",
      "Validation loss decreased (0.329512 --> 0.327901).  Saving model ...\n",
      "Epoch:120/1000 AVG Training Loss:0.344 AVG Test Loss:0.324 AVG Training Acc 88.81 % AVG Test Acc 88.34 %\n",
      "Validation loss decreased (0.327901 --> 0.323952).  Saving model ...\n",
      "Epoch:121/1000 AVG Training Loss:0.342 AVG Test Loss:0.327 AVG Training Acc 88.54 % AVG Test Acc 88.09 %\n",
      "EarlyStopping counter: 1 out of 20\n",
      "Epoch:122/1000 AVG Training Loss:0.342 AVG Test Loss:0.325 AVG Training Acc 88.54 % AVG Test Acc 88.43 %\n",
      "EarlyStopping counter: 2 out of 20\n",
      "Epoch:123/1000 AVG Training Loss:0.341 AVG Test Loss:0.319 AVG Training Acc 88.62 % AVG Test Acc 88.51 %\n",
      "Validation loss decreased (0.323952 --> 0.318851).  Saving model ...\n",
      "Epoch:124/1000 AVG Training Loss:0.338 AVG Test Loss:0.317 AVG Training Acc 88.35 % AVG Test Acc 89.09 %\n",
      "Validation loss decreased (0.318851 --> 0.316808).  Saving model ...\n",
      "Epoch:125/1000 AVG Training Loss:0.333 AVG Test Loss:0.314 AVG Training Acc 89.06 % AVG Test Acc 89.01 %\n",
      "Validation loss decreased (0.316808 --> 0.314430).  Saving model ...\n",
      "Epoch:126/1000 AVG Training Loss:0.335 AVG Test Loss:0.314 AVG Training Acc 88.91 % AVG Test Acc 88.59 %\n",
      "EarlyStopping counter: 1 out of 20\n",
      "Epoch:127/1000 AVG Training Loss:0.328 AVG Test Loss:0.311 AVG Training Acc 88.87 % AVG Test Acc 88.93 %\n",
      "Validation loss decreased (0.314430 --> 0.311174).  Saving model ...\n",
      "Epoch:128/1000 AVG Training Loss:0.328 AVG Test Loss:0.313 AVG Training Acc 89.06 % AVG Test Acc 88.59 %\n",
      "EarlyStopping counter: 1 out of 20\n",
      "Epoch:129/1000 AVG Training Loss:0.332 AVG Test Loss:0.309 AVG Training Acc 88.69 % AVG Test Acc 89.18 %\n",
      "Validation loss decreased (0.311174 --> 0.308997).  Saving model ...\n",
      "Epoch:130/1000 AVG Training Loss:0.324 AVG Test Loss:0.308 AVG Training Acc 89.41 % AVG Test Acc 88.84 %\n",
      "Validation loss decreased (0.308997 --> 0.307779).  Saving model ...\n",
      "Epoch:131/1000 AVG Training Loss:0.326 AVG Test Loss:0.305 AVG Training Acc 89.02 % AVG Test Acc 89.43 %\n",
      "Validation loss decreased (0.307779 --> 0.304949).  Saving model ...\n",
      "Epoch:132/1000 AVG Training Loss:0.321 AVG Test Loss:0.303 AVG Training Acc 89.14 % AVG Test Acc 89.26 %\n",
      "Validation loss decreased (0.304949 --> 0.303319).  Saving model ...\n",
      "Epoch:133/1000 AVG Training Loss:0.320 AVG Test Loss:0.303 AVG Training Acc 89.10 % AVG Test Acc 89.34 %\n",
      "Validation loss decreased (0.303319 --> 0.302579).  Saving model ...\n",
      "Epoch:134/1000 AVG Training Loss:0.320 AVG Test Loss:0.300 AVG Training Acc 89.12 % AVG Test Acc 89.51 %\n",
      "Validation loss decreased (0.302579 --> 0.299840).  Saving model ...\n",
      "Epoch:135/1000 AVG Training Loss:0.317 AVG Test Loss:0.301 AVG Training Acc 89.14 % AVG Test Acc 89.18 %\n",
      "EarlyStopping counter: 1 out of 20\n",
      "Epoch:136/1000 AVG Training Loss:0.316 AVG Test Loss:0.298 AVG Training Acc 89.29 % AVG Test Acc 89.51 %\n",
      "Validation loss decreased (0.299840 --> 0.297901).  Saving model ...\n",
      "Epoch:137/1000 AVG Training Loss:0.318 AVG Test Loss:0.295 AVG Training Acc 88.81 % AVG Test Acc 89.76 %\n",
      "Validation loss decreased (0.297901 --> 0.294928).  Saving model ...\n",
      "Epoch:138/1000 AVG Training Loss:0.311 AVG Test Loss:0.295 AVG Training Acc 89.41 % AVG Test Acc 89.34 %\n",
      "EarlyStopping counter: 1 out of 20\n",
      "Epoch:139/1000 AVG Training Loss:0.312 AVG Test Loss:0.296 AVG Training Acc 89.04 % AVG Test Acc 89.26 %\n",
      "EarlyStopping counter: 2 out of 20\n",
      "Epoch:140/1000 AVG Training Loss:0.315 AVG Test Loss:0.294 AVG Training Acc 89.21 % AVG Test Acc 89.43 %\n",
      "Validation loss decreased (0.294928 --> 0.294394).  Saving model ...\n",
      "Epoch:141/1000 AVG Training Loss:0.305 AVG Test Loss:0.288 AVG Training Acc 89.58 % AVG Test Acc 89.68 %\n",
      "Validation loss decreased (0.294394 --> 0.287528).  Saving model ...\n",
      "Epoch:142/1000 AVG Training Loss:0.307 AVG Test Loss:0.287 AVG Training Acc 89.16 % AVG Test Acc 89.93 %\n",
      "Validation loss decreased (0.287528 --> 0.287312).  Saving model ...\n",
      "Epoch:143/1000 AVG Training Loss:0.308 AVG Test Loss:0.288 AVG Training Acc 89.41 % AVG Test Acc 89.76 %\n",
      "EarlyStopping counter: 1 out of 20\n",
      "Epoch:144/1000 AVG Training Loss:0.300 AVG Test Loss:0.285 AVG Training Acc 89.75 % AVG Test Acc 89.51 %\n",
      "Validation loss decreased (0.287312 --> 0.285151).  Saving model ...\n",
      "Epoch:145/1000 AVG Training Loss:0.302 AVG Test Loss:0.285 AVG Training Acc 89.60 % AVG Test Acc 90.01 %\n",
      "Validation loss decreased (0.285151 --> 0.284822).  Saving model ...\n",
      "Epoch:146/1000 AVG Training Loss:0.304 AVG Test Loss:0.287 AVG Training Acc 89.35 % AVG Test Acc 89.59 %\n",
      "EarlyStopping counter: 1 out of 20\n",
      "Epoch:147/1000 AVG Training Loss:0.302 AVG Test Loss:0.286 AVG Training Acc 89.46 % AVG Test Acc 89.84 %\n",
      "EarlyStopping counter: 2 out of 20\n",
      "Epoch:148/1000 AVG Training Loss:0.299 AVG Test Loss:0.280 AVG Training Acc 89.79 % AVG Test Acc 89.84 %\n",
      "Validation loss decreased (0.284822 --> 0.280140).  Saving model ...\n",
      "Epoch:149/1000 AVG Training Loss:0.303 AVG Test Loss:0.277 AVG Training Acc 89.46 % AVG Test Acc 89.93 %\n",
      "Validation loss decreased (0.280140 --> 0.276606).  Saving model ...\n",
      "Epoch:150/1000 AVG Training Loss:0.295 AVG Test Loss:0.277 AVG Training Acc 89.93 % AVG Test Acc 90.09 %\n",
      "EarlyStopping counter: 1 out of 20\n",
      "Epoch:151/1000 AVG Training Loss:0.293 AVG Test Loss:0.274 AVG Training Acc 90.00 % AVG Test Acc 90.26 %\n",
      "Validation loss decreased (0.276606 --> 0.273995).  Saving model ...\n",
      "Epoch:152/1000 AVG Training Loss:0.292 AVG Test Loss:0.276 AVG Training Acc 89.66 % AVG Test Acc 90.34 %\n",
      "EarlyStopping counter: 1 out of 20\n",
      "Epoch:153/1000 AVG Training Loss:0.293 AVG Test Loss:0.273 AVG Training Acc 89.62 % AVG Test Acc 90.01 %\n",
      "Validation loss decreased (0.273995 --> 0.272841).  Saving model ...\n",
      "Epoch:154/1000 AVG Training Loss:0.296 AVG Test Loss:0.272 AVG Training Acc 89.60 % AVG Test Acc 90.34 %\n",
      "Validation loss decreased (0.272841 --> 0.272183).  Saving model ...\n",
      "Epoch:155/1000 AVG Training Loss:0.287 AVG Test Loss:0.269 AVG Training Acc 90.04 % AVG Test Acc 90.42 %\n",
      "Validation loss decreased (0.272183 --> 0.269193).  Saving model ...\n",
      "Epoch:156/1000 AVG Training Loss:0.288 AVG Test Loss:0.269 AVG Training Acc 89.73 % AVG Test Acc 90.17 %\n",
      "EarlyStopping counter: 1 out of 20\n",
      "Epoch:157/1000 AVG Training Loss:0.289 AVG Test Loss:0.266 AVG Training Acc 89.77 % AVG Test Acc 90.17 %\n",
      "Validation loss decreased (0.269193 --> 0.266143).  Saving model ...\n",
      "Epoch:158/1000 AVG Training Loss:0.286 AVG Test Loss:0.265 AVG Training Acc 89.85 % AVG Test Acc 90.26 %\n",
      "Validation loss decreased (0.266143 --> 0.264993).  Saving model ...\n",
      "Epoch:159/1000 AVG Training Loss:0.284 AVG Test Loss:0.268 AVG Training Acc 90.14 % AVG Test Acc 90.34 %\n",
      "EarlyStopping counter: 1 out of 20\n",
      "Epoch:160/1000 AVG Training Loss:0.282 AVG Test Loss:0.264 AVG Training Acc 90.10 % AVG Test Acc 90.34 %\n",
      "Validation loss decreased (0.264993 --> 0.264462).  Saving model ...\n",
      "Epoch:161/1000 AVG Training Loss:0.283 AVG Test Loss:0.260 AVG Training Acc 89.77 % AVG Test Acc 90.51 %\n",
      "Validation loss decreased (0.264462 --> 0.260110).  Saving model ...\n",
      "Epoch:162/1000 AVG Training Loss:0.284 AVG Test Loss:0.259 AVG Training Acc 90.02 % AVG Test Acc 90.67 %\n",
      "Validation loss decreased (0.260110 --> 0.258704).  Saving model ...\n",
      "Epoch:163/1000 AVG Training Loss:0.275 AVG Test Loss:0.258 AVG Training Acc 90.14 % AVG Test Acc 90.59 %\n",
      "Validation loss decreased (0.258704 --> 0.257796).  Saving model ...\n",
      "Epoch:164/1000 AVG Training Loss:0.275 AVG Test Loss:0.256 AVG Training Acc 90.35 % AVG Test Acc 90.76 %\n",
      "Validation loss decreased (0.257796 --> 0.255900).  Saving model ...\n",
      "Epoch:165/1000 AVG Training Loss:0.275 AVG Test Loss:0.256 AVG Training Acc 90.25 % AVG Test Acc 90.59 %\n",
      "EarlyStopping counter: 1 out of 20\n",
      "Epoch:166/1000 AVG Training Loss:0.275 AVG Test Loss:0.257 AVG Training Acc 90.08 % AVG Test Acc 90.17 %\n",
      "EarlyStopping counter: 2 out of 20\n",
      "Epoch:167/1000 AVG Training Loss:0.268 AVG Test Loss:0.254 AVG Training Acc 90.83 % AVG Test Acc 90.51 %\n",
      "Validation loss decreased (0.255900 --> 0.253801).  Saving model ...\n",
      "Epoch:168/1000 AVG Training Loss:0.272 AVG Test Loss:0.252 AVG Training Acc 90.60 % AVG Test Acc 90.51 %\n",
      "Validation loss decreased (0.253801 --> 0.252387).  Saving model ...\n",
      "Epoch:169/1000 AVG Training Loss:0.272 AVG Test Loss:0.250 AVG Training Acc 90.35 % AVG Test Acc 90.76 %\n",
      "Validation loss decreased (0.252387 --> 0.249600).  Saving model ...\n",
      "Epoch:170/1000 AVG Training Loss:0.273 AVG Test Loss:0.251 AVG Training Acc 90.10 % AVG Test Acc 90.67 %\n",
      "EarlyStopping counter: 1 out of 20\n",
      "Epoch:171/1000 AVG Training Loss:0.266 AVG Test Loss:0.248 AVG Training Acc 90.60 % AVG Test Acc 90.59 %\n",
      "Validation loss decreased (0.249600 --> 0.248432).  Saving model ...\n",
      "Epoch:172/1000 AVG Training Loss:0.268 AVG Test Loss:0.249 AVG Training Acc 90.50 % AVG Test Acc 90.42 %\n",
      "EarlyStopping counter: 1 out of 20\n",
      "Epoch:173/1000 AVG Training Loss:0.268 AVG Test Loss:0.249 AVG Training Acc 90.50 % AVG Test Acc 90.59 %\n",
      "EarlyStopping counter: 2 out of 20\n",
      "Epoch:174/1000 AVG Training Loss:0.263 AVG Test Loss:0.244 AVG Training Acc 90.62 % AVG Test Acc 91.09 %\n",
      "Validation loss decreased (0.248432 --> 0.243957).  Saving model ...\n",
      "Epoch:175/1000 AVG Training Loss:0.267 AVG Test Loss:0.249 AVG Training Acc 90.43 % AVG Test Acc 90.67 %\n",
      "EarlyStopping counter: 1 out of 20\n",
      "Epoch:176/1000 AVG Training Loss:0.263 AVG Test Loss:0.245 AVG Training Acc 90.68 % AVG Test Acc 91.01 %\n",
      "EarlyStopping counter: 2 out of 20\n",
      "Epoch:177/1000 AVG Training Loss:0.262 AVG Test Loss:0.240 AVG Training Acc 90.64 % AVG Test Acc 90.92 %\n",
      "Validation loss decreased (0.243957 --> 0.239689).  Saving model ...\n",
      "Epoch:178/1000 AVG Training Loss:0.259 AVG Test Loss:0.242 AVG Training Acc 90.74 % AVG Test Acc 90.84 %\n",
      "EarlyStopping counter: 1 out of 20\n",
      "Epoch:179/1000 AVG Training Loss:0.263 AVG Test Loss:0.237 AVG Training Acc 90.22 % AVG Test Acc 91.09 %\n",
      "Validation loss decreased (0.239689 --> 0.237499).  Saving model ...\n",
      "Epoch:180/1000 AVG Training Loss:0.258 AVG Test Loss:0.241 AVG Training Acc 90.45 % AVG Test Acc 90.67 %\n",
      "EarlyStopping counter: 1 out of 20\n",
      "Epoch:181/1000 AVG Training Loss:0.258 AVG Test Loss:0.237 AVG Training Acc 90.54 % AVG Test Acc 90.92 %\n",
      "Validation loss decreased (0.237499 --> 0.236856).  Saving model ...\n",
      "Epoch:182/1000 AVG Training Loss:0.253 AVG Test Loss:0.233 AVG Training Acc 90.41 % AVG Test Acc 90.92 %\n",
      "Validation loss decreased (0.236856 --> 0.233451).  Saving model ...\n",
      "Epoch:183/1000 AVG Training Loss:0.248 AVG Test Loss:0.233 AVG Training Acc 91.49 % AVG Test Acc 91.01 %\n",
      "Validation loss decreased (0.233451 --> 0.232960).  Saving model ...\n",
      "Epoch:184/1000 AVG Training Loss:0.254 AVG Test Loss:0.231 AVG Training Acc 90.74 % AVG Test Acc 91.26 %\n",
      "Validation loss decreased (0.232960 --> 0.230727).  Saving model ...\n",
      "Epoch:185/1000 AVG Training Loss:0.255 AVG Test Loss:0.230 AVG Training Acc 90.64 % AVG Test Acc 91.17 %\n",
      "Validation loss decreased (0.230727 --> 0.230200).  Saving model ...\n",
      "Epoch:186/1000 AVG Training Loss:0.249 AVG Test Loss:0.233 AVG Training Acc 90.99 % AVG Test Acc 91.42 %\n",
      "EarlyStopping counter: 1 out of 20\n",
      "Epoch:187/1000 AVG Training Loss:0.246 AVG Test Loss:0.230 AVG Training Acc 90.79 % AVG Test Acc 91.26 %\n",
      "EarlyStopping counter: 2 out of 20\n",
      "Epoch:188/1000 AVG Training Loss:0.251 AVG Test Loss:0.226 AVG Training Acc 90.70 % AVG Test Acc 91.51 %\n",
      "Validation loss decreased (0.230200 --> 0.226120).  Saving model ...\n",
      "Epoch:189/1000 AVG Training Loss:0.247 AVG Test Loss:0.228 AVG Training Acc 90.95 % AVG Test Acc 91.17 %\n",
      "EarlyStopping counter: 1 out of 20\n",
      "Epoch:190/1000 AVG Training Loss:0.247 AVG Test Loss:0.224 AVG Training Acc 90.95 % AVG Test Acc 91.34 %\n",
      "Validation loss decreased (0.226120 --> 0.223587).  Saving model ...\n",
      "Epoch:191/1000 AVG Training Loss:0.246 AVG Test Loss:0.236 AVG Training Acc 90.93 % AVG Test Acc 90.67 %\n",
      "EarlyStopping counter: 1 out of 20\n",
      "Epoch:192/1000 AVG Training Loss:0.247 AVG Test Loss:0.223 AVG Training Acc 90.79 % AVG Test Acc 91.67 %\n",
      "Validation loss decreased (0.223587 --> 0.223117).  Saving model ...\n",
      "Epoch:193/1000 AVG Training Loss:0.243 AVG Test Loss:0.223 AVG Training Acc 91.01 % AVG Test Acc 91.51 %\n",
      "Validation loss decreased (0.223117 --> 0.222664).  Saving model ...\n",
      "Epoch:194/1000 AVG Training Loss:0.245 AVG Test Loss:0.223 AVG Training Acc 91.20 % AVG Test Acc 91.59 %\n",
      "EarlyStopping counter: 1 out of 20\n",
      "Epoch:195/1000 AVG Training Loss:0.243 AVG Test Loss:0.220 AVG Training Acc 90.91 % AVG Test Acc 91.67 %\n",
      "Validation loss decreased (0.222664 --> 0.220061).  Saving model ...\n",
      "Epoch:196/1000 AVG Training Loss:0.241 AVG Test Loss:0.221 AVG Training Acc 91.16 % AVG Test Acc 91.59 %\n",
      "EarlyStopping counter: 1 out of 20\n",
      "Epoch:197/1000 AVG Training Loss:0.237 AVG Test Loss:0.222 AVG Training Acc 91.35 % AVG Test Acc 91.09 %\n",
      "EarlyStopping counter: 2 out of 20\n",
      "Epoch:198/1000 AVG Training Loss:0.240 AVG Test Loss:0.217 AVG Training Acc 90.68 % AVG Test Acc 91.51 %\n",
      "Validation loss decreased (0.220061 --> 0.216774).  Saving model ...\n",
      "Epoch:199/1000 AVG Training Loss:0.235 AVG Test Loss:0.214 AVG Training Acc 91.58 % AVG Test Acc 91.67 %\n",
      "Validation loss decreased (0.216774 --> 0.214044).  Saving model ...\n",
      "Epoch:200/1000 AVG Training Loss:0.232 AVG Test Loss:0.214 AVG Training Acc 91.31 % AVG Test Acc 91.76 %\n",
      "Validation loss decreased (0.214044 --> 0.213931).  Saving model ...\n",
      "Epoch:201/1000 AVG Training Loss:0.232 AVG Test Loss:0.213 AVG Training Acc 91.43 % AVG Test Acc 91.84 %\n",
      "Validation loss decreased (0.213931 --> 0.212701).  Saving model ...\n",
      "Epoch:202/1000 AVG Training Loss:0.232 AVG Test Loss:0.211 AVG Training Acc 91.41 % AVG Test Acc 91.92 %\n",
      "Validation loss decreased (0.212701 --> 0.210914).  Saving model ...\n",
      "Epoch:203/1000 AVG Training Loss:0.234 AVG Test Loss:0.210 AVG Training Acc 91.16 % AVG Test Acc 92.09 %\n",
      "Validation loss decreased (0.210914 --> 0.209938).  Saving model ...\n",
      "Epoch:204/1000 AVG Training Loss:0.230 AVG Test Loss:0.213 AVG Training Acc 91.81 % AVG Test Acc 91.59 %\n",
      "EarlyStopping counter: 1 out of 20\n",
      "Epoch:205/1000 AVG Training Loss:0.232 AVG Test Loss:0.207 AVG Training Acc 91.18 % AVG Test Acc 92.01 %\n",
      "Validation loss decreased (0.209938 --> 0.207256).  Saving model ...\n",
      "Epoch:206/1000 AVG Training Loss:0.229 AVG Test Loss:0.212 AVG Training Acc 91.18 % AVG Test Acc 91.59 %\n",
      "EarlyStopping counter: 1 out of 20\n",
      "Epoch:207/1000 AVG Training Loss:0.225 AVG Test Loss:0.208 AVG Training Acc 91.70 % AVG Test Acc 92.01 %\n",
      "EarlyStopping counter: 2 out of 20\n",
      "Epoch:208/1000 AVG Training Loss:0.226 AVG Test Loss:0.209 AVG Training Acc 91.68 % AVG Test Acc 91.59 %\n",
      "EarlyStopping counter: 3 out of 20\n",
      "Epoch:209/1000 AVG Training Loss:0.225 AVG Test Loss:0.203 AVG Training Acc 91.68 % AVG Test Acc 92.26 %\n",
      "Validation loss decreased (0.207256 --> 0.202520).  Saving model ...\n",
      "Epoch:210/1000 AVG Training Loss:0.222 AVG Test Loss:0.206 AVG Training Acc 91.74 % AVG Test Acc 91.67 %\n",
      "EarlyStopping counter: 1 out of 20\n",
      "Epoch:211/1000 AVG Training Loss:0.223 AVG Test Loss:0.202 AVG Training Acc 91.64 % AVG Test Acc 92.76 %\n",
      "Validation loss decreased (0.202520 --> 0.202202).  Saving model ...\n",
      "Epoch:212/1000 AVG Training Loss:0.223 AVG Test Loss:0.203 AVG Training Acc 91.76 % AVG Test Acc 92.59 %\n",
      "EarlyStopping counter: 1 out of 20\n",
      "Epoch:213/1000 AVG Training Loss:0.225 AVG Test Loss:0.199 AVG Training Acc 91.22 % AVG Test Acc 93.26 %\n",
      "Validation loss decreased (0.202202 --> 0.199198).  Saving model ...\n",
      "Epoch:214/1000 AVG Training Loss:0.220 AVG Test Loss:0.201 AVG Training Acc 91.62 % AVG Test Acc 93.26 %\n",
      "EarlyStopping counter: 1 out of 20\n",
      "Epoch:215/1000 AVG Training Loss:0.220 AVG Test Loss:0.197 AVG Training Acc 91.95 % AVG Test Acc 93.59 %\n",
      "Validation loss decreased (0.199198 --> 0.197226).  Saving model ...\n",
      "Epoch:216/1000 AVG Training Loss:0.219 AVG Test Loss:0.197 AVG Training Acc 92.12 % AVG Test Acc 93.34 %\n",
      "Validation loss decreased (0.197226 --> 0.196845).  Saving model ...\n",
      "Epoch:217/1000 AVG Training Loss:0.218 AVG Test Loss:0.196 AVG Training Acc 91.93 % AVG Test Acc 93.51 %\n",
      "Validation loss decreased (0.196845 --> 0.195863).  Saving model ...\n",
      "Epoch:218/1000 AVG Training Loss:0.211 AVG Test Loss:0.196 AVG Training Acc 92.20 % AVG Test Acc 93.17 %\n",
      "Validation loss decreased (0.195863 --> 0.195771).  Saving model ...\n",
      "Epoch:219/1000 AVG Training Loss:0.216 AVG Test Loss:0.195 AVG Training Acc 92.26 % AVG Test Acc 93.17 %\n",
      "Validation loss decreased (0.195771 --> 0.195427).  Saving model ...\n",
      "Epoch:220/1000 AVG Training Loss:0.210 AVG Test Loss:0.196 AVG Training Acc 92.26 % AVG Test Acc 93.26 %\n",
      "EarlyStopping counter: 1 out of 20\n",
      "Epoch:221/1000 AVG Training Loss:0.216 AVG Test Loss:0.195 AVG Training Acc 92.18 % AVG Test Acc 93.26 %\n",
      "EarlyStopping counter: 2 out of 20\n",
      "Epoch:222/1000 AVG Training Loss:0.212 AVG Test Loss:0.195 AVG Training Acc 92.22 % AVG Test Acc 93.09 %\n",
      "EarlyStopping counter: 3 out of 20\n",
      "Epoch:223/1000 AVG Training Loss:0.212 AVG Test Loss:0.196 AVG Training Acc 92.45 % AVG Test Acc 93.34 %\n",
      "EarlyStopping counter: 4 out of 20\n",
      "Epoch:224/1000 AVG Training Loss:0.211 AVG Test Loss:0.189 AVG Training Acc 92.33 % AVG Test Acc 93.67 %\n",
      "Validation loss decreased (0.195427 --> 0.189289).  Saving model ...\n",
      "Epoch:225/1000 AVG Training Loss:0.213 AVG Test Loss:0.187 AVG Training Acc 92.22 % AVG Test Acc 93.59 %\n",
      "Validation loss decreased (0.189289 --> 0.187290).  Saving model ...\n",
      "Epoch:226/1000 AVG Training Loss:0.207 AVG Test Loss:0.188 AVG Training Acc 92.57 % AVG Test Acc 93.76 %\n",
      "EarlyStopping counter: 1 out of 20\n",
      "Epoch:227/1000 AVG Training Loss:0.205 AVG Test Loss:0.186 AVG Training Acc 92.76 % AVG Test Acc 93.59 %\n",
      "Validation loss decreased (0.187290 --> 0.186056).  Saving model ...\n",
      "Epoch:228/1000 AVG Training Loss:0.204 AVG Test Loss:0.197 AVG Training Acc 93.14 % AVG Test Acc 93.09 %\n",
      "EarlyStopping counter: 1 out of 20\n",
      "Epoch:229/1000 AVG Training Loss:0.207 AVG Test Loss:0.187 AVG Training Acc 92.78 % AVG Test Acc 93.42 %\n",
      "EarlyStopping counter: 2 out of 20\n",
      "Epoch:230/1000 AVG Training Loss:0.203 AVG Test Loss:0.189 AVG Training Acc 92.68 % AVG Test Acc 93.51 %\n",
      "EarlyStopping counter: 3 out of 20\n",
      "Epoch:231/1000 AVG Training Loss:0.207 AVG Test Loss:0.186 AVG Training Acc 92.72 % AVG Test Acc 93.51 %\n",
      "EarlyStopping counter: 4 out of 20\n",
      "Epoch:232/1000 AVG Training Loss:0.202 AVG Test Loss:0.181 AVG Training Acc 92.85 % AVG Test Acc 93.67 %\n",
      "Validation loss decreased (0.186056 --> 0.180831).  Saving model ...\n",
      "Epoch:233/1000 AVG Training Loss:0.205 AVG Test Loss:0.186 AVG Training Acc 92.68 % AVG Test Acc 93.42 %\n",
      "EarlyStopping counter: 1 out of 20\n",
      "Epoch:234/1000 AVG Training Loss:0.202 AVG Test Loss:0.180 AVG Training Acc 93.01 % AVG Test Acc 94.09 %\n",
      "Validation loss decreased (0.180831 --> 0.179687).  Saving model ...\n",
      "Epoch:235/1000 AVG Training Loss:0.205 AVG Test Loss:0.182 AVG Training Acc 92.91 % AVG Test Acc 93.59 %\n",
      "EarlyStopping counter: 1 out of 20\n",
      "Epoch:236/1000 AVG Training Loss:0.199 AVG Test Loss:0.180 AVG Training Acc 93.01 % AVG Test Acc 93.51 %\n",
      "EarlyStopping counter: 2 out of 20\n",
      "Epoch:237/1000 AVG Training Loss:0.200 AVG Test Loss:0.180 AVG Training Acc 93.01 % AVG Test Acc 94.00 %\n",
      "EarlyStopping counter: 3 out of 20\n",
      "Epoch:238/1000 AVG Training Loss:0.199 AVG Test Loss:0.180 AVG Training Acc 92.99 % AVG Test Acc 93.84 %\n",
      "EarlyStopping counter: 4 out of 20\n",
      "Epoch:239/1000 AVG Training Loss:0.197 AVG Test Loss:0.183 AVG Training Acc 93.22 % AVG Test Acc 93.59 %\n",
      "EarlyStopping counter: 5 out of 20\n",
      "Epoch:240/1000 AVG Training Loss:0.196 AVG Test Loss:0.175 AVG Training Acc 93.28 % AVG Test Acc 94.17 %\n",
      "Validation loss decreased (0.179687 --> 0.175494).  Saving model ...\n",
      "Epoch:241/1000 AVG Training Loss:0.192 AVG Test Loss:0.174 AVG Training Acc 93.49 % AVG Test Acc 94.25 %\n",
      "Validation loss decreased (0.175494 --> 0.174219).  Saving model ...\n",
      "Epoch:242/1000 AVG Training Loss:0.194 AVG Test Loss:0.179 AVG Training Acc 93.12 % AVG Test Acc 93.92 %\n",
      "EarlyStopping counter: 1 out of 20\n",
      "Epoch:243/1000 AVG Training Loss:0.191 AVG Test Loss:0.176 AVG Training Acc 93.47 % AVG Test Acc 93.92 %\n",
      "EarlyStopping counter: 2 out of 20\n",
      "Epoch:244/1000 AVG Training Loss:0.196 AVG Test Loss:0.177 AVG Training Acc 92.95 % AVG Test Acc 93.84 %\n",
      "EarlyStopping counter: 3 out of 20\n",
      "Epoch:245/1000 AVG Training Loss:0.193 AVG Test Loss:0.174 AVG Training Acc 93.59 % AVG Test Acc 93.92 %\n",
      "Validation loss decreased (0.174219 --> 0.173600).  Saving model ...\n",
      "Epoch:246/1000 AVG Training Loss:0.186 AVG Test Loss:0.173 AVG Training Acc 93.49 % AVG Test Acc 94.09 %\n",
      "Validation loss decreased (0.173600 --> 0.173341).  Saving model ...\n",
      "Epoch:247/1000 AVG Training Loss:0.188 AVG Test Loss:0.173 AVG Training Acc 93.55 % AVG Test Acc 94.00 %\n",
      "Validation loss decreased (0.173341 --> 0.173281).  Saving model ...\n",
      "Epoch:248/1000 AVG Training Loss:0.190 AVG Test Loss:0.171 AVG Training Acc 93.84 % AVG Test Acc 94.09 %\n",
      "Validation loss decreased (0.173281 --> 0.170888).  Saving model ...\n",
      "Epoch:249/1000 AVG Training Loss:0.189 AVG Test Loss:0.168 AVG Training Acc 93.61 % AVG Test Acc 94.42 %\n",
      "Validation loss decreased (0.170888 --> 0.168060).  Saving model ...\n",
      "Epoch:250/1000 AVG Training Loss:0.188 AVG Test Loss:0.167 AVG Training Acc 93.74 % AVG Test Acc 94.25 %\n",
      "Validation loss decreased (0.168060 --> 0.167408).  Saving model ...\n",
      "Epoch:251/1000 AVG Training Loss:0.185 AVG Test Loss:0.167 AVG Training Acc 93.57 % AVG Test Acc 94.25 %\n",
      "EarlyStopping counter: 1 out of 20\n",
      "Epoch:252/1000 AVG Training Loss:0.185 AVG Test Loss:0.166 AVG Training Acc 93.99 % AVG Test Acc 94.59 %\n",
      "Validation loss decreased (0.167408 --> 0.165828).  Saving model ...\n",
      "Epoch:253/1000 AVG Training Loss:0.188 AVG Test Loss:0.163 AVG Training Acc 93.70 % AVG Test Acc 94.67 %\n",
      "Validation loss decreased (0.165828 --> 0.163493).  Saving model ...\n",
      "Epoch:254/1000 AVG Training Loss:0.185 AVG Test Loss:0.166 AVG Training Acc 93.70 % AVG Test Acc 94.42 %\n",
      "EarlyStopping counter: 1 out of 20\n",
      "Epoch:255/1000 AVG Training Loss:0.184 AVG Test Loss:0.164 AVG Training Acc 93.74 % AVG Test Acc 94.50 %\n",
      "EarlyStopping counter: 2 out of 20\n",
      "Epoch:256/1000 AVG Training Loss:0.179 AVG Test Loss:0.163 AVG Training Acc 93.76 % AVG Test Acc 94.59 %\n",
      "Validation loss decreased (0.163493 --> 0.162522).  Saving model ...\n",
      "Epoch:257/1000 AVG Training Loss:0.183 AVG Test Loss:0.166 AVG Training Acc 93.76 % AVG Test Acc 94.34 %\n",
      "EarlyStopping counter: 1 out of 20\n",
      "Epoch:258/1000 AVG Training Loss:0.183 AVG Test Loss:0.166 AVG Training Acc 93.57 % AVG Test Acc 94.42 %\n",
      "EarlyStopping counter: 2 out of 20\n",
      "Epoch:259/1000 AVG Training Loss:0.178 AVG Test Loss:0.162 AVG Training Acc 94.07 % AVG Test Acc 94.59 %\n",
      "Validation loss decreased (0.162522 --> 0.161641).  Saving model ...\n",
      "Epoch:260/1000 AVG Training Loss:0.184 AVG Test Loss:0.162 AVG Training Acc 93.47 % AVG Test Acc 94.42 %\n",
      "EarlyStopping counter: 1 out of 20\n",
      "Epoch:261/1000 AVG Training Loss:0.178 AVG Test Loss:0.163 AVG Training Acc 93.99 % AVG Test Acc 94.50 %\n",
      "EarlyStopping counter: 2 out of 20\n",
      "Epoch:262/1000 AVG Training Loss:0.176 AVG Test Loss:0.158 AVG Training Acc 93.91 % AVG Test Acc 94.92 %\n",
      "Validation loss decreased (0.161641 --> 0.157735).  Saving model ...\n",
      "Epoch:263/1000 AVG Training Loss:0.177 AVG Test Loss:0.161 AVG Training Acc 93.95 % AVG Test Acc 94.34 %\n",
      "EarlyStopping counter: 1 out of 20\n",
      "Epoch:264/1000 AVG Training Loss:0.179 AVG Test Loss:0.162 AVG Training Acc 93.97 % AVG Test Acc 94.50 %\n",
      "EarlyStopping counter: 2 out of 20\n",
      "Epoch:265/1000 AVG Training Loss:0.178 AVG Test Loss:0.158 AVG Training Acc 93.80 % AVG Test Acc 94.34 %\n",
      "EarlyStopping counter: 3 out of 20\n",
      "Epoch:266/1000 AVG Training Loss:0.178 AVG Test Loss:0.161 AVG Training Acc 93.91 % AVG Test Acc 94.42 %\n",
      "EarlyStopping counter: 4 out of 20\n",
      "Epoch:267/1000 AVG Training Loss:0.174 AVG Test Loss:0.162 AVG Training Acc 94.16 % AVG Test Acc 94.42 %\n",
      "EarlyStopping counter: 5 out of 20\n",
      "Epoch:268/1000 AVG Training Loss:0.171 AVG Test Loss:0.160 AVG Training Acc 94.28 % AVG Test Acc 94.75 %\n",
      "EarlyStopping counter: 6 out of 20\n",
      "Epoch:269/1000 AVG Training Loss:0.173 AVG Test Loss:0.153 AVG Training Acc 94.13 % AVG Test Acc 94.75 %\n",
      "Validation loss decreased (0.157735 --> 0.153397).  Saving model ...\n",
      "Epoch:270/1000 AVG Training Loss:0.173 AVG Test Loss:0.154 AVG Training Acc 94.03 % AVG Test Acc 94.75 %\n",
      "EarlyStopping counter: 1 out of 20\n",
      "Epoch:271/1000 AVG Training Loss:0.170 AVG Test Loss:0.156 AVG Training Acc 94.65 % AVG Test Acc 94.59 %\n",
      "EarlyStopping counter: 2 out of 20\n",
      "Epoch:272/1000 AVG Training Loss:0.170 AVG Test Loss:0.152 AVG Training Acc 94.32 % AVG Test Acc 94.84 %\n",
      "Validation loss decreased (0.153397 --> 0.152072).  Saving model ...\n",
      "Epoch:273/1000 AVG Training Loss:0.169 AVG Test Loss:0.151 AVG Training Acc 94.65 % AVG Test Acc 94.84 %\n",
      "Validation loss decreased (0.152072 --> 0.150888).  Saving model ...\n",
      "Epoch:274/1000 AVG Training Loss:0.166 AVG Test Loss:0.159 AVG Training Acc 94.49 % AVG Test Acc 94.84 %\n",
      "EarlyStopping counter: 1 out of 20\n",
      "Epoch:275/1000 AVG Training Loss:0.171 AVG Test Loss:0.150 AVG Training Acc 94.36 % AVG Test Acc 94.75 %\n",
      "Validation loss decreased (0.150888 --> 0.150198).  Saving model ...\n",
      "Epoch:276/1000 AVG Training Loss:0.170 AVG Test Loss:0.151 AVG Training Acc 94.51 % AVG Test Acc 94.59 %\n",
      "EarlyStopping counter: 1 out of 20\n",
      "Epoch:277/1000 AVG Training Loss:0.172 AVG Test Loss:0.149 AVG Training Acc 94.03 % AVG Test Acc 94.84 %\n",
      "Validation loss decreased (0.150198 --> 0.149049).  Saving model ...\n",
      "Epoch:278/1000 AVG Training Loss:0.169 AVG Test Loss:0.150 AVG Training Acc 94.34 % AVG Test Acc 94.92 %\n",
      "EarlyStopping counter: 1 out of 20\n",
      "Epoch:279/1000 AVG Training Loss:0.167 AVG Test Loss:0.149 AVG Training Acc 94.36 % AVG Test Acc 95.17 %\n",
      "Validation loss decreased (0.149049 --> 0.148793).  Saving model ...\n",
      "Epoch:280/1000 AVG Training Loss:0.168 AVG Test Loss:0.156 AVG Training Acc 94.47 % AVG Test Acc 94.67 %\n",
      "EarlyStopping counter: 1 out of 20\n",
      "Epoch:281/1000 AVG Training Loss:0.167 AVG Test Loss:0.159 AVG Training Acc 94.28 % AVG Test Acc 94.59 %\n",
      "EarlyStopping counter: 2 out of 20\n",
      "Epoch:282/1000 AVG Training Loss:0.164 AVG Test Loss:0.147 AVG Training Acc 94.65 % AVG Test Acc 94.75 %\n",
      "Validation loss decreased (0.148793 --> 0.147026).  Saving model ...\n",
      "Epoch:283/1000 AVG Training Loss:0.165 AVG Test Loss:0.147 AVG Training Acc 94.49 % AVG Test Acc 94.84 %\n",
      "EarlyStopping counter: 1 out of 20\n",
      "Epoch:284/1000 AVG Training Loss:0.161 AVG Test Loss:0.145 AVG Training Acc 94.74 % AVG Test Acc 94.75 %\n",
      "Validation loss decreased (0.147026 --> 0.145132).  Saving model ...\n",
      "Epoch:285/1000 AVG Training Loss:0.164 AVG Test Loss:0.143 AVG Training Acc 94.49 % AVG Test Acc 95.17 %\n",
      "Validation loss decreased (0.145132 --> 0.143147).  Saving model ...\n",
      "Epoch:286/1000 AVG Training Loss:0.161 AVG Test Loss:0.146 AVG Training Acc 94.72 % AVG Test Acc 94.67 %\n",
      "EarlyStopping counter: 1 out of 20\n",
      "Epoch:287/1000 AVG Training Loss:0.157 AVG Test Loss:0.145 AVG Training Acc 94.63 % AVG Test Acc 94.75 %\n",
      "EarlyStopping counter: 2 out of 20\n",
      "Epoch:288/1000 AVG Training Loss:0.158 AVG Test Loss:0.143 AVG Training Acc 94.51 % AVG Test Acc 94.92 %\n",
      "EarlyStopping counter: 3 out of 20\n",
      "Epoch:289/1000 AVG Training Loss:0.160 AVG Test Loss:0.144 AVG Training Acc 94.34 % AVG Test Acc 95.00 %\n",
      "EarlyStopping counter: 4 out of 20\n",
      "Epoch:290/1000 AVG Training Loss:0.161 AVG Test Loss:0.143 AVG Training Acc 94.53 % AVG Test Acc 94.84 %\n",
      "EarlyStopping counter: 5 out of 20\n",
      "Epoch:291/1000 AVG Training Loss:0.159 AVG Test Loss:0.141 AVG Training Acc 94.47 % AVG Test Acc 95.25 %\n",
      "Validation loss decreased (0.143147 --> 0.141381).  Saving model ...\n",
      "Epoch:292/1000 AVG Training Loss:0.155 AVG Test Loss:0.140 AVG Training Acc 94.78 % AVG Test Acc 95.25 %\n",
      "Validation loss decreased (0.141381 --> 0.140377).  Saving model ...\n",
      "Epoch:293/1000 AVG Training Loss:0.155 AVG Test Loss:0.142 AVG Training Acc 94.84 % AVG Test Acc 94.92 %\n",
      "EarlyStopping counter: 1 out of 20\n",
      "Epoch:294/1000 AVG Training Loss:0.158 AVG Test Loss:0.142 AVG Training Acc 94.59 % AVG Test Acc 95.00 %\n",
      "EarlyStopping counter: 2 out of 20\n",
      "Epoch:295/1000 AVG Training Loss:0.155 AVG Test Loss:0.141 AVG Training Acc 94.84 % AVG Test Acc 94.59 %\n",
      "EarlyStopping counter: 3 out of 20\n",
      "Epoch:296/1000 AVG Training Loss:0.154 AVG Test Loss:0.148 AVG Training Acc 94.61 % AVG Test Acc 94.84 %\n",
      "EarlyStopping counter: 4 out of 20\n",
      "Epoch:297/1000 AVG Training Loss:0.151 AVG Test Loss:0.143 AVG Training Acc 95.01 % AVG Test Acc 94.84 %\n",
      "EarlyStopping counter: 5 out of 20\n",
      "Epoch:298/1000 AVG Training Loss:0.156 AVG Test Loss:0.149 AVG Training Acc 94.78 % AVG Test Acc 94.75 %\n",
      "EarlyStopping counter: 6 out of 20\n",
      "Epoch:299/1000 AVG Training Loss:0.153 AVG Test Loss:0.137 AVG Training Acc 94.76 % AVG Test Acc 94.84 %\n",
      "Validation loss decreased (0.140377 --> 0.137403).  Saving model ...\n",
      "Epoch:300/1000 AVG Training Loss:0.158 AVG Test Loss:0.137 AVG Training Acc 94.82 % AVG Test Acc 95.09 %\n",
      "Validation loss decreased (0.137403 --> 0.137132).  Saving model ...\n",
      "Epoch:301/1000 AVG Training Loss:0.149 AVG Test Loss:0.142 AVG Training Acc 95.01 % AVG Test Acc 95.00 %\n",
      "EarlyStopping counter: 1 out of 20\n",
      "Epoch:302/1000 AVG Training Loss:0.152 AVG Test Loss:0.137 AVG Training Acc 94.84 % AVG Test Acc 95.09 %\n",
      "Validation loss decreased (0.137132 --> 0.137120).  Saving model ...\n",
      "Epoch:303/1000 AVG Training Loss:0.154 AVG Test Loss:0.135 AVG Training Acc 94.78 % AVG Test Acc 95.25 %\n",
      "Validation loss decreased (0.137120 --> 0.135253).  Saving model ...\n",
      "Epoch:304/1000 AVG Training Loss:0.150 AVG Test Loss:0.139 AVG Training Acc 94.97 % AVG Test Acc 95.00 %\n",
      "EarlyStopping counter: 1 out of 20\n",
      "Epoch:305/1000 AVG Training Loss:0.149 AVG Test Loss:0.136 AVG Training Acc 94.99 % AVG Test Acc 95.09 %\n",
      "EarlyStopping counter: 2 out of 20\n",
      "Epoch:306/1000 AVG Training Loss:0.152 AVG Test Loss:0.135 AVG Training Acc 94.63 % AVG Test Acc 95.00 %\n",
      "EarlyStopping counter: 3 out of 20\n",
      "Epoch:307/1000 AVG Training Loss:0.149 AVG Test Loss:0.135 AVG Training Acc 94.95 % AVG Test Acc 95.09 %\n",
      "Validation loss decreased (0.135253 --> 0.134570).  Saving model ...\n",
      "Epoch:308/1000 AVG Training Loss:0.147 AVG Test Loss:0.134 AVG Training Acc 95.05 % AVG Test Acc 95.25 %\n",
      "Validation loss decreased (0.134570 --> 0.134378).  Saving model ...\n",
      "Epoch:309/1000 AVG Training Loss:0.147 AVG Test Loss:0.133 AVG Training Acc 95.07 % AVG Test Acc 95.34 %\n",
      "Validation loss decreased (0.134378 --> 0.133015).  Saving model ...\n",
      "Epoch:310/1000 AVG Training Loss:0.148 AVG Test Loss:0.136 AVG Training Acc 95.01 % AVG Test Acc 95.17 %\n",
      "EarlyStopping counter: 1 out of 20\n",
      "Epoch:311/1000 AVG Training Loss:0.147 AVG Test Loss:0.136 AVG Training Acc 94.84 % AVG Test Acc 95.34 %\n",
      "EarlyStopping counter: 2 out of 20\n",
      "Epoch:312/1000 AVG Training Loss:0.142 AVG Test Loss:0.136 AVG Training Acc 95.28 % AVG Test Acc 95.25 %\n",
      "EarlyStopping counter: 3 out of 20\n",
      "Epoch:313/1000 AVG Training Loss:0.147 AVG Test Loss:0.132 AVG Training Acc 94.99 % AVG Test Acc 95.17 %\n",
      "Validation loss decreased (0.133015 --> 0.131803).  Saving model ...\n",
      "Epoch:314/1000 AVG Training Loss:0.147 AVG Test Loss:0.132 AVG Training Acc 94.95 % AVG Test Acc 95.50 %\n",
      "EarlyStopping counter: 1 out of 20\n",
      "Epoch:315/1000 AVG Training Loss:0.146 AVG Test Loss:0.132 AVG Training Acc 95.22 % AVG Test Acc 95.17 %\n",
      "EarlyStopping counter: 2 out of 20\n",
      "Epoch:316/1000 AVG Training Loss:0.140 AVG Test Loss:0.130 AVG Training Acc 95.24 % AVG Test Acc 95.42 %\n",
      "Validation loss decreased (0.131803 --> 0.129942).  Saving model ...\n",
      "Epoch:317/1000 AVG Training Loss:0.144 AVG Test Loss:0.128 AVG Training Acc 95.24 % AVG Test Acc 95.42 %\n",
      "Validation loss decreased (0.129942 --> 0.128215).  Saving model ...\n",
      "Epoch:318/1000 AVG Training Loss:0.148 AVG Test Loss:0.128 AVG Training Acc 95.01 % AVG Test Acc 95.59 %\n",
      "EarlyStopping counter: 1 out of 20\n",
      "Epoch:319/1000 AVG Training Loss:0.145 AVG Test Loss:0.132 AVG Training Acc 95.03 % AVG Test Acc 95.34 %\n",
      "EarlyStopping counter: 2 out of 20\n",
      "Epoch:320/1000 AVG Training Loss:0.144 AVG Test Loss:0.128 AVG Training Acc 95.34 % AVG Test Acc 95.50 %\n",
      "EarlyStopping counter: 3 out of 20\n",
      "Epoch:321/1000 AVG Training Loss:0.143 AVG Test Loss:0.126 AVG Training Acc 95.05 % AVG Test Acc 95.59 %\n",
      "Validation loss decreased (0.128215 --> 0.125580).  Saving model ...\n",
      "Epoch:322/1000 AVG Training Loss:0.141 AVG Test Loss:0.126 AVG Training Acc 95.59 % AVG Test Acc 95.25 %\n",
      "EarlyStopping counter: 1 out of 20\n",
      "Epoch:323/1000 AVG Training Loss:0.143 AVG Test Loss:0.127 AVG Training Acc 95.17 % AVG Test Acc 95.17 %\n",
      "EarlyStopping counter: 2 out of 20\n",
      "Epoch:324/1000 AVG Training Loss:0.146 AVG Test Loss:0.126 AVG Training Acc 95.17 % AVG Test Acc 95.50 %\n",
      "EarlyStopping counter: 3 out of 20\n",
      "Epoch:325/1000 AVG Training Loss:0.141 AVG Test Loss:0.126 AVG Training Acc 95.51 % AVG Test Acc 95.42 %\n",
      "EarlyStopping counter: 4 out of 20\n",
      "Epoch:326/1000 AVG Training Loss:0.135 AVG Test Loss:0.125 AVG Training Acc 95.53 % AVG Test Acc 95.34 %\n",
      "Validation loss decreased (0.125580 --> 0.125456).  Saving model ...\n",
      "Epoch:327/1000 AVG Training Loss:0.136 AVG Test Loss:0.122 AVG Training Acc 95.55 % AVG Test Acc 95.67 %\n",
      "Validation loss decreased (0.125456 --> 0.121940).  Saving model ...\n",
      "Epoch:328/1000 AVG Training Loss:0.138 AVG Test Loss:0.123 AVG Training Acc 95.57 % AVG Test Acc 95.50 %\n",
      "EarlyStopping counter: 1 out of 20\n",
      "Epoch:329/1000 AVG Training Loss:0.140 AVG Test Loss:0.121 AVG Training Acc 95.24 % AVG Test Acc 95.75 %\n",
      "Validation loss decreased (0.121940 --> 0.120976).  Saving model ...\n",
      "Epoch:330/1000 AVG Training Loss:0.139 AVG Test Loss:0.125 AVG Training Acc 95.53 % AVG Test Acc 95.34 %\n",
      "EarlyStopping counter: 1 out of 20\n",
      "Epoch:331/1000 AVG Training Loss:0.139 AVG Test Loss:0.121 AVG Training Acc 95.26 % AVG Test Acc 95.59 %\n",
      "EarlyStopping counter: 2 out of 20\n",
      "Epoch:332/1000 AVG Training Loss:0.132 AVG Test Loss:0.120 AVG Training Acc 95.65 % AVG Test Acc 95.59 %\n",
      "Validation loss decreased (0.120976 --> 0.119748).  Saving model ...\n",
      "Epoch:333/1000 AVG Training Loss:0.140 AVG Test Loss:0.120 AVG Training Acc 95.17 % AVG Test Acc 95.59 %\n",
      "EarlyStopping counter: 1 out of 20\n",
      "Epoch:334/1000 AVG Training Loss:0.134 AVG Test Loss:0.121 AVG Training Acc 95.63 % AVG Test Acc 95.59 %\n",
      "EarlyStopping counter: 2 out of 20\n",
      "Epoch:335/1000 AVG Training Loss:0.133 AVG Test Loss:0.119 AVG Training Acc 95.69 % AVG Test Acc 95.67 %\n",
      "Validation loss decreased (0.119748 --> 0.118757).  Saving model ...\n",
      "Epoch:336/1000 AVG Training Loss:0.138 AVG Test Loss:0.119 AVG Training Acc 95.09 % AVG Test Acc 95.75 %\n",
      "EarlyStopping counter: 1 out of 20\n",
      "Epoch:337/1000 AVG Training Loss:0.132 AVG Test Loss:0.122 AVG Training Acc 95.86 % AVG Test Acc 95.59 %\n",
      "EarlyStopping counter: 2 out of 20\n",
      "Epoch:338/1000 AVG Training Loss:0.132 AVG Test Loss:0.122 AVG Training Acc 95.65 % AVG Test Acc 95.34 %\n",
      "EarlyStopping counter: 3 out of 20\n",
      "Epoch:339/1000 AVG Training Loss:0.139 AVG Test Loss:0.127 AVG Training Acc 95.40 % AVG Test Acc 95.50 %\n",
      "EarlyStopping counter: 4 out of 20\n",
      "Epoch:340/1000 AVG Training Loss:0.131 AVG Test Loss:0.118 AVG Training Acc 95.72 % AVG Test Acc 95.50 %\n",
      "Validation loss decreased (0.118757 --> 0.117959).  Saving model ...\n",
      "Epoch:341/1000 AVG Training Loss:0.128 AVG Test Loss:0.118 AVG Training Acc 95.80 % AVG Test Acc 95.75 %\n",
      "EarlyStopping counter: 1 out of 20\n",
      "Epoch:342/1000 AVG Training Loss:0.137 AVG Test Loss:0.119 AVG Training Acc 95.11 % AVG Test Acc 95.59 %\n",
      "EarlyStopping counter: 2 out of 20\n",
      "Epoch:343/1000 AVG Training Loss:0.132 AVG Test Loss:0.118 AVG Training Acc 95.61 % AVG Test Acc 95.42 %\n",
      "Validation loss decreased (0.117959 --> 0.117698).  Saving model ...\n",
      "Epoch:344/1000 AVG Training Loss:0.130 AVG Test Loss:0.123 AVG Training Acc 95.82 % AVG Test Acc 95.42 %\n",
      "EarlyStopping counter: 1 out of 20\n",
      "Epoch:345/1000 AVG Training Loss:0.129 AVG Test Loss:0.114 AVG Training Acc 95.86 % AVG Test Acc 95.59 %\n",
      "Validation loss decreased (0.117698 --> 0.114441).  Saving model ...\n",
      "Epoch:346/1000 AVG Training Loss:0.128 AVG Test Loss:0.118 AVG Training Acc 95.84 % AVG Test Acc 95.75 %\n",
      "EarlyStopping counter: 1 out of 20\n",
      "Epoch:347/1000 AVG Training Loss:0.125 AVG Test Loss:0.116 AVG Training Acc 95.94 % AVG Test Acc 95.75 %\n",
      "EarlyStopping counter: 2 out of 20\n",
      "Epoch:348/1000 AVG Training Loss:0.127 AVG Test Loss:0.113 AVG Training Acc 95.59 % AVG Test Acc 95.84 %\n",
      "Validation loss decreased (0.114441 --> 0.112687).  Saving model ...\n",
      "Epoch:349/1000 AVG Training Loss:0.132 AVG Test Loss:0.112 AVG Training Acc 95.51 % AVG Test Acc 95.75 %\n",
      "Validation loss decreased (0.112687 --> 0.111888).  Saving model ...\n",
      "Epoch:350/1000 AVG Training Loss:0.128 AVG Test Loss:0.114 AVG Training Acc 95.67 % AVG Test Acc 95.59 %\n",
      "EarlyStopping counter: 1 out of 20\n",
      "Epoch:351/1000 AVG Training Loss:0.127 AVG Test Loss:0.112 AVG Training Acc 95.72 % AVG Test Acc 95.84 %\n",
      "EarlyStopping counter: 2 out of 20\n",
      "Epoch:352/1000 AVG Training Loss:0.126 AVG Test Loss:0.113 AVG Training Acc 96.07 % AVG Test Acc 95.67 %\n",
      "EarlyStopping counter: 3 out of 20\n",
      "Epoch:353/1000 AVG Training Loss:0.124 AVG Test Loss:0.112 AVG Training Acc 96.01 % AVG Test Acc 96.00 %\n",
      "Validation loss decreased (0.111888 --> 0.111645).  Saving model ...\n",
      "Epoch:354/1000 AVG Training Loss:0.128 AVG Test Loss:0.112 AVG Training Acc 95.61 % AVG Test Acc 95.67 %\n",
      "EarlyStopping counter: 1 out of 20\n",
      "Epoch:355/1000 AVG Training Loss:0.125 AVG Test Loss:0.111 AVG Training Acc 95.78 % AVG Test Acc 95.92 %\n",
      "Validation loss decreased (0.111645 --> 0.110727).  Saving model ...\n",
      "Epoch:356/1000 AVG Training Loss:0.127 AVG Test Loss:0.111 AVG Training Acc 95.72 % AVG Test Acc 96.00 %\n",
      "EarlyStopping counter: 1 out of 20\n",
      "Epoch:357/1000 AVG Training Loss:0.125 AVG Test Loss:0.116 AVG Training Acc 95.69 % AVG Test Acc 95.50 %\n",
      "EarlyStopping counter: 2 out of 20\n",
      "Epoch:358/1000 AVG Training Loss:0.124 AVG Test Loss:0.108 AVG Training Acc 95.69 % AVG Test Acc 96.09 %\n",
      "Validation loss decreased (0.110727 --> 0.108313).  Saving model ...\n",
      "Epoch:359/1000 AVG Training Loss:0.119 AVG Test Loss:0.109 AVG Training Acc 95.97 % AVG Test Acc 96.09 %\n",
      "EarlyStopping counter: 1 out of 20\n",
      "Epoch:360/1000 AVG Training Loss:0.120 AVG Test Loss:0.118 AVG Training Acc 96.09 % AVG Test Acc 95.50 %\n",
      "EarlyStopping counter: 2 out of 20\n",
      "Epoch:361/1000 AVG Training Loss:0.122 AVG Test Loss:0.111 AVG Training Acc 95.99 % AVG Test Acc 95.67 %\n",
      "EarlyStopping counter: 3 out of 20\n",
      "Epoch:362/1000 AVG Training Loss:0.125 AVG Test Loss:0.109 AVG Training Acc 95.69 % AVG Test Acc 96.00 %\n",
      "EarlyStopping counter: 4 out of 20\n",
      "Epoch:363/1000 AVG Training Loss:0.120 AVG Test Loss:0.108 AVG Training Acc 96.13 % AVG Test Acc 96.17 %\n",
      "Validation loss decreased (0.108313 --> 0.107633).  Saving model ...\n",
      "Epoch:364/1000 AVG Training Loss:0.122 AVG Test Loss:0.111 AVG Training Acc 96.24 % AVG Test Acc 95.67 %\n",
      "EarlyStopping counter: 1 out of 20\n",
      "Epoch:365/1000 AVG Training Loss:0.123 AVG Test Loss:0.108 AVG Training Acc 96.07 % AVG Test Acc 95.75 %\n",
      "EarlyStopping counter: 2 out of 20\n",
      "Epoch:366/1000 AVG Training Loss:0.121 AVG Test Loss:0.112 AVG Training Acc 95.90 % AVG Test Acc 95.67 %\n",
      "EarlyStopping counter: 3 out of 20\n",
      "Epoch:367/1000 AVG Training Loss:0.120 AVG Test Loss:0.107 AVG Training Acc 95.72 % AVG Test Acc 96.09 %\n",
      "Validation loss decreased (0.107633 --> 0.106955).  Saving model ...\n",
      "Epoch:368/1000 AVG Training Loss:0.120 AVG Test Loss:0.110 AVG Training Acc 96.05 % AVG Test Acc 95.67 %\n",
      "EarlyStopping counter: 1 out of 20\n",
      "Epoch:369/1000 AVG Training Loss:0.120 AVG Test Loss:0.106 AVG Training Acc 95.88 % AVG Test Acc 95.75 %\n",
      "Validation loss decreased (0.106955 --> 0.105985).  Saving model ...\n",
      "Epoch:370/1000 AVG Training Loss:0.116 AVG Test Loss:0.103 AVG Training Acc 96.17 % AVG Test Acc 96.25 %\n",
      "Validation loss decreased (0.105985 --> 0.103184).  Saving model ...\n",
      "Epoch:371/1000 AVG Training Loss:0.117 AVG Test Loss:0.104 AVG Training Acc 96.26 % AVG Test Acc 96.25 %\n",
      "EarlyStopping counter: 1 out of 20\n",
      "Epoch:372/1000 AVG Training Loss:0.121 AVG Test Loss:0.105 AVG Training Acc 96.01 % AVG Test Acc 95.84 %\n",
      "EarlyStopping counter: 2 out of 20\n",
      "Epoch:373/1000 AVG Training Loss:0.116 AVG Test Loss:0.103 AVG Training Acc 96.05 % AVG Test Acc 95.92 %\n",
      "EarlyStopping counter: 3 out of 20\n",
      "Epoch:374/1000 AVG Training Loss:0.119 AVG Test Loss:0.102 AVG Training Acc 95.99 % AVG Test Acc 96.00 %\n",
      "Validation loss decreased (0.103184 --> 0.101663).  Saving model ...\n",
      "Epoch:375/1000 AVG Training Loss:0.119 AVG Test Loss:0.103 AVG Training Acc 95.90 % AVG Test Acc 96.00 %\n",
      "EarlyStopping counter: 1 out of 20\n",
      "Epoch:376/1000 AVG Training Loss:0.115 AVG Test Loss:0.104 AVG Training Acc 96.11 % AVG Test Acc 96.17 %\n",
      "EarlyStopping counter: 2 out of 20\n",
      "Epoch:377/1000 AVG Training Loss:0.117 AVG Test Loss:0.101 AVG Training Acc 96.13 % AVG Test Acc 96.17 %\n",
      "Validation loss decreased (0.101663 --> 0.100997).  Saving model ...\n",
      "Epoch:378/1000 AVG Training Loss:0.118 AVG Test Loss:0.105 AVG Training Acc 95.97 % AVG Test Acc 95.92 %\n",
      "EarlyStopping counter: 1 out of 20\n",
      "Epoch:379/1000 AVG Training Loss:0.113 AVG Test Loss:0.100 AVG Training Acc 96.19 % AVG Test Acc 96.59 %\n",
      "Validation loss decreased (0.100997 --> 0.099694).  Saving model ...\n",
      "Epoch:380/1000 AVG Training Loss:0.114 AVG Test Loss:0.103 AVG Training Acc 96.51 % AVG Test Acc 96.09 %\n",
      "EarlyStopping counter: 1 out of 20\n",
      "Epoch:381/1000 AVG Training Loss:0.117 AVG Test Loss:0.102 AVG Training Acc 96.07 % AVG Test Acc 96.50 %\n",
      "EarlyStopping counter: 2 out of 20\n",
      "Epoch:382/1000 AVG Training Loss:0.113 AVG Test Loss:0.099 AVG Training Acc 96.30 % AVG Test Acc 96.59 %\n",
      "Validation loss decreased (0.099694 --> 0.098850).  Saving model ...\n",
      "Epoch:383/1000 AVG Training Loss:0.115 AVG Test Loss:0.103 AVG Training Acc 96.13 % AVG Test Acc 96.00 %\n",
      "EarlyStopping counter: 1 out of 20\n",
      "Epoch:384/1000 AVG Training Loss:0.110 AVG Test Loss:0.102 AVG Training Acc 96.53 % AVG Test Acc 95.92 %\n",
      "EarlyStopping counter: 2 out of 20\n",
      "Epoch:385/1000 AVG Training Loss:0.110 AVG Test Loss:0.099 AVG Training Acc 96.44 % AVG Test Acc 96.50 %\n",
      "Validation loss decreased (0.098850 --> 0.098638).  Saving model ...\n",
      "Epoch:386/1000 AVG Training Loss:0.109 AVG Test Loss:0.097 AVG Training Acc 96.40 % AVG Test Acc 96.67 %\n",
      "Validation loss decreased (0.098638 --> 0.097093).  Saving model ...\n",
      "Epoch:387/1000 AVG Training Loss:0.112 AVG Test Loss:0.099 AVG Training Acc 96.55 % AVG Test Acc 96.25 %\n",
      "EarlyStopping counter: 1 out of 20\n",
      "Epoch:388/1000 AVG Training Loss:0.116 AVG Test Loss:0.098 AVG Training Acc 96.09 % AVG Test Acc 96.75 %\n",
      "EarlyStopping counter: 2 out of 20\n",
      "Epoch:389/1000 AVG Training Loss:0.107 AVG Test Loss:0.100 AVG Training Acc 96.32 % AVG Test Acc 96.25 %\n",
      "EarlyStopping counter: 3 out of 20\n",
      "Epoch:390/1000 AVG Training Loss:0.108 AVG Test Loss:0.097 AVG Training Acc 96.57 % AVG Test Acc 96.34 %\n",
      "EarlyStopping counter: 4 out of 20\n",
      "Epoch:391/1000 AVG Training Loss:0.106 AVG Test Loss:0.095 AVG Training Acc 96.69 % AVG Test Acc 96.67 %\n",
      "Validation loss decreased (0.097093 --> 0.095377).  Saving model ...\n",
      "Epoch:392/1000 AVG Training Loss:0.109 AVG Test Loss:0.098 AVG Training Acc 96.57 % AVG Test Acc 96.42 %\n",
      "EarlyStopping counter: 1 out of 20\n",
      "Epoch:393/1000 AVG Training Loss:0.108 AVG Test Loss:0.098 AVG Training Acc 96.46 % AVG Test Acc 96.25 %\n",
      "EarlyStopping counter: 2 out of 20\n",
      "Epoch:394/1000 AVG Training Loss:0.112 AVG Test Loss:0.094 AVG Training Acc 96.32 % AVG Test Acc 96.59 %\n",
      "Validation loss decreased (0.095377 --> 0.094124).  Saving model ...\n",
      "Epoch:395/1000 AVG Training Loss:0.111 AVG Test Loss:0.100 AVG Training Acc 96.24 % AVG Test Acc 96.17 %\n",
      "EarlyStopping counter: 1 out of 20\n",
      "Epoch:396/1000 AVG Training Loss:0.109 AVG Test Loss:0.097 AVG Training Acc 96.51 % AVG Test Acc 96.42 %\n",
      "EarlyStopping counter: 2 out of 20\n",
      "Epoch:397/1000 AVG Training Loss:0.105 AVG Test Loss:0.094 AVG Training Acc 96.51 % AVG Test Acc 96.67 %\n",
      "EarlyStopping counter: 3 out of 20\n",
      "Epoch:398/1000 AVG Training Loss:0.105 AVG Test Loss:0.098 AVG Training Acc 96.80 % AVG Test Acc 96.42 %\n",
      "EarlyStopping counter: 4 out of 20\n",
      "Epoch:399/1000 AVG Training Loss:0.108 AVG Test Loss:0.094 AVG Training Acc 96.69 % AVG Test Acc 96.59 %\n",
      "EarlyStopping counter: 5 out of 20\n",
      "Epoch:400/1000 AVG Training Loss:0.103 AVG Test Loss:0.097 AVG Training Acc 96.73 % AVG Test Acc 96.09 %\n",
      "EarlyStopping counter: 6 out of 20\n",
      "Epoch:401/1000 AVG Training Loss:0.108 AVG Test Loss:0.094 AVG Training Acc 96.65 % AVG Test Acc 96.42 %\n",
      "EarlyStopping counter: 7 out of 20\n",
      "Epoch:402/1000 AVG Training Loss:0.108 AVG Test Loss:0.091 AVG Training Acc 96.40 % AVG Test Acc 96.75 %\n",
      "Validation loss decreased (0.094124 --> 0.091444).  Saving model ...\n",
      "Epoch:403/1000 AVG Training Loss:0.106 AVG Test Loss:0.093 AVG Training Acc 96.63 % AVG Test Acc 96.75 %\n",
      "EarlyStopping counter: 1 out of 20\n",
      "Epoch:404/1000 AVG Training Loss:0.103 AVG Test Loss:0.095 AVG Training Acc 96.67 % AVG Test Acc 96.50 %\n",
      "EarlyStopping counter: 2 out of 20\n",
      "Epoch:405/1000 AVG Training Loss:0.107 AVG Test Loss:0.093 AVG Training Acc 96.57 % AVG Test Acc 96.67 %\n",
      "EarlyStopping counter: 3 out of 20\n",
      "Epoch:406/1000 AVG Training Loss:0.103 AVG Test Loss:0.090 AVG Training Acc 96.84 % AVG Test Acc 96.75 %\n",
      "Validation loss decreased (0.091444 --> 0.089899).  Saving model ...\n",
      "Epoch:407/1000 AVG Training Loss:0.102 AVG Test Loss:0.093 AVG Training Acc 96.71 % AVG Test Acc 96.42 %\n",
      "EarlyStopping counter: 1 out of 20\n",
      "Epoch:408/1000 AVG Training Loss:0.105 AVG Test Loss:0.091 AVG Training Acc 96.46 % AVG Test Acc 97.17 %\n",
      "EarlyStopping counter: 2 out of 20\n",
      "Epoch:409/1000 AVG Training Loss:0.101 AVG Test Loss:0.091 AVG Training Acc 96.84 % AVG Test Acc 96.59 %\n",
      "EarlyStopping counter: 3 out of 20\n",
      "Epoch:410/1000 AVG Training Loss:0.103 AVG Test Loss:0.089 AVG Training Acc 96.67 % AVG Test Acc 96.84 %\n",
      "Validation loss decreased (0.089899 --> 0.088989).  Saving model ...\n",
      "Epoch:411/1000 AVG Training Loss:0.099 AVG Test Loss:0.090 AVG Training Acc 96.82 % AVG Test Acc 97.09 %\n",
      "EarlyStopping counter: 1 out of 20\n",
      "Epoch:412/1000 AVG Training Loss:0.103 AVG Test Loss:0.095 AVG Training Acc 96.69 % AVG Test Acc 96.59 %\n",
      "EarlyStopping counter: 2 out of 20\n",
      "Epoch:413/1000 AVG Training Loss:0.104 AVG Test Loss:0.088 AVG Training Acc 96.55 % AVG Test Acc 97.17 %\n",
      "Validation loss decreased (0.088989 --> 0.087834).  Saving model ...\n",
      "Epoch:414/1000 AVG Training Loss:0.099 AVG Test Loss:0.088 AVG Training Acc 96.88 % AVG Test Acc 97.09 %\n",
      "EarlyStopping counter: 1 out of 20\n",
      "Epoch:415/1000 AVG Training Loss:0.094 AVG Test Loss:0.087 AVG Training Acc 97.19 % AVG Test Acc 96.84 %\n",
      "Validation loss decreased (0.087834 --> 0.087437).  Saving model ...\n",
      "Epoch:416/1000 AVG Training Loss:0.100 AVG Test Loss:0.090 AVG Training Acc 96.78 % AVG Test Acc 96.92 %\n",
      "EarlyStopping counter: 1 out of 20\n",
      "Epoch:417/1000 AVG Training Loss:0.099 AVG Test Loss:0.093 AVG Training Acc 96.98 % AVG Test Acc 96.75 %\n",
      "EarlyStopping counter: 2 out of 20\n",
      "Epoch:418/1000 AVG Training Loss:0.101 AVG Test Loss:0.090 AVG Training Acc 96.86 % AVG Test Acc 96.67 %\n",
      "EarlyStopping counter: 3 out of 20\n",
      "Epoch:419/1000 AVG Training Loss:0.101 AVG Test Loss:0.091 AVG Training Acc 96.80 % AVG Test Acc 96.59 %\n",
      "EarlyStopping counter: 4 out of 20\n",
      "Epoch:420/1000 AVG Training Loss:0.100 AVG Test Loss:0.086 AVG Training Acc 96.55 % AVG Test Acc 97.09 %\n",
      "Validation loss decreased (0.087437 --> 0.086291).  Saving model ...\n",
      "Epoch:421/1000 AVG Training Loss:0.100 AVG Test Loss:0.085 AVG Training Acc 96.65 % AVG Test Acc 97.09 %\n",
      "Validation loss decreased (0.086291 --> 0.085412).  Saving model ...\n",
      "Epoch:422/1000 AVG Training Loss:0.097 AVG Test Loss:0.085 AVG Training Acc 96.82 % AVG Test Acc 97.17 %\n",
      "Validation loss decreased (0.085412 --> 0.085008).  Saving model ...\n",
      "Epoch:423/1000 AVG Training Loss:0.097 AVG Test Loss:0.093 AVG Training Acc 96.82 % AVG Test Acc 96.59 %\n",
      "EarlyStopping counter: 1 out of 20\n",
      "Epoch:424/1000 AVG Training Loss:0.098 AVG Test Loss:0.096 AVG Training Acc 97.05 % AVG Test Acc 96.50 %\n",
      "EarlyStopping counter: 2 out of 20\n",
      "Epoch:425/1000 AVG Training Loss:0.102 AVG Test Loss:0.084 AVG Training Acc 96.80 % AVG Test Acc 97.25 %\n",
      "Validation loss decreased (0.085008 --> 0.084371).  Saving model ...\n",
      "Epoch:426/1000 AVG Training Loss:0.098 AVG Test Loss:0.085 AVG Training Acc 97.11 % AVG Test Acc 97.25 %\n",
      "EarlyStopping counter: 1 out of 20\n",
      "Epoch:427/1000 AVG Training Loss:0.097 AVG Test Loss:0.087 AVG Training Acc 96.94 % AVG Test Acc 96.59 %\n",
      "EarlyStopping counter: 2 out of 20\n",
      "Epoch:428/1000 AVG Training Loss:0.097 AVG Test Loss:0.088 AVG Training Acc 96.80 % AVG Test Acc 97.25 %\n",
      "EarlyStopping counter: 3 out of 20\n",
      "Epoch:429/1000 AVG Training Loss:0.098 AVG Test Loss:0.082 AVG Training Acc 96.84 % AVG Test Acc 97.17 %\n",
      "Validation loss decreased (0.084371 --> 0.082464).  Saving model ...\n",
      "Epoch:430/1000 AVG Training Loss:0.094 AVG Test Loss:0.089 AVG Training Acc 97.07 % AVG Test Acc 97.00 %\n",
      "EarlyStopping counter: 1 out of 20\n",
      "Epoch:431/1000 AVG Training Loss:0.098 AVG Test Loss:0.081 AVG Training Acc 96.78 % AVG Test Acc 97.34 %\n",
      "Validation loss decreased (0.082464 --> 0.080770).  Saving model ...\n",
      "Epoch:432/1000 AVG Training Loss:0.093 AVG Test Loss:0.087 AVG Training Acc 96.96 % AVG Test Acc 96.92 %\n",
      "EarlyStopping counter: 1 out of 20\n",
      "Epoch:433/1000 AVG Training Loss:0.096 AVG Test Loss:0.085 AVG Training Acc 96.94 % AVG Test Acc 96.84 %\n",
      "EarlyStopping counter: 2 out of 20\n",
      "Epoch:434/1000 AVG Training Loss:0.095 AVG Test Loss:0.081 AVG Training Acc 96.90 % AVG Test Acc 97.34 %\n",
      "EarlyStopping counter: 3 out of 20\n",
      "Epoch:435/1000 AVG Training Loss:0.091 AVG Test Loss:0.081 AVG Training Acc 96.92 % AVG Test Acc 97.17 %\n",
      "EarlyStopping counter: 4 out of 20\n",
      "Epoch:436/1000 AVG Training Loss:0.094 AVG Test Loss:0.082 AVG Training Acc 97.15 % AVG Test Acc 97.09 %\n",
      "EarlyStopping counter: 5 out of 20\n",
      "Epoch:437/1000 AVG Training Loss:0.089 AVG Test Loss:0.080 AVG Training Acc 97.23 % AVG Test Acc 97.09 %\n",
      "Validation loss decreased (0.080770 --> 0.079680).  Saving model ...\n",
      "Epoch:438/1000 AVG Training Loss:0.095 AVG Test Loss:0.079 AVG Training Acc 96.90 % AVG Test Acc 97.25 %\n",
      "Validation loss decreased (0.079680 --> 0.078640).  Saving model ...\n",
      "Epoch:439/1000 AVG Training Loss:0.092 AVG Test Loss:0.078 AVG Training Acc 96.88 % AVG Test Acc 97.34 %\n",
      "Validation loss decreased (0.078640 --> 0.078186).  Saving model ...\n",
      "Epoch:440/1000 AVG Training Loss:0.088 AVG Test Loss:0.081 AVG Training Acc 97.07 % AVG Test Acc 97.00 %\n",
      "EarlyStopping counter: 1 out of 20\n",
      "Epoch:441/1000 AVG Training Loss:0.094 AVG Test Loss:0.079 AVG Training Acc 97.00 % AVG Test Acc 97.17 %\n",
      "EarlyStopping counter: 2 out of 20\n",
      "Epoch:442/1000 AVG Training Loss:0.090 AVG Test Loss:0.085 AVG Training Acc 97.09 % AVG Test Acc 97.00 %\n",
      "EarlyStopping counter: 3 out of 20\n",
      "Epoch:443/1000 AVG Training Loss:0.090 AVG Test Loss:0.079 AVG Training Acc 97.50 % AVG Test Acc 97.42 %\n",
      "EarlyStopping counter: 4 out of 20\n",
      "Epoch:444/1000 AVG Training Loss:0.091 AVG Test Loss:0.079 AVG Training Acc 97.17 % AVG Test Acc 97.34 %\n",
      "EarlyStopping counter: 5 out of 20\n",
      "Epoch:445/1000 AVG Training Loss:0.090 AVG Test Loss:0.080 AVG Training Acc 97.21 % AVG Test Acc 97.34 %\n",
      "EarlyStopping counter: 6 out of 20\n",
      "Epoch:446/1000 AVG Training Loss:0.092 AVG Test Loss:0.079 AVG Training Acc 97.03 % AVG Test Acc 97.42 %\n",
      "EarlyStopping counter: 7 out of 20\n",
      "Epoch:447/1000 AVG Training Loss:0.092 AVG Test Loss:0.077 AVG Training Acc 97.11 % AVG Test Acc 97.75 %\n",
      "Validation loss decreased (0.078186 --> 0.076575).  Saving model ...\n",
      "Epoch:448/1000 AVG Training Loss:0.090 AVG Test Loss:0.077 AVG Training Acc 97.28 % AVG Test Acc 97.34 %\n",
      "EarlyStopping counter: 1 out of 20\n",
      "Epoch:449/1000 AVG Training Loss:0.086 AVG Test Loss:0.078 AVG Training Acc 97.36 % AVG Test Acc 97.17 %\n",
      "EarlyStopping counter: 2 out of 20\n",
      "Epoch:450/1000 AVG Training Loss:0.090 AVG Test Loss:0.079 AVG Training Acc 96.94 % AVG Test Acc 97.17 %\n",
      "EarlyStopping counter: 3 out of 20\n",
      "Epoch:451/1000 AVG Training Loss:0.089 AVG Test Loss:0.077 AVG Training Acc 97.15 % AVG Test Acc 97.34 %\n",
      "EarlyStopping counter: 4 out of 20\n",
      "Epoch:452/1000 AVG Training Loss:0.089 AVG Test Loss:0.075 AVG Training Acc 97.38 % AVG Test Acc 97.50 %\n",
      "Validation loss decreased (0.076575 --> 0.075151).  Saving model ...\n",
      "Epoch:453/1000 AVG Training Loss:0.091 AVG Test Loss:0.077 AVG Training Acc 97.07 % AVG Test Acc 97.09 %\n",
      "EarlyStopping counter: 1 out of 20\n",
      "Epoch:454/1000 AVG Training Loss:0.088 AVG Test Loss:0.075 AVG Training Acc 97.32 % AVG Test Acc 97.25 %\n",
      "EarlyStopping counter: 2 out of 20\n",
      "Epoch:455/1000 AVG Training Loss:0.090 AVG Test Loss:0.081 AVG Training Acc 97.28 % AVG Test Acc 97.09 %\n",
      "EarlyStopping counter: 3 out of 20\n",
      "Epoch:456/1000 AVG Training Loss:0.085 AVG Test Loss:0.079 AVG Training Acc 97.25 % AVG Test Acc 96.92 %\n",
      "EarlyStopping counter: 4 out of 20\n",
      "Epoch:457/1000 AVG Training Loss:0.090 AVG Test Loss:0.074 AVG Training Acc 97.21 % AVG Test Acc 97.50 %\n",
      "Validation loss decreased (0.075151 --> 0.073522).  Saving model ...\n",
      "Epoch:458/1000 AVG Training Loss:0.087 AVG Test Loss:0.074 AVG Training Acc 97.21 % AVG Test Acc 97.59 %\n",
      "EarlyStopping counter: 1 out of 20\n",
      "Epoch:459/1000 AVG Training Loss:0.089 AVG Test Loss:0.074 AVG Training Acc 97.11 % AVG Test Acc 97.09 %\n",
      "EarlyStopping counter: 2 out of 20\n",
      "Epoch:460/1000 AVG Training Loss:0.086 AVG Test Loss:0.072 AVG Training Acc 97.21 % AVG Test Acc 97.59 %\n",
      "Validation loss decreased (0.073522 --> 0.072099).  Saving model ...\n",
      "Epoch:461/1000 AVG Training Loss:0.085 AVG Test Loss:0.071 AVG Training Acc 97.25 % AVG Test Acc 97.59 %\n",
      "Validation loss decreased (0.072099 --> 0.071469).  Saving model ...\n",
      "Epoch:462/1000 AVG Training Loss:0.085 AVG Test Loss:0.074 AVG Training Acc 97.36 % AVG Test Acc 97.17 %\n",
      "EarlyStopping counter: 1 out of 20\n",
      "Epoch:463/1000 AVG Training Loss:0.081 AVG Test Loss:0.077 AVG Training Acc 97.63 % AVG Test Acc 97.59 %\n",
      "EarlyStopping counter: 2 out of 20\n",
      "Epoch:464/1000 AVG Training Loss:0.086 AVG Test Loss:0.078 AVG Training Acc 97.44 % AVG Test Acc 97.17 %\n",
      "EarlyStopping counter: 3 out of 20\n",
      "Epoch:465/1000 AVG Training Loss:0.085 AVG Test Loss:0.084 AVG Training Acc 97.15 % AVG Test Acc 97.09 %\n",
      "EarlyStopping counter: 4 out of 20\n",
      "Epoch:466/1000 AVG Training Loss:0.082 AVG Test Loss:0.075 AVG Training Acc 97.38 % AVG Test Acc 97.50 %\n",
      "EarlyStopping counter: 5 out of 20\n",
      "Epoch:467/1000 AVG Training Loss:0.083 AVG Test Loss:0.070 AVG Training Acc 97.57 % AVG Test Acc 97.67 %\n",
      "Validation loss decreased (0.071469 --> 0.070285).  Saving model ...\n",
      "Epoch:468/1000 AVG Training Loss:0.084 AVG Test Loss:0.075 AVG Training Acc 97.42 % AVG Test Acc 97.25 %\n",
      "EarlyStopping counter: 1 out of 20\n",
      "Epoch:469/1000 AVG Training Loss:0.085 AVG Test Loss:0.069 AVG Training Acc 97.28 % AVG Test Acc 97.75 %\n",
      "Validation loss decreased (0.070285 --> 0.069308).  Saving model ...\n",
      "Epoch:470/1000 AVG Training Loss:0.084 AVG Test Loss:0.070 AVG Training Acc 97.50 % AVG Test Acc 97.50 %\n",
      "EarlyStopping counter: 1 out of 20\n",
      "Epoch:471/1000 AVG Training Loss:0.082 AVG Test Loss:0.072 AVG Training Acc 97.38 % AVG Test Acc 97.25 %\n",
      "EarlyStopping counter: 2 out of 20\n",
      "Epoch:472/1000 AVG Training Loss:0.083 AVG Test Loss:0.074 AVG Training Acc 97.50 % AVG Test Acc 97.34 %\n",
      "EarlyStopping counter: 3 out of 20\n",
      "Epoch:473/1000 AVG Training Loss:0.084 AVG Test Loss:0.072 AVG Training Acc 97.25 % AVG Test Acc 97.50 %\n",
      "EarlyStopping counter: 4 out of 20\n",
      "Epoch:474/1000 AVG Training Loss:0.074 AVG Test Loss:0.076 AVG Training Acc 97.75 % AVG Test Acc 97.42 %\n",
      "EarlyStopping counter: 5 out of 20\n",
      "Epoch:475/1000 AVG Training Loss:0.083 AVG Test Loss:0.070 AVG Training Acc 97.34 % AVG Test Acc 97.50 %\n",
      "EarlyStopping counter: 6 out of 20\n",
      "Epoch:476/1000 AVG Training Loss:0.084 AVG Test Loss:0.069 AVG Training Acc 97.50 % AVG Test Acc 97.59 %\n",
      "Validation loss decreased (0.069308 --> 0.068567).  Saving model ...\n",
      "Epoch:477/1000 AVG Training Loss:0.085 AVG Test Loss:0.071 AVG Training Acc 97.38 % AVG Test Acc 97.34 %\n",
      "EarlyStopping counter: 1 out of 20\n",
      "Epoch:478/1000 AVG Training Loss:0.081 AVG Test Loss:0.075 AVG Training Acc 97.55 % AVG Test Acc 97.25 %\n",
      "EarlyStopping counter: 2 out of 20\n",
      "Epoch:479/1000 AVG Training Loss:0.083 AVG Test Loss:0.069 AVG Training Acc 97.50 % AVG Test Acc 97.59 %\n",
      "EarlyStopping counter: 3 out of 20\n",
      "Epoch:480/1000 AVG Training Loss:0.080 AVG Test Loss:0.068 AVG Training Acc 97.40 % AVG Test Acc 97.59 %\n",
      "Validation loss decreased (0.068567 --> 0.067592).  Saving model ...\n",
      "Epoch:481/1000 AVG Training Loss:0.079 AVG Test Loss:0.068 AVG Training Acc 97.63 % AVG Test Acc 97.75 %\n",
      "EarlyStopping counter: 1 out of 20\n",
      "Epoch:482/1000 AVG Training Loss:0.081 AVG Test Loss:0.068 AVG Training Acc 97.55 % AVG Test Acc 97.75 %\n",
      "Validation loss decreased (0.067592 --> 0.067507).  Saving model ...\n",
      "Epoch:483/1000 AVG Training Loss:0.079 AVG Test Loss:0.066 AVG Training Acc 97.65 % AVG Test Acc 97.75 %\n",
      "Validation loss decreased (0.067507 --> 0.065938).  Saving model ...\n",
      "Epoch:484/1000 AVG Training Loss:0.077 AVG Test Loss:0.070 AVG Training Acc 97.63 % AVG Test Acc 97.75 %\n",
      "EarlyStopping counter: 1 out of 20\n",
      "Epoch:485/1000 AVG Training Loss:0.079 AVG Test Loss:0.066 AVG Training Acc 97.46 % AVG Test Acc 98.00 %\n",
      "Validation loss decreased (0.065938 --> 0.065748).  Saving model ...\n",
      "Epoch:486/1000 AVG Training Loss:0.080 AVG Test Loss:0.067 AVG Training Acc 97.44 % AVG Test Acc 97.92 %\n",
      "EarlyStopping counter: 1 out of 20\n",
      "Epoch:487/1000 AVG Training Loss:0.081 AVG Test Loss:0.066 AVG Training Acc 97.63 % AVG Test Acc 97.84 %\n",
      "EarlyStopping counter: 2 out of 20\n",
      "Epoch:488/1000 AVG Training Loss:0.077 AVG Test Loss:0.069 AVG Training Acc 97.71 % AVG Test Acc 97.75 %\n",
      "EarlyStopping counter: 3 out of 20\n",
      "Epoch:489/1000 AVG Training Loss:0.079 AVG Test Loss:0.066 AVG Training Acc 97.61 % AVG Test Acc 97.67 %\n",
      "EarlyStopping counter: 4 out of 20\n",
      "Epoch:490/1000 AVG Training Loss:0.078 AVG Test Loss:0.066 AVG Training Acc 97.59 % AVG Test Acc 98.17 %\n",
      "Validation loss decreased (0.065748 --> 0.065549).  Saving model ...\n",
      "Epoch:491/1000 AVG Training Loss:0.079 AVG Test Loss:0.065 AVG Training Acc 97.73 % AVG Test Acc 97.84 %\n",
      "Validation loss decreased (0.065549 --> 0.065322).  Saving model ...\n",
      "Epoch:492/1000 AVG Training Loss:0.075 AVG Test Loss:0.065 AVG Training Acc 97.69 % AVG Test Acc 98.00 %\n",
      "Validation loss decreased (0.065322 --> 0.065224).  Saving model ...\n",
      "Epoch:493/1000 AVG Training Loss:0.078 AVG Test Loss:0.067 AVG Training Acc 97.61 % AVG Test Acc 97.84 %\n",
      "EarlyStopping counter: 1 out of 20\n",
      "Epoch:494/1000 AVG Training Loss:0.078 AVG Test Loss:0.069 AVG Training Acc 97.73 % AVG Test Acc 97.92 %\n",
      "EarlyStopping counter: 2 out of 20\n",
      "Epoch:495/1000 AVG Training Loss:0.075 AVG Test Loss:0.065 AVG Training Acc 97.80 % AVG Test Acc 97.92 %\n",
      "Validation loss decreased (0.065224 --> 0.065045).  Saving model ...\n",
      "Epoch:496/1000 AVG Training Loss:0.080 AVG Test Loss:0.064 AVG Training Acc 97.69 % AVG Test Acc 97.92 %\n",
      "Validation loss decreased (0.065045 --> 0.064338).  Saving model ...\n",
      "Epoch:497/1000 AVG Training Loss:0.077 AVG Test Loss:0.067 AVG Training Acc 97.57 % AVG Test Acc 97.59 %\n",
      "EarlyStopping counter: 1 out of 20\n",
      "Epoch:498/1000 AVG Training Loss:0.078 AVG Test Loss:0.068 AVG Training Acc 97.48 % AVG Test Acc 97.84 %\n",
      "EarlyStopping counter: 2 out of 20\n",
      "Epoch:499/1000 AVG Training Loss:0.080 AVG Test Loss:0.067 AVG Training Acc 97.65 % AVG Test Acc 98.00 %\n",
      "EarlyStopping counter: 3 out of 20\n",
      "Epoch:500/1000 AVG Training Loss:0.076 AVG Test Loss:0.067 AVG Training Acc 97.69 % AVG Test Acc 97.84 %\n",
      "EarlyStopping counter: 4 out of 20\n",
      "Epoch:501/1000 AVG Training Loss:0.074 AVG Test Loss:0.066 AVG Training Acc 97.73 % AVG Test Acc 98.08 %\n",
      "EarlyStopping counter: 5 out of 20\n",
      "Epoch:502/1000 AVG Training Loss:0.070 AVG Test Loss:0.063 AVG Training Acc 97.63 % AVG Test Acc 98.33 %\n",
      "Validation loss decreased (0.064338 --> 0.063151).  Saving model ...\n",
      "Epoch:503/1000 AVG Training Loss:0.075 AVG Test Loss:0.063 AVG Training Acc 97.84 % AVG Test Acc 98.08 %\n",
      "Validation loss decreased (0.063151 --> 0.063112).  Saving model ...\n",
      "Epoch:504/1000 AVG Training Loss:0.077 AVG Test Loss:0.063 AVG Training Acc 97.84 % AVG Test Acc 98.33 %\n",
      "Validation loss decreased (0.063112 --> 0.062509).  Saving model ...\n",
      "Epoch:505/1000 AVG Training Loss:0.076 AVG Test Loss:0.062 AVG Training Acc 97.71 % AVG Test Acc 98.08 %\n",
      "Validation loss decreased (0.062509 --> 0.061856).  Saving model ...\n",
      "Epoch:506/1000 AVG Training Loss:0.075 AVG Test Loss:0.063 AVG Training Acc 97.77 % AVG Test Acc 97.84 %\n",
      "EarlyStopping counter: 1 out of 20\n",
      "Epoch:507/1000 AVG Training Loss:0.072 AVG Test Loss:0.063 AVG Training Acc 97.82 % AVG Test Acc 98.17 %\n",
      "EarlyStopping counter: 2 out of 20\n",
      "Epoch:508/1000 AVG Training Loss:0.075 AVG Test Loss:0.068 AVG Training Acc 97.77 % AVG Test Acc 97.59 %\n",
      "EarlyStopping counter: 3 out of 20\n",
      "Epoch:509/1000 AVG Training Loss:0.074 AVG Test Loss:0.062 AVG Training Acc 97.82 % AVG Test Acc 98.08 %\n",
      "EarlyStopping counter: 4 out of 20\n",
      "Epoch:510/1000 AVG Training Loss:0.072 AVG Test Loss:0.062 AVG Training Acc 97.69 % AVG Test Acc 98.25 %\n",
      "EarlyStopping counter: 5 out of 20\n",
      "Epoch:511/1000 AVG Training Loss:0.077 AVG Test Loss:0.066 AVG Training Acc 97.65 % AVG Test Acc 97.92 %\n",
      "EarlyStopping counter: 6 out of 20\n",
      "Epoch:512/1000 AVG Training Loss:0.071 AVG Test Loss:0.066 AVG Training Acc 97.88 % AVG Test Acc 97.59 %\n",
      "EarlyStopping counter: 7 out of 20\n",
      "Epoch:513/1000 AVG Training Loss:0.069 AVG Test Loss:0.064 AVG Training Acc 97.94 % AVG Test Acc 98.00 %\n",
      "EarlyStopping counter: 8 out of 20\n",
      "Epoch:514/1000 AVG Training Loss:0.070 AVG Test Loss:0.060 AVG Training Acc 97.84 % AVG Test Acc 98.58 %\n",
      "Validation loss decreased (0.061856 --> 0.060482).  Saving model ...\n",
      "Epoch:515/1000 AVG Training Loss:0.074 AVG Test Loss:0.062 AVG Training Acc 97.88 % AVG Test Acc 98.08 %\n",
      "EarlyStopping counter: 1 out of 20\n",
      "Epoch:516/1000 AVG Training Loss:0.071 AVG Test Loss:0.065 AVG Training Acc 97.71 % AVG Test Acc 97.92 %\n",
      "EarlyStopping counter: 2 out of 20\n",
      "Epoch:517/1000 AVG Training Loss:0.075 AVG Test Loss:0.063 AVG Training Acc 97.98 % AVG Test Acc 98.00 %\n",
      "EarlyStopping counter: 3 out of 20\n",
      "Epoch:518/1000 AVG Training Loss:0.073 AVG Test Loss:0.060 AVG Training Acc 97.69 % AVG Test Acc 98.08 %\n",
      "Validation loss decreased (0.060482 --> 0.059630).  Saving model ...\n",
      "Epoch:519/1000 AVG Training Loss:0.073 AVG Test Loss:0.061 AVG Training Acc 97.92 % AVG Test Acc 98.33 %\n",
      "EarlyStopping counter: 1 out of 20\n",
      "Epoch:520/1000 AVG Training Loss:0.070 AVG Test Loss:0.060 AVG Training Acc 97.96 % AVG Test Acc 98.42 %\n",
      "EarlyStopping counter: 2 out of 20\n",
      "Epoch:521/1000 AVG Training Loss:0.071 AVG Test Loss:0.062 AVG Training Acc 97.84 % AVG Test Acc 98.17 %\n",
      "EarlyStopping counter: 3 out of 20\n",
      "Epoch:522/1000 AVG Training Loss:0.068 AVG Test Loss:0.061 AVG Training Acc 97.90 % AVG Test Acc 98.25 %\n",
      "EarlyStopping counter: 4 out of 20\n",
      "Epoch:523/1000 AVG Training Loss:0.067 AVG Test Loss:0.061 AVG Training Acc 97.82 % AVG Test Acc 98.25 %\n",
      "EarlyStopping counter: 5 out of 20\n",
      "Epoch:524/1000 AVG Training Loss:0.070 AVG Test Loss:0.063 AVG Training Acc 98.02 % AVG Test Acc 98.17 %\n",
      "EarlyStopping counter: 6 out of 20\n",
      "Epoch:525/1000 AVG Training Loss:0.071 AVG Test Loss:0.063 AVG Training Acc 97.82 % AVG Test Acc 98.25 %\n",
      "EarlyStopping counter: 7 out of 20\n",
      "Epoch:526/1000 AVG Training Loss:0.067 AVG Test Loss:0.066 AVG Training Acc 98.00 % AVG Test Acc 97.92 %\n",
      "EarlyStopping counter: 8 out of 20\n",
      "Epoch:527/1000 AVG Training Loss:0.071 AVG Test Loss:0.059 AVG Training Acc 97.69 % AVG Test Acc 98.58 %\n",
      "Validation loss decreased (0.059630 --> 0.058585).  Saving model ...\n",
      "Epoch:528/1000 AVG Training Loss:0.069 AVG Test Loss:0.060 AVG Training Acc 97.94 % AVG Test Acc 98.25 %\n",
      "EarlyStopping counter: 1 out of 20\n",
      "Epoch:529/1000 AVG Training Loss:0.069 AVG Test Loss:0.059 AVG Training Acc 98.02 % AVG Test Acc 98.08 %\n",
      "EarlyStopping counter: 2 out of 20\n",
      "Epoch:530/1000 AVG Training Loss:0.069 AVG Test Loss:0.057 AVG Training Acc 97.90 % AVG Test Acc 98.17 %\n",
      "Validation loss decreased (0.058585 --> 0.057186).  Saving model ...\n",
      "Epoch:531/1000 AVG Training Loss:0.067 AVG Test Loss:0.058 AVG Training Acc 98.15 % AVG Test Acc 98.42 %\n",
      "EarlyStopping counter: 1 out of 20\n",
      "Epoch:532/1000 AVG Training Loss:0.068 AVG Test Loss:0.062 AVG Training Acc 98.02 % AVG Test Acc 98.25 %\n",
      "EarlyStopping counter: 2 out of 20\n",
      "Epoch:533/1000 AVG Training Loss:0.065 AVG Test Loss:0.058 AVG Training Acc 97.86 % AVG Test Acc 98.50 %\n",
      "EarlyStopping counter: 3 out of 20\n",
      "Epoch:534/1000 AVG Training Loss:0.070 AVG Test Loss:0.060 AVG Training Acc 97.80 % AVG Test Acc 98.42 %\n",
      "EarlyStopping counter: 4 out of 20\n",
      "Epoch:535/1000 AVG Training Loss:0.068 AVG Test Loss:0.060 AVG Training Acc 98.07 % AVG Test Acc 98.17 %\n",
      "EarlyStopping counter: 5 out of 20\n",
      "Epoch:536/1000 AVG Training Loss:0.068 AVG Test Loss:0.060 AVG Training Acc 97.88 % AVG Test Acc 98.33 %\n",
      "EarlyStopping counter: 6 out of 20\n",
      "Epoch:537/1000 AVG Training Loss:0.069 AVG Test Loss:0.059 AVG Training Acc 97.82 % AVG Test Acc 98.42 %\n",
      "EarlyStopping counter: 7 out of 20\n",
      "Epoch:538/1000 AVG Training Loss:0.067 AVG Test Loss:0.058 AVG Training Acc 97.73 % AVG Test Acc 98.58 %\n",
      "EarlyStopping counter: 8 out of 20\n",
      "Epoch:539/1000 AVG Training Loss:0.067 AVG Test Loss:0.056 AVG Training Acc 97.88 % AVG Test Acc 98.42 %\n",
      "Validation loss decreased (0.057186 --> 0.056228).  Saving model ...\n",
      "Epoch:540/1000 AVG Training Loss:0.064 AVG Test Loss:0.059 AVG Training Acc 98.13 % AVG Test Acc 98.08 %\n",
      "EarlyStopping counter: 1 out of 20\n",
      "Epoch:541/1000 AVG Training Loss:0.067 AVG Test Loss:0.055 AVG Training Acc 97.92 % AVG Test Acc 98.67 %\n",
      "Validation loss decreased (0.056228 --> 0.054775).  Saving model ...\n",
      "Epoch:542/1000 AVG Training Loss:0.064 AVG Test Loss:0.058 AVG Training Acc 98.02 % AVG Test Acc 98.50 %\n",
      "EarlyStopping counter: 1 out of 20\n",
      "Epoch:543/1000 AVG Training Loss:0.066 AVG Test Loss:0.059 AVG Training Acc 98.11 % AVG Test Acc 98.17 %\n",
      "EarlyStopping counter: 2 out of 20\n",
      "Epoch:544/1000 AVG Training Loss:0.064 AVG Test Loss:0.060 AVG Training Acc 98.07 % AVG Test Acc 98.42 %\n",
      "EarlyStopping counter: 3 out of 20\n",
      "Epoch:545/1000 AVG Training Loss:0.073 AVG Test Loss:0.058 AVG Training Acc 97.88 % AVG Test Acc 98.50 %\n",
      "EarlyStopping counter: 4 out of 20\n",
      "Epoch:546/1000 AVG Training Loss:0.066 AVG Test Loss:0.054 AVG Training Acc 98.00 % AVG Test Acc 98.33 %\n",
      "Validation loss decreased (0.054775 --> 0.053863).  Saving model ...\n",
      "Epoch:547/1000 AVG Training Loss:0.068 AVG Test Loss:0.056 AVG Training Acc 97.94 % AVG Test Acc 98.42 %\n",
      "EarlyStopping counter: 1 out of 20\n",
      "Epoch:548/1000 AVG Training Loss:0.066 AVG Test Loss:0.056 AVG Training Acc 97.92 % AVG Test Acc 98.33 %\n",
      "EarlyStopping counter: 2 out of 20\n",
      "Epoch:549/1000 AVG Training Loss:0.064 AVG Test Loss:0.054 AVG Training Acc 97.98 % AVG Test Acc 98.42 %\n",
      "EarlyStopping counter: 3 out of 20\n",
      "Epoch:550/1000 AVG Training Loss:0.064 AVG Test Loss:0.055 AVG Training Acc 98.11 % AVG Test Acc 98.42 %\n",
      "EarlyStopping counter: 4 out of 20\n",
      "Epoch:551/1000 AVG Training Loss:0.062 AVG Test Loss:0.055 AVG Training Acc 98.17 % AVG Test Acc 98.33 %\n",
      "EarlyStopping counter: 5 out of 20\n",
      "Epoch:552/1000 AVG Training Loss:0.067 AVG Test Loss:0.054 AVG Training Acc 97.88 % AVG Test Acc 98.50 %\n",
      "EarlyStopping counter: 6 out of 20\n",
      "Epoch:553/1000 AVG Training Loss:0.064 AVG Test Loss:0.054 AVG Training Acc 98.02 % AVG Test Acc 98.42 %\n",
      "EarlyStopping counter: 7 out of 20\n",
      "Epoch:554/1000 AVG Training Loss:0.065 AVG Test Loss:0.055 AVG Training Acc 98.15 % AVG Test Acc 98.58 %\n",
      "EarlyStopping counter: 8 out of 20\n",
      "Epoch:555/1000 AVG Training Loss:0.067 AVG Test Loss:0.056 AVG Training Acc 98.02 % AVG Test Acc 98.33 %\n",
      "EarlyStopping counter: 9 out of 20\n",
      "Epoch:556/1000 AVG Training Loss:0.063 AVG Test Loss:0.060 AVG Training Acc 98.13 % AVG Test Acc 98.08 %\n",
      "EarlyStopping counter: 10 out of 20\n",
      "Epoch:557/1000 AVG Training Loss:0.065 AVG Test Loss:0.055 AVG Training Acc 98.04 % AVG Test Acc 98.58 %\n",
      "EarlyStopping counter: 11 out of 20\n",
      "Epoch:558/1000 AVG Training Loss:0.062 AVG Test Loss:0.054 AVG Training Acc 98.19 % AVG Test Acc 98.33 %\n",
      "EarlyStopping counter: 12 out of 20\n",
      "Epoch:559/1000 AVG Training Loss:0.062 AVG Test Loss:0.052 AVG Training Acc 98.19 % AVG Test Acc 98.67 %\n",
      "Validation loss decreased (0.053863 --> 0.052191).  Saving model ...\n",
      "Epoch:560/1000 AVG Training Loss:0.059 AVG Test Loss:0.054 AVG Training Acc 98.23 % AVG Test Acc 98.67 %\n",
      "EarlyStopping counter: 1 out of 20\n",
      "Epoch:561/1000 AVG Training Loss:0.061 AVG Test Loss:0.054 AVG Training Acc 98.21 % AVG Test Acc 98.58 %\n",
      "EarlyStopping counter: 2 out of 20\n",
      "Epoch:562/1000 AVG Training Loss:0.063 AVG Test Loss:0.052 AVG Training Acc 98.11 % AVG Test Acc 98.42 %\n",
      "EarlyStopping counter: 3 out of 20\n",
      "Epoch:563/1000 AVG Training Loss:0.064 AVG Test Loss:0.061 AVG Training Acc 98.11 % AVG Test Acc 98.17 %\n",
      "EarlyStopping counter: 4 out of 20\n",
      "Epoch:564/1000 AVG Training Loss:0.065 AVG Test Loss:0.057 AVG Training Acc 98.09 % AVG Test Acc 98.50 %\n",
      "EarlyStopping counter: 5 out of 20\n",
      "Epoch:565/1000 AVG Training Loss:0.060 AVG Test Loss:0.054 AVG Training Acc 98.17 % AVG Test Acc 98.33 %\n",
      "EarlyStopping counter: 6 out of 20\n",
      "Epoch:566/1000 AVG Training Loss:0.062 AVG Test Loss:0.056 AVG Training Acc 98.17 % AVG Test Acc 98.50 %\n",
      "EarlyStopping counter: 7 out of 20\n",
      "Epoch:567/1000 AVG Training Loss:0.063 AVG Test Loss:0.054 AVG Training Acc 98.15 % AVG Test Acc 98.50 %\n",
      "EarlyStopping counter: 8 out of 20\n",
      "Epoch:568/1000 AVG Training Loss:0.058 AVG Test Loss:0.054 AVG Training Acc 98.34 % AVG Test Acc 98.50 %\n",
      "EarlyStopping counter: 9 out of 20\n",
      "Epoch:569/1000 AVG Training Loss:0.063 AVG Test Loss:0.051 AVG Training Acc 98.09 % AVG Test Acc 98.50 %\n",
      "Validation loss decreased (0.052191 --> 0.051486).  Saving model ...\n",
      "Epoch:570/1000 AVG Training Loss:0.060 AVG Test Loss:0.051 AVG Training Acc 98.15 % AVG Test Acc 98.67 %\n",
      "Validation loss decreased (0.051486 --> 0.051265).  Saving model ...\n",
      "Epoch:571/1000 AVG Training Loss:0.062 AVG Test Loss:0.058 AVG Training Acc 98.04 % AVG Test Acc 98.08 %\n",
      "EarlyStopping counter: 1 out of 20\n",
      "Epoch:572/1000 AVG Training Loss:0.062 AVG Test Loss:0.051 AVG Training Acc 98.15 % AVG Test Acc 98.67 %\n",
      "Validation loss decreased (0.051265 --> 0.050729).  Saving model ...\n",
      "Epoch:573/1000 AVG Training Loss:0.062 AVG Test Loss:0.052 AVG Training Acc 98.11 % AVG Test Acc 98.50 %\n",
      "EarlyStopping counter: 1 out of 20\n",
      "Epoch:574/1000 AVG Training Loss:0.062 AVG Test Loss:0.054 AVG Training Acc 98.09 % AVG Test Acc 98.58 %\n",
      "EarlyStopping counter: 2 out of 20\n",
      "Epoch:575/1000 AVG Training Loss:0.064 AVG Test Loss:0.051 AVG Training Acc 97.88 % AVG Test Acc 98.75 %\n",
      "EarlyStopping counter: 3 out of 20\n",
      "Epoch:576/1000 AVG Training Loss:0.062 AVG Test Loss:0.052 AVG Training Acc 98.23 % AVG Test Acc 98.50 %\n",
      "EarlyStopping counter: 4 out of 20\n",
      "Epoch:577/1000 AVG Training Loss:0.061 AVG Test Loss:0.054 AVG Training Acc 98.29 % AVG Test Acc 98.33 %\n",
      "EarlyStopping counter: 5 out of 20\n",
      "Epoch:578/1000 AVG Training Loss:0.062 AVG Test Loss:0.058 AVG Training Acc 98.02 % AVG Test Acc 98.00 %\n",
      "EarlyStopping counter: 6 out of 20\n",
      "Epoch:579/1000 AVG Training Loss:0.059 AVG Test Loss:0.055 AVG Training Acc 98.36 % AVG Test Acc 98.25 %\n",
      "EarlyStopping counter: 7 out of 20\n",
      "Epoch:580/1000 AVG Training Loss:0.063 AVG Test Loss:0.051 AVG Training Acc 98.21 % AVG Test Acc 98.75 %\n",
      "EarlyStopping counter: 8 out of 20\n",
      "Epoch:581/1000 AVG Training Loss:0.058 AVG Test Loss:0.052 AVG Training Acc 98.19 % AVG Test Acc 98.83 %\n",
      "EarlyStopping counter: 9 out of 20\n",
      "Epoch:582/1000 AVG Training Loss:0.060 AVG Test Loss:0.057 AVG Training Acc 98.11 % AVG Test Acc 98.50 %\n",
      "EarlyStopping counter: 10 out of 20\n",
      "Epoch:583/1000 AVG Training Loss:0.060 AVG Test Loss:0.051 AVG Training Acc 98.17 % AVG Test Acc 98.67 %\n",
      "Validation loss decreased (0.050729 --> 0.050559).  Saving model ...\n",
      "Epoch:584/1000 AVG Training Loss:0.060 AVG Test Loss:0.050 AVG Training Acc 98.21 % AVG Test Acc 98.67 %\n",
      "Validation loss decreased (0.050559 --> 0.050317).  Saving model ...\n",
      "Epoch:585/1000 AVG Training Loss:0.062 AVG Test Loss:0.050 AVG Training Acc 98.17 % AVG Test Acc 98.58 %\n",
      "Validation loss decreased (0.050317 --> 0.049696).  Saving model ...\n",
      "Epoch:586/1000 AVG Training Loss:0.060 AVG Test Loss:0.051 AVG Training Acc 98.15 % AVG Test Acc 98.75 %\n",
      "EarlyStopping counter: 1 out of 20\n",
      "Epoch:587/1000 AVG Training Loss:0.059 AVG Test Loss:0.054 AVG Training Acc 98.29 % AVG Test Acc 98.75 %\n",
      "EarlyStopping counter: 2 out of 20\n",
      "Epoch:588/1000 AVG Training Loss:0.061 AVG Test Loss:0.052 AVG Training Acc 98.04 % AVG Test Acc 98.58 %\n",
      "EarlyStopping counter: 3 out of 20\n",
      "Epoch:589/1000 AVG Training Loss:0.057 AVG Test Loss:0.051 AVG Training Acc 98.38 % AVG Test Acc 98.83 %\n",
      "EarlyStopping counter: 4 out of 20\n",
      "Epoch:590/1000 AVG Training Loss:0.060 AVG Test Loss:0.050 AVG Training Acc 98.02 % AVG Test Acc 98.67 %\n",
      "Validation loss decreased (0.049696 --> 0.049531).  Saving model ...\n",
      "Epoch:591/1000 AVG Training Loss:0.059 AVG Test Loss:0.051 AVG Training Acc 98.19 % AVG Test Acc 98.83 %\n",
      "EarlyStopping counter: 1 out of 20\n",
      "Epoch:592/1000 AVG Training Loss:0.061 AVG Test Loss:0.050 AVG Training Acc 97.96 % AVG Test Acc 98.75 %\n",
      "EarlyStopping counter: 2 out of 20\n",
      "Epoch:593/1000 AVG Training Loss:0.062 AVG Test Loss:0.050 AVG Training Acc 98.15 % AVG Test Acc 98.58 %\n",
      "EarlyStopping counter: 3 out of 20\n",
      "Epoch:594/1000 AVG Training Loss:0.062 AVG Test Loss:0.056 AVG Training Acc 98.13 % AVG Test Acc 98.42 %\n",
      "EarlyStopping counter: 4 out of 20\n",
      "Epoch:595/1000 AVG Training Loss:0.057 AVG Test Loss:0.048 AVG Training Acc 98.25 % AVG Test Acc 98.75 %\n",
      "Validation loss decreased (0.049531 --> 0.048065).  Saving model ...\n",
      "Epoch:596/1000 AVG Training Loss:0.056 AVG Test Loss:0.049 AVG Training Acc 98.44 % AVG Test Acc 98.83 %\n",
      "EarlyStopping counter: 1 out of 20\n",
      "Epoch:597/1000 AVG Training Loss:0.057 AVG Test Loss:0.052 AVG Training Acc 98.19 % AVG Test Acc 98.58 %\n",
      "EarlyStopping counter: 2 out of 20\n",
      "Epoch:598/1000 AVG Training Loss:0.056 AVG Test Loss:0.051 AVG Training Acc 98.52 % AVG Test Acc 98.75 %\n",
      "EarlyStopping counter: 3 out of 20\n",
      "Epoch:599/1000 AVG Training Loss:0.058 AVG Test Loss:0.050 AVG Training Acc 98.32 % AVG Test Acc 98.75 %\n",
      "EarlyStopping counter: 4 out of 20\n",
      "Epoch:600/1000 AVG Training Loss:0.054 AVG Test Loss:0.050 AVG Training Acc 98.34 % AVG Test Acc 98.67 %\n",
      "EarlyStopping counter: 5 out of 20\n",
      "Epoch:601/1000 AVG Training Loss:0.057 AVG Test Loss:0.052 AVG Training Acc 98.46 % AVG Test Acc 98.50 %\n",
      "EarlyStopping counter: 6 out of 20\n",
      "Epoch:602/1000 AVG Training Loss:0.057 AVG Test Loss:0.051 AVG Training Acc 98.36 % AVG Test Acc 98.58 %\n",
      "EarlyStopping counter: 7 out of 20\n",
      "Epoch:603/1000 AVG Training Loss:0.053 AVG Test Loss:0.049 AVG Training Acc 98.32 % AVG Test Acc 98.75 %\n",
      "EarlyStopping counter: 8 out of 20\n",
      "Epoch:604/1000 AVG Training Loss:0.057 AVG Test Loss:0.055 AVG Training Acc 98.19 % AVG Test Acc 98.33 %\n",
      "EarlyStopping counter: 9 out of 20\n",
      "Epoch:605/1000 AVG Training Loss:0.059 AVG Test Loss:0.049 AVG Training Acc 98.17 % AVG Test Acc 98.83 %\n",
      "EarlyStopping counter: 10 out of 20\n",
      "Epoch:606/1000 AVG Training Loss:0.057 AVG Test Loss:0.049 AVG Training Acc 98.21 % AVG Test Acc 98.67 %\n",
      "EarlyStopping counter: 11 out of 20\n",
      "Epoch:607/1000 AVG Training Loss:0.053 AVG Test Loss:0.049 AVG Training Acc 98.38 % AVG Test Acc 98.75 %\n",
      "EarlyStopping counter: 12 out of 20\n",
      "Epoch:608/1000 AVG Training Loss:0.055 AVG Test Loss:0.047 AVG Training Acc 98.23 % AVG Test Acc 98.75 %\n",
      "Validation loss decreased (0.048065 --> 0.047373).  Saving model ...\n",
      "Epoch:609/1000 AVG Training Loss:0.056 AVG Test Loss:0.047 AVG Training Acc 98.46 % AVG Test Acc 98.75 %\n",
      "EarlyStopping counter: 1 out of 20\n",
      "Epoch:610/1000 AVG Training Loss:0.058 AVG Test Loss:0.053 AVG Training Acc 98.27 % AVG Test Acc 98.50 %\n",
      "EarlyStopping counter: 2 out of 20\n",
      "Epoch:611/1000 AVG Training Loss:0.055 AVG Test Loss:0.047 AVG Training Acc 98.27 % AVG Test Acc 98.75 %\n",
      "EarlyStopping counter: 3 out of 20\n",
      "Epoch:612/1000 AVG Training Loss:0.058 AVG Test Loss:0.051 AVG Training Acc 98.15 % AVG Test Acc 98.42 %\n",
      "EarlyStopping counter: 4 out of 20\n",
      "Epoch:613/1000 AVG Training Loss:0.054 AVG Test Loss:0.051 AVG Training Acc 98.44 % AVG Test Acc 98.67 %\n",
      "EarlyStopping counter: 5 out of 20\n",
      "Epoch:614/1000 AVG Training Loss:0.054 AVG Test Loss:0.048 AVG Training Acc 98.17 % AVG Test Acc 98.42 %\n",
      "EarlyStopping counter: 6 out of 20\n",
      "Epoch:615/1000 AVG Training Loss:0.055 AVG Test Loss:0.051 AVG Training Acc 98.38 % AVG Test Acc 98.75 %\n",
      "EarlyStopping counter: 7 out of 20\n",
      "Epoch:616/1000 AVG Training Loss:0.055 AVG Test Loss:0.047 AVG Training Acc 98.25 % AVG Test Acc 98.75 %\n",
      "Validation loss decreased (0.047373 --> 0.047004).  Saving model ...\n",
      "Epoch:617/1000 AVG Training Loss:0.056 AVG Test Loss:0.050 AVG Training Acc 98.34 % AVG Test Acc 98.42 %\n",
      "EarlyStopping counter: 1 out of 20\n",
      "Epoch:618/1000 AVG Training Loss:0.055 AVG Test Loss:0.046 AVG Training Acc 98.21 % AVG Test Acc 98.83 %\n",
      "Validation loss decreased (0.047004 --> 0.046237).  Saving model ...\n",
      "Epoch:619/1000 AVG Training Loss:0.052 AVG Test Loss:0.046 AVG Training Acc 98.36 % AVG Test Acc 98.83 %\n",
      "Validation loss decreased (0.046237 --> 0.046105).  Saving model ...\n",
      "Epoch:620/1000 AVG Training Loss:0.058 AVG Test Loss:0.049 AVG Training Acc 98.27 % AVG Test Acc 98.83 %\n",
      "EarlyStopping counter: 1 out of 20\n",
      "Epoch:621/1000 AVG Training Loss:0.053 AVG Test Loss:0.048 AVG Training Acc 98.32 % AVG Test Acc 98.75 %\n",
      "EarlyStopping counter: 2 out of 20\n",
      "Epoch:622/1000 AVG Training Loss:0.053 AVG Test Loss:0.047 AVG Training Acc 98.42 % AVG Test Acc 98.83 %\n",
      "EarlyStopping counter: 3 out of 20\n",
      "Epoch:623/1000 AVG Training Loss:0.057 AVG Test Loss:0.045 AVG Training Acc 98.34 % AVG Test Acc 98.58 %\n",
      "Validation loss decreased (0.046105 --> 0.045357).  Saving model ...\n",
      "Epoch:624/1000 AVG Training Loss:0.053 AVG Test Loss:0.050 AVG Training Acc 98.40 % AVG Test Acc 98.83 %\n",
      "EarlyStopping counter: 1 out of 20\n",
      "Epoch:625/1000 AVG Training Loss:0.055 AVG Test Loss:0.045 AVG Training Acc 98.32 % AVG Test Acc 98.50 %\n",
      "Validation loss decreased (0.045357 --> 0.044746).  Saving model ...\n",
      "Epoch:626/1000 AVG Training Loss:0.053 AVG Test Loss:0.053 AVG Training Acc 98.44 % AVG Test Acc 98.50 %\n",
      "EarlyStopping counter: 1 out of 20\n",
      "Epoch:627/1000 AVG Training Loss:0.051 AVG Test Loss:0.047 AVG Training Acc 98.69 % AVG Test Acc 98.83 %\n",
      "EarlyStopping counter: 2 out of 20\n",
      "Epoch:628/1000 AVG Training Loss:0.050 AVG Test Loss:0.048 AVG Training Acc 98.61 % AVG Test Acc 98.83 %\n",
      "EarlyStopping counter: 3 out of 20\n",
      "Epoch:629/1000 AVG Training Loss:0.055 AVG Test Loss:0.047 AVG Training Acc 98.29 % AVG Test Acc 98.67 %\n",
      "EarlyStopping counter: 4 out of 20\n",
      "Epoch:630/1000 AVG Training Loss:0.055 AVG Test Loss:0.048 AVG Training Acc 98.19 % AVG Test Acc 98.92 %\n",
      "EarlyStopping counter: 5 out of 20\n",
      "Epoch:631/1000 AVG Training Loss:0.052 AVG Test Loss:0.045 AVG Training Acc 98.54 % AVG Test Acc 98.92 %\n",
      "EarlyStopping counter: 6 out of 20\n",
      "Epoch:632/1000 AVG Training Loss:0.052 AVG Test Loss:0.048 AVG Training Acc 98.34 % AVG Test Acc 98.58 %\n",
      "EarlyStopping counter: 7 out of 20\n",
      "Epoch:633/1000 AVG Training Loss:0.057 AVG Test Loss:0.053 AVG Training Acc 98.21 % AVG Test Acc 98.33 %\n",
      "EarlyStopping counter: 8 out of 20\n",
      "Epoch:634/1000 AVG Training Loss:0.052 AVG Test Loss:0.046 AVG Training Acc 98.48 % AVG Test Acc 98.75 %\n",
      "EarlyStopping counter: 9 out of 20\n",
      "Epoch:635/1000 AVG Training Loss:0.052 AVG Test Loss:0.045 AVG Training Acc 98.34 % AVG Test Acc 98.75 %\n",
      "Validation loss decreased (0.044746 --> 0.044731).  Saving model ...\n",
      "Epoch:636/1000 AVG Training Loss:0.052 AVG Test Loss:0.047 AVG Training Acc 98.48 % AVG Test Acc 98.67 %\n",
      "EarlyStopping counter: 1 out of 20\n",
      "Epoch:637/1000 AVG Training Loss:0.049 AVG Test Loss:0.046 AVG Training Acc 98.67 % AVG Test Acc 99.00 %\n",
      "EarlyStopping counter: 2 out of 20\n",
      "Epoch:638/1000 AVG Training Loss:0.052 AVG Test Loss:0.045 AVG Training Acc 98.46 % AVG Test Acc 98.83 %\n",
      "EarlyStopping counter: 3 out of 20\n",
      "Epoch:639/1000 AVG Training Loss:0.054 AVG Test Loss:0.044 AVG Training Acc 98.44 % AVG Test Acc 98.83 %\n",
      "Validation loss decreased (0.044731 --> 0.044355).  Saving model ...\n",
      "Epoch:640/1000 AVG Training Loss:0.053 AVG Test Loss:0.048 AVG Training Acc 98.32 % AVG Test Acc 98.58 %\n",
      "EarlyStopping counter: 1 out of 20\n",
      "Epoch:641/1000 AVG Training Loss:0.051 AVG Test Loss:0.051 AVG Training Acc 98.50 % AVG Test Acc 98.58 %\n",
      "EarlyStopping counter: 2 out of 20\n",
      "Epoch:642/1000 AVG Training Loss:0.049 AVG Test Loss:0.048 AVG Training Acc 98.61 % AVG Test Acc 98.83 %\n",
      "EarlyStopping counter: 3 out of 20\n",
      "Epoch:643/1000 AVG Training Loss:0.049 AVG Test Loss:0.049 AVG Training Acc 98.48 % AVG Test Acc 98.75 %\n",
      "EarlyStopping counter: 4 out of 20\n",
      "Epoch:644/1000 AVG Training Loss:0.051 AVG Test Loss:0.046 AVG Training Acc 98.44 % AVG Test Acc 98.75 %\n",
      "EarlyStopping counter: 5 out of 20\n",
      "Epoch:645/1000 AVG Training Loss:0.052 AVG Test Loss:0.045 AVG Training Acc 98.50 % AVG Test Acc 98.92 %\n",
      "EarlyStopping counter: 6 out of 20\n",
      "Epoch:646/1000 AVG Training Loss:0.051 AVG Test Loss:0.043 AVG Training Acc 98.40 % AVG Test Acc 98.75 %\n",
      "Validation loss decreased (0.044355 --> 0.043204).  Saving model ...\n",
      "Epoch:647/1000 AVG Training Loss:0.051 AVG Test Loss:0.044 AVG Training Acc 98.46 % AVG Test Acc 98.83 %\n",
      "EarlyStopping counter: 1 out of 20\n",
      "Epoch:648/1000 AVG Training Loss:0.049 AVG Test Loss:0.044 AVG Training Acc 98.52 % AVG Test Acc 98.67 %\n",
      "EarlyStopping counter: 2 out of 20\n",
      "Epoch:649/1000 AVG Training Loss:0.051 AVG Test Loss:0.047 AVG Training Acc 98.48 % AVG Test Acc 98.83 %\n",
      "EarlyStopping counter: 3 out of 20\n",
      "Epoch:650/1000 AVG Training Loss:0.053 AVG Test Loss:0.045 AVG Training Acc 98.50 % AVG Test Acc 99.00 %\n",
      "EarlyStopping counter: 4 out of 20\n",
      "Epoch:651/1000 AVG Training Loss:0.053 AVG Test Loss:0.045 AVG Training Acc 98.32 % AVG Test Acc 99.00 %\n",
      "EarlyStopping counter: 5 out of 20\n",
      "Epoch:652/1000 AVG Training Loss:0.049 AVG Test Loss:0.043 AVG Training Acc 98.52 % AVG Test Acc 98.92 %\n",
      "Validation loss decreased (0.043204 --> 0.043143).  Saving model ...\n",
      "Epoch:653/1000 AVG Training Loss:0.053 AVG Test Loss:0.046 AVG Training Acc 98.46 % AVG Test Acc 98.75 %\n",
      "EarlyStopping counter: 1 out of 20\n",
      "Epoch:654/1000 AVG Training Loss:0.049 AVG Test Loss:0.046 AVG Training Acc 98.59 % AVG Test Acc 99.00 %\n",
      "EarlyStopping counter: 2 out of 20\n",
      "Epoch:655/1000 AVG Training Loss:0.051 AVG Test Loss:0.045 AVG Training Acc 98.61 % AVG Test Acc 98.75 %\n",
      "EarlyStopping counter: 3 out of 20\n",
      "Epoch:656/1000 AVG Training Loss:0.050 AVG Test Loss:0.044 AVG Training Acc 98.52 % AVG Test Acc 98.75 %\n",
      "EarlyStopping counter: 4 out of 20\n",
      "Epoch:657/1000 AVG Training Loss:0.051 AVG Test Loss:0.044 AVG Training Acc 98.46 % AVG Test Acc 98.75 %\n",
      "EarlyStopping counter: 5 out of 20\n",
      "Epoch:658/1000 AVG Training Loss:0.050 AVG Test Loss:0.043 AVG Training Acc 98.63 % AVG Test Acc 98.83 %\n",
      "EarlyStopping counter: 6 out of 20\n",
      "Epoch:659/1000 AVG Training Loss:0.051 AVG Test Loss:0.046 AVG Training Acc 98.46 % AVG Test Acc 98.67 %\n",
      "EarlyStopping counter: 7 out of 20\n",
      "Epoch:660/1000 AVG Training Loss:0.049 AVG Test Loss:0.042 AVG Training Acc 98.56 % AVG Test Acc 98.83 %\n",
      "Validation loss decreased (0.043143 --> 0.042361).  Saving model ...\n",
      "Epoch:661/1000 AVG Training Loss:0.050 AVG Test Loss:0.044 AVG Training Acc 98.46 % AVG Test Acc 98.58 %\n",
      "EarlyStopping counter: 1 out of 20\n",
      "Epoch:662/1000 AVG Training Loss:0.049 AVG Test Loss:0.049 AVG Training Acc 98.38 % AVG Test Acc 98.75 %\n",
      "EarlyStopping counter: 2 out of 20\n",
      "Epoch:663/1000 AVG Training Loss:0.049 AVG Test Loss:0.044 AVG Training Acc 98.52 % AVG Test Acc 98.75 %\n",
      "EarlyStopping counter: 3 out of 20\n",
      "Epoch:664/1000 AVG Training Loss:0.049 AVG Test Loss:0.042 AVG Training Acc 98.46 % AVG Test Acc 98.92 %\n",
      "Validation loss decreased (0.042361 --> 0.041704).  Saving model ...\n",
      "Epoch:665/1000 AVG Training Loss:0.051 AVG Test Loss:0.043 AVG Training Acc 98.42 % AVG Test Acc 98.92 %\n",
      "EarlyStopping counter: 1 out of 20\n",
      "Epoch:666/1000 AVG Training Loss:0.054 AVG Test Loss:0.043 AVG Training Acc 98.32 % AVG Test Acc 98.75 %\n",
      "EarlyStopping counter: 2 out of 20\n",
      "Epoch:667/1000 AVG Training Loss:0.051 AVG Test Loss:0.047 AVG Training Acc 98.46 % AVG Test Acc 98.75 %\n",
      "EarlyStopping counter: 3 out of 20\n",
      "Epoch:668/1000 AVG Training Loss:0.051 AVG Test Loss:0.046 AVG Training Acc 98.50 % AVG Test Acc 98.75 %\n",
      "EarlyStopping counter: 4 out of 20\n",
      "Epoch:669/1000 AVG Training Loss:0.047 AVG Test Loss:0.044 AVG Training Acc 98.77 % AVG Test Acc 98.75 %\n",
      "EarlyStopping counter: 5 out of 20\n",
      "Epoch:670/1000 AVG Training Loss:0.047 AVG Test Loss:0.045 AVG Training Acc 98.56 % AVG Test Acc 98.75 %\n",
      "EarlyStopping counter: 6 out of 20\n",
      "Epoch:671/1000 AVG Training Loss:0.049 AVG Test Loss:0.047 AVG Training Acc 98.63 % AVG Test Acc 98.67 %\n",
      "EarlyStopping counter: 7 out of 20\n",
      "Epoch:672/1000 AVG Training Loss:0.048 AVG Test Loss:0.048 AVG Training Acc 98.48 % AVG Test Acc 98.58 %\n",
      "EarlyStopping counter: 8 out of 20\n",
      "Epoch:673/1000 AVG Training Loss:0.045 AVG Test Loss:0.047 AVG Training Acc 98.81 % AVG Test Acc 98.58 %\n",
      "EarlyStopping counter: 9 out of 20\n",
      "Epoch:674/1000 AVG Training Loss:0.050 AVG Test Loss:0.042 AVG Training Acc 98.50 % AVG Test Acc 98.67 %\n",
      "EarlyStopping counter: 10 out of 20\n",
      "Epoch:675/1000 AVG Training Loss:0.048 AVG Test Loss:0.048 AVG Training Acc 98.46 % AVG Test Acc 98.67 %\n",
      "EarlyStopping counter: 11 out of 20\n",
      "Epoch:676/1000 AVG Training Loss:0.048 AVG Test Loss:0.043 AVG Training Acc 98.44 % AVG Test Acc 98.75 %\n",
      "EarlyStopping counter: 12 out of 20\n",
      "Epoch:677/1000 AVG Training Loss:0.051 AVG Test Loss:0.045 AVG Training Acc 98.54 % AVG Test Acc 98.92 %\n",
      "EarlyStopping counter: 13 out of 20\n",
      "Epoch:678/1000 AVG Training Loss:0.047 AVG Test Loss:0.045 AVG Training Acc 98.71 % AVG Test Acc 98.75 %\n",
      "EarlyStopping counter: 14 out of 20\n",
      "Epoch:679/1000 AVG Training Loss:0.045 AVG Test Loss:0.042 AVG Training Acc 98.65 % AVG Test Acc 98.92 %\n",
      "EarlyStopping counter: 15 out of 20\n",
      "Epoch:680/1000 AVG Training Loss:0.051 AVG Test Loss:0.044 AVG Training Acc 98.50 % AVG Test Acc 98.92 %\n",
      "EarlyStopping counter: 16 out of 20\n",
      "Epoch:681/1000 AVG Training Loss:0.045 AVG Test Loss:0.047 AVG Training Acc 98.81 % AVG Test Acc 98.67 %\n",
      "EarlyStopping counter: 17 out of 20\n",
      "Epoch:682/1000 AVG Training Loss:0.047 AVG Test Loss:0.041 AVG Training Acc 98.54 % AVG Test Acc 98.92 %\n",
      "Validation loss decreased (0.041704 --> 0.041379).  Saving model ...\n",
      "Epoch:683/1000 AVG Training Loss:0.047 AVG Test Loss:0.041 AVG Training Acc 98.67 % AVG Test Acc 98.75 %\n",
      "Validation loss decreased (0.041379 --> 0.041153).  Saving model ...\n",
      "Epoch:684/1000 AVG Training Loss:0.044 AVG Test Loss:0.042 AVG Training Acc 98.71 % AVG Test Acc 98.92 %\n",
      "EarlyStopping counter: 1 out of 20\n",
      "Epoch:685/1000 AVG Training Loss:0.046 AVG Test Loss:0.046 AVG Training Acc 98.63 % AVG Test Acc 98.75 %\n",
      "EarlyStopping counter: 2 out of 20\n",
      "Epoch:686/1000 AVG Training Loss:0.051 AVG Test Loss:0.041 AVG Training Acc 98.48 % AVG Test Acc 99.00 %\n",
      "Validation loss decreased (0.041153 --> 0.040819).  Saving model ...\n",
      "Epoch:687/1000 AVG Training Loss:0.046 AVG Test Loss:0.044 AVG Training Acc 98.69 % AVG Test Acc 98.83 %\n",
      "EarlyStopping counter: 1 out of 20\n",
      "Epoch:688/1000 AVG Training Loss:0.044 AVG Test Loss:0.042 AVG Training Acc 98.73 % AVG Test Acc 98.83 %\n",
      "EarlyStopping counter: 2 out of 20\n",
      "Epoch:689/1000 AVG Training Loss:0.041 AVG Test Loss:0.041 AVG Training Acc 98.71 % AVG Test Acc 98.83 %\n",
      "EarlyStopping counter: 3 out of 20\n",
      "Epoch:690/1000 AVG Training Loss:0.043 AVG Test Loss:0.044 AVG Training Acc 98.73 % AVG Test Acc 98.75 %\n",
      "EarlyStopping counter: 4 out of 20\n",
      "Epoch:691/1000 AVG Training Loss:0.045 AVG Test Loss:0.041 AVG Training Acc 98.67 % AVG Test Acc 98.75 %\n",
      "Validation loss decreased (0.040819 --> 0.040605).  Saving model ...\n",
      "Epoch:692/1000 AVG Training Loss:0.042 AVG Test Loss:0.043 AVG Training Acc 98.81 % AVG Test Acc 98.83 %\n",
      "EarlyStopping counter: 1 out of 20\n",
      "Epoch:693/1000 AVG Training Loss:0.043 AVG Test Loss:0.040 AVG Training Acc 98.71 % AVG Test Acc 98.92 %\n",
      "Validation loss decreased (0.040605 --> 0.040096).  Saving model ...\n",
      "Epoch:694/1000 AVG Training Loss:0.051 AVG Test Loss:0.041 AVG Training Acc 98.54 % AVG Test Acc 98.92 %\n",
      "EarlyStopping counter: 1 out of 20\n",
      "Epoch:695/1000 AVG Training Loss:0.045 AVG Test Loss:0.040 AVG Training Acc 98.61 % AVG Test Acc 99.00 %\n",
      "EarlyStopping counter: 2 out of 20\n",
      "Epoch:696/1000 AVG Training Loss:0.045 AVG Test Loss:0.049 AVG Training Acc 98.67 % AVG Test Acc 98.58 %\n",
      "EarlyStopping counter: 3 out of 20\n",
      "Epoch:697/1000 AVG Training Loss:0.042 AVG Test Loss:0.041 AVG Training Acc 98.75 % AVG Test Acc 98.92 %\n",
      "EarlyStopping counter: 4 out of 20\n",
      "Epoch:698/1000 AVG Training Loss:0.042 AVG Test Loss:0.043 AVG Training Acc 98.88 % AVG Test Acc 98.92 %\n",
      "EarlyStopping counter: 5 out of 20\n",
      "Epoch:699/1000 AVG Training Loss:0.048 AVG Test Loss:0.047 AVG Training Acc 98.48 % AVG Test Acc 98.75 %\n",
      "EarlyStopping counter: 6 out of 20\n",
      "Epoch:700/1000 AVG Training Loss:0.045 AVG Test Loss:0.043 AVG Training Acc 98.61 % AVG Test Acc 98.83 %\n",
      "EarlyStopping counter: 7 out of 20\n",
      "Epoch:701/1000 AVG Training Loss:0.046 AVG Test Loss:0.044 AVG Training Acc 98.73 % AVG Test Acc 98.83 %\n",
      "EarlyStopping counter: 8 out of 20\n",
      "Epoch:702/1000 AVG Training Loss:0.042 AVG Test Loss:0.042 AVG Training Acc 98.77 % AVG Test Acc 98.75 %\n",
      "EarlyStopping counter: 9 out of 20\n",
      "Epoch:703/1000 AVG Training Loss:0.051 AVG Test Loss:0.040 AVG Training Acc 98.40 % AVG Test Acc 98.83 %\n",
      "EarlyStopping counter: 10 out of 20\n",
      "Epoch:704/1000 AVG Training Loss:0.041 AVG Test Loss:0.045 AVG Training Acc 98.88 % AVG Test Acc 98.67 %\n",
      "EarlyStopping counter: 11 out of 20\n",
      "Epoch:705/1000 AVG Training Loss:0.048 AVG Test Loss:0.039 AVG Training Acc 98.44 % AVG Test Acc 98.92 %\n",
      "Validation loss decreased (0.040096 --> 0.039409).  Saving model ...\n",
      "Epoch:706/1000 AVG Training Loss:0.044 AVG Test Loss:0.042 AVG Training Acc 98.90 % AVG Test Acc 98.92 %\n",
      "EarlyStopping counter: 1 out of 20\n",
      "Epoch:707/1000 AVG Training Loss:0.042 AVG Test Loss:0.041 AVG Training Acc 98.67 % AVG Test Acc 98.92 %\n",
      "EarlyStopping counter: 2 out of 20\n",
      "Epoch:708/1000 AVG Training Loss:0.044 AVG Test Loss:0.041 AVG Training Acc 98.75 % AVG Test Acc 98.92 %\n",
      "EarlyStopping counter: 3 out of 20\n",
      "Epoch:709/1000 AVG Training Loss:0.043 AVG Test Loss:0.045 AVG Training Acc 98.88 % AVG Test Acc 98.92 %\n",
      "EarlyStopping counter: 4 out of 20\n",
      "Epoch:710/1000 AVG Training Loss:0.046 AVG Test Loss:0.040 AVG Training Acc 98.67 % AVG Test Acc 98.92 %\n",
      "EarlyStopping counter: 5 out of 20\n",
      "Epoch:711/1000 AVG Training Loss:0.045 AVG Test Loss:0.040 AVG Training Acc 98.63 % AVG Test Acc 98.92 %\n",
      "EarlyStopping counter: 6 out of 20\n",
      "Epoch:712/1000 AVG Training Loss:0.038 AVG Test Loss:0.041 AVG Training Acc 98.86 % AVG Test Acc 98.92 %\n",
      "EarlyStopping counter: 7 out of 20\n",
      "Epoch:713/1000 AVG Training Loss:0.041 AVG Test Loss:0.043 AVG Training Acc 98.75 % AVG Test Acc 98.92 %\n",
      "EarlyStopping counter: 8 out of 20\n",
      "Epoch:714/1000 AVG Training Loss:0.044 AVG Test Loss:0.040 AVG Training Acc 98.71 % AVG Test Acc 98.83 %\n",
      "EarlyStopping counter: 9 out of 20\n",
      "Epoch:715/1000 AVG Training Loss:0.042 AVG Test Loss:0.041 AVG Training Acc 98.59 % AVG Test Acc 98.83 %\n",
      "EarlyStopping counter: 10 out of 20\n",
      "Epoch:716/1000 AVG Training Loss:0.043 AVG Test Loss:0.045 AVG Training Acc 98.54 % AVG Test Acc 98.75 %\n",
      "EarlyStopping counter: 11 out of 20\n",
      "Epoch:717/1000 AVG Training Loss:0.043 AVG Test Loss:0.041 AVG Training Acc 98.81 % AVG Test Acc 98.83 %\n",
      "EarlyStopping counter: 12 out of 20\n",
      "Epoch:718/1000 AVG Training Loss:0.042 AVG Test Loss:0.041 AVG Training Acc 98.79 % AVG Test Acc 98.83 %\n",
      "EarlyStopping counter: 13 out of 20\n",
      "Epoch:719/1000 AVG Training Loss:0.039 AVG Test Loss:0.041 AVG Training Acc 98.84 % AVG Test Acc 98.92 %\n",
      "EarlyStopping counter: 14 out of 20\n",
      "Epoch:720/1000 AVG Training Loss:0.042 AVG Test Loss:0.043 AVG Training Acc 98.71 % AVG Test Acc 98.67 %\n",
      "EarlyStopping counter: 15 out of 20\n",
      "Epoch:721/1000 AVG Training Loss:0.042 AVG Test Loss:0.039 AVG Training Acc 98.71 % AVG Test Acc 98.92 %\n",
      "Validation loss decreased (0.039409 --> 0.038790).  Saving model ...\n",
      "Epoch:722/1000 AVG Training Loss:0.045 AVG Test Loss:0.039 AVG Training Acc 98.67 % AVG Test Acc 98.92 %\n",
      "EarlyStopping counter: 1 out of 20\n",
      "Epoch:723/1000 AVG Training Loss:0.043 AVG Test Loss:0.040 AVG Training Acc 98.81 % AVG Test Acc 98.92 %\n",
      "EarlyStopping counter: 2 out of 20\n",
      "Epoch:724/1000 AVG Training Loss:0.043 AVG Test Loss:0.042 AVG Training Acc 98.84 % AVG Test Acc 98.92 %\n",
      "EarlyStopping counter: 3 out of 20\n",
      "Epoch:725/1000 AVG Training Loss:0.041 AVG Test Loss:0.044 AVG Training Acc 98.90 % AVG Test Acc 98.75 %\n",
      "EarlyStopping counter: 4 out of 20\n",
      "Epoch:726/1000 AVG Training Loss:0.043 AVG Test Loss:0.041 AVG Training Acc 98.63 % AVG Test Acc 98.83 %\n",
      "EarlyStopping counter: 5 out of 20\n",
      "Epoch:727/1000 AVG Training Loss:0.043 AVG Test Loss:0.041 AVG Training Acc 98.59 % AVG Test Acc 98.83 %\n",
      "EarlyStopping counter: 6 out of 20\n",
      "Epoch:728/1000 AVG Training Loss:0.043 AVG Test Loss:0.039 AVG Training Acc 98.73 % AVG Test Acc 98.83 %\n",
      "Validation loss decreased (0.038790 --> 0.038745).  Saving model ...\n",
      "Epoch:729/1000 AVG Training Loss:0.043 AVG Test Loss:0.042 AVG Training Acc 98.73 % AVG Test Acc 98.83 %\n",
      "EarlyStopping counter: 1 out of 20\n",
      "Epoch:730/1000 AVG Training Loss:0.044 AVG Test Loss:0.039 AVG Training Acc 98.50 % AVG Test Acc 98.92 %\n",
      "EarlyStopping counter: 2 out of 20\n",
      "Epoch:731/1000 AVG Training Loss:0.043 AVG Test Loss:0.041 AVG Training Acc 98.65 % AVG Test Acc 98.83 %\n",
      "EarlyStopping counter: 3 out of 20\n",
      "Epoch:732/1000 AVG Training Loss:0.044 AVG Test Loss:0.043 AVG Training Acc 98.84 % AVG Test Acc 99.00 %\n",
      "EarlyStopping counter: 4 out of 20\n",
      "Epoch:733/1000 AVG Training Loss:0.044 AVG Test Loss:0.039 AVG Training Acc 98.67 % AVG Test Acc 98.92 %\n",
      "EarlyStopping counter: 5 out of 20\n",
      "Epoch:734/1000 AVG Training Loss:0.042 AVG Test Loss:0.041 AVG Training Acc 98.71 % AVG Test Acc 98.83 %\n",
      "EarlyStopping counter: 6 out of 20\n",
      "Epoch:735/1000 AVG Training Loss:0.038 AVG Test Loss:0.042 AVG Training Acc 99.08 % AVG Test Acc 98.75 %\n",
      "EarlyStopping counter: 7 out of 20\n",
      "Epoch:736/1000 AVG Training Loss:0.041 AVG Test Loss:0.038 AVG Training Acc 98.81 % AVG Test Acc 99.00 %\n",
      "Validation loss decreased (0.038745 --> 0.037924).  Saving model ...\n",
      "Epoch:737/1000 AVG Training Loss:0.044 AVG Test Loss:0.042 AVG Training Acc 98.67 % AVG Test Acc 98.83 %\n",
      "EarlyStopping counter: 1 out of 20\n",
      "Epoch:738/1000 AVG Training Loss:0.045 AVG Test Loss:0.040 AVG Training Acc 98.73 % AVG Test Acc 98.92 %\n",
      "EarlyStopping counter: 2 out of 20\n",
      "Epoch:739/1000 AVG Training Loss:0.046 AVG Test Loss:0.040 AVG Training Acc 98.65 % AVG Test Acc 98.75 %\n",
      "EarlyStopping counter: 3 out of 20\n",
      "Epoch:740/1000 AVG Training Loss:0.041 AVG Test Loss:0.043 AVG Training Acc 98.86 % AVG Test Acc 98.75 %\n",
      "EarlyStopping counter: 4 out of 20\n",
      "Epoch:741/1000 AVG Training Loss:0.040 AVG Test Loss:0.039 AVG Training Acc 98.71 % AVG Test Acc 98.92 %\n",
      "EarlyStopping counter: 5 out of 20\n",
      "Epoch:742/1000 AVG Training Loss:0.046 AVG Test Loss:0.039 AVG Training Acc 98.61 % AVG Test Acc 98.75 %\n",
      "EarlyStopping counter: 6 out of 20\n",
      "Epoch:743/1000 AVG Training Loss:0.044 AVG Test Loss:0.046 AVG Training Acc 98.65 % AVG Test Acc 98.58 %\n",
      "EarlyStopping counter: 7 out of 20\n",
      "Epoch:744/1000 AVG Training Loss:0.041 AVG Test Loss:0.041 AVG Training Acc 98.79 % AVG Test Acc 98.83 %\n",
      "EarlyStopping counter: 8 out of 20\n",
      "Epoch:745/1000 AVG Training Loss:0.042 AVG Test Loss:0.039 AVG Training Acc 98.77 % AVG Test Acc 99.00 %\n",
      "EarlyStopping counter: 9 out of 20\n",
      "Epoch:746/1000 AVG Training Loss:0.047 AVG Test Loss:0.040 AVG Training Acc 98.63 % AVG Test Acc 98.83 %\n",
      "EarlyStopping counter: 10 out of 20\n",
      "Epoch:747/1000 AVG Training Loss:0.042 AVG Test Loss:0.048 AVG Training Acc 98.88 % AVG Test Acc 98.67 %\n",
      "EarlyStopping counter: 11 out of 20\n",
      "Epoch:748/1000 AVG Training Loss:0.041 AVG Test Loss:0.047 AVG Training Acc 98.69 % AVG Test Acc 98.33 %\n",
      "EarlyStopping counter: 12 out of 20\n",
      "Epoch:749/1000 AVG Training Loss:0.043 AVG Test Loss:0.039 AVG Training Acc 98.59 % AVG Test Acc 98.92 %\n",
      "EarlyStopping counter: 13 out of 20\n",
      "Epoch:750/1000 AVG Training Loss:0.043 AVG Test Loss:0.038 AVG Training Acc 98.79 % AVG Test Acc 98.92 %\n",
      "EarlyStopping counter: 14 out of 20\n",
      "Epoch:751/1000 AVG Training Loss:0.040 AVG Test Loss:0.038 AVG Training Acc 98.79 % AVG Test Acc 99.00 %\n",
      "EarlyStopping counter: 15 out of 20\n",
      "Epoch:752/1000 AVG Training Loss:0.042 AVG Test Loss:0.039 AVG Training Acc 98.67 % AVG Test Acc 98.83 %\n",
      "EarlyStopping counter: 16 out of 20\n",
      "Epoch:753/1000 AVG Training Loss:0.043 AVG Test Loss:0.039 AVG Training Acc 98.75 % AVG Test Acc 98.75 %\n",
      "EarlyStopping counter: 17 out of 20\n",
      "Epoch:754/1000 AVG Training Loss:0.043 AVG Test Loss:0.039 AVG Training Acc 98.69 % AVG Test Acc 98.83 %\n",
      "EarlyStopping counter: 18 out of 20\n",
      "Epoch:755/1000 AVG Training Loss:0.038 AVG Test Loss:0.040 AVG Training Acc 98.86 % AVG Test Acc 98.83 %\n",
      "EarlyStopping counter: 19 out of 20\n",
      "Epoch:756/1000 AVG Training Loss:0.039 AVG Test Loss:0.039 AVG Training Acc 98.90 % AVG Test Acc 98.75 %\n",
      "EarlyStopping counter: 20 out of 20\n"
     ]
    }
   ],
   "source": [
    "history = {'train_loss': [], 'test_loss': [],'train_acc':[],'test_acc':[]}\n",
    "\n",
    "early_stopping = EarlyStopping(patience = 20, verbose = True)\n",
    "for epoch in range(epochs):\n",
    "    train_loss, train_correct=train_epoch(base_line,train_loader,criterion,optimizer)\n",
    "    test_loss, test_correct=valid_epoch(base_line,valid_loader,criterion)\n",
    "    train_loss = train_loss / len(train_loader.sampler)\n",
    "    train_acc = train_correct / len(train_loader.sampler) * 100\n",
    "    test_loss = test_loss / len(valid_loader.sampler)\n",
    "    test_acc = test_correct / len(valid_loader.sampler) * 100\n",
    "    \n",
    "    print(\"Epoch:{}/{} AVG Training Loss:{:.3f} AVG Test Loss:{:.3f} AVG Training Acc {:.2f} % AVG Test Acc {:.2f} %\".format(epoch + 1,\n",
    "                                                                                                            epochs,\n",
    "                                                                                                            train_loss,\n",
    "                                                                                                            test_loss,\n",
    "                                                                                                            train_acc,\n",
    "                                                                                                            test_acc))\n",
    "    early_stopping(test_loss, base_line) # 현재 과적합 상황 추적\n",
    "    \n",
    "    if early_stopping.early_stop: # 조건 만족 시 조기 종료\n",
    "        break\n",
    "    history['train_loss'].append(train_loss)\n",
    "    history['test_loss'].append(test_loss)\n",
    "    history['train_acc'].append(train_acc)\n",
    "    history['test_acc'].append(test_acc)\n",
    "\n"
   ]
  },
  {
   "cell_type": "code",
   "execution_count": 42,
   "metadata": {},
   "outputs": [
    {
     "data": {
      "text/plain": [
       "<All keys matched successfully>"
      ]
     },
     "execution_count": 42,
     "metadata": {},
     "output_type": "execute_result"
    }
   ],
   "source": [
    "base_line.load_state_dict(torch.load('mc_ckpt/checkpoint.pt'))"
   ]
  },
  {
   "cell_type": "markdown",
   "metadata": {
    "id": "fyUnglUtTonR"
   },
   "source": [
    "# plotting"
   ]
  },
  {
   "cell_type": "code",
   "execution_count": 43,
   "metadata": {
    "id": "057KZBYjPM2o"
   },
   "outputs": [
    {
     "data": {
      "image/png": "[encoded data removed]",
      "text/plain": [
       "<Figure size 432x288 with 1 Axes>"
      ]
     },
     "metadata": {
      "needs_background": "light"
     },
     "output_type": "display_data"
    }
   ],
   "source": [
    "x_len = np.arange(len(history['train_loss']))\n",
    "plt.plot(x_len, history['train_loss'], marker='.', c='red', label=\"train-set Loss\")\n",
    "plt.plot(x_len, history['test_loss'], marker='.', c='blue', label=\"valid-set Loss\")\n",
    "\n",
    "plt.legend(loc='upper right')\n",
    "plt.grid()\n",
    "plt.xlabel('epoch')\n",
    "plt.ylabel('loss')\n",
    "plt.show()"
   ]
  },
  {
   "cell_type": "markdown",
   "metadata": {
    "id": "--Iz-r2VUKnN"
   },
   "source": [
    "# Confusion matrix"
   ]
  },
  {
   "cell_type": "code",
   "execution_count": 44,
   "metadata": {
    "id": "eZxqt-RDTEYY"
   },
   "outputs": [],
   "source": [
    "y_pred = []\n",
    "y_true = []\n",
    "\n",
    "# iterate over test data\n",
    "with torch.no_grad():\n",
    "    for images, labels in valid_loader:\n",
    "        images = images.float().to(device)\n",
    "        labels = labels.to(device)\n",
    "        labels = labels.float().reshape(images.size(0), 9).to(device)\n",
    "        output = base_line(images)\n",
    "        pred = output.argmax(axis = 1).detach().cpu().numpy()\n",
    "        y_pred.extend(pred) # Save Prediction\n",
    "        labels = labels.argmax(axis = 1).detach().cpu().numpy()\n",
    "        y_true.extend(labels) # Save Truth\n"
   ]
  },
  {
   "cell_type": "code",
   "execution_count": 45,
   "metadata": {
    "id": "wPiAZJBL6fYC"
   },
   "outputs": [
    {
     "data": {
      "text/plain": [
       "<AxesSubplot:>"
      ]
     },
     "execution_count": 45,
     "metadata": {},
     "output_type": "execute_result"
    },
    {
     "data": {
      "image/png": "[encoded data removed]",
      "text/plain": [
       "<Figure size 864x504 with 2 Axes>"
      ]
     },
     "metadata": {
      "needs_background": "light"
     },
     "output_type": "display_data"
    }
   ],
   "source": [
    "# constant for classes\n",
    "classes = ('Center', 'Donut', 'Edge-Loc', 'Edge-Ring', 'Loc', 'Random', 'Scratch', 'Near-full', 'none')\n",
    "# Build confusion matrix\n",
    "cf_matrix = confusion_matrix(y_true, y_pred)\n",
    "df_cm = pd.DataFrame(cf_matrix, index = [i for i in classes],\n",
    "                    columns = [i for i in classes])\n",
    "for i in range(len(df_cm)):\n",
    "    n_sample = df_cm.iloc[i].sum()\n",
    "    df_cm.iloc[i] = df_cm.iloc[i]/n_sample\n",
    "plt.figure(figsize = (12,7))\n",
    "sns.heatmap(df_cm, annot=True)"
   ]
  },
  {
   "cell_type": "code",
   "execution_count": 46,
   "metadata": {
    "id": "wVJ_TVBedNwL"
   },
   "outputs": [],
   "source": [
    "y_pred = []\n",
    "y_true = []\n",
    "\n",
    "# iterate over test data\n",
    "with torch.no_grad():\n",
    "    for images, labels in test_loader:\n",
    "        images = images.float().to(device)\n",
    "        labels = labels.to(device)\n",
    "        labels = labels.float().reshape(images.size(0), 9).to(device)\n",
    "        output = base_line(images)\n",
    "        pred = output.argmax(axis = 1).detach().cpu().numpy()\n",
    "        y_pred.extend(pred) # Save Prediction\n",
    "        labels = labels.argmax(axis = 1).detach().cpu().numpy()\n",
    "        y_true.extend(labels) # Save Truth\n"
   ]
  },
  {
   "cell_type": "code",
   "execution_count": 47,
   "metadata": {
    "id": "Rr6uzyA-CZfI"
   },
   "outputs": [
    {
     "data": {
      "text/plain": [
       "<AxesSubplot:>"
      ]
     },
     "execution_count": 47,
     "metadata": {},
     "output_type": "execute_result"
    },
    {
     "data": {
      "image/png": "[encoded data removed]",
      "text/plain": [
       "<Figure size 864x504 with 2 Axes>"
      ]
     },
     "metadata": {
      "needs_background": "light"
     },
     "output_type": "display_data"
    }
   ],
   "source": [
    "# constant for classes\n",
    "classes =  ('Center', 'Donut', 'Edge-Loc', 'Edge-Ring', 'Loc', 'Random', 'Scratch', 'Near-full', 'none')\n",
    "# Build confusion matrix\n",
    "cf_matrix = confusion_matrix(y_true, y_pred)\n",
    "df_cm = pd.DataFrame(cf_matrix, index = [i for i in classes],\n",
    "                    columns = [i for i in classes])\n",
    "for i in range(len(df_cm)):\n",
    "    n_sample = df_cm.iloc[i].sum()\n",
    "    df_cm.iloc[i] = df_cm.iloc[i]/n_sample\n",
    "plt.figure(figsize = (12,7))\n",
    "sns.heatmap(df_cm, annot=True)"
   ]
  },
  {
   "cell_type": "code",
   "execution_count": 48,
   "metadata": {
    "id": "rSGYKN-UP7ke"
   },
   "outputs": [
    {
     "name": "stdout",
     "output_type": "stream",
     "text": [
      "              precision    recall  f1-score   support\n",
      "\n",
      "      Center       0.98      1.00      0.99       250\n",
      "       Donut       1.00      0.99      0.99       250\n",
      "    Edge-Loc       0.98      0.89      0.94       250\n",
      "   Edge-Ring       0.94      1.00      0.97       250\n",
      "         Loc       1.00      0.95      0.98       250\n",
      "      Random       0.97      0.79      0.87        38\n",
      "     Scratch       0.92      0.99      0.95       250\n",
      "   Near-full       0.96      1.00      0.98       218\n",
      "        none       1.00      1.00      1.00       250\n",
      "\n",
      "    accuracy                           0.97      2006\n",
      "   macro avg       0.97      0.96      0.96      2006\n",
      "weighted avg       0.97      0.97      0.97      2006\n",
      "\n"
     ]
    }
   ],
   "source": [
    "from sklearn.metrics import classification_report\n",
    "print(classification_report(y_true, y_pred, target_names=  ('Center', 'Donut', 'Edge-Loc', 'Edge-Ring', 'Loc', 'Random', 'Scratch', 'Near-full', 'none')))\n",
    "# mapping_type={'Center':0,'Donut':1,'Edge-Loc':2,'Edge-Ring':3,'Loc':4,'Random':5,'Scratch':6,'Near-full':7,'none':8}"
   ]
  },
  {
   "cell_type": "code",
   "execution_count": 31,
   "metadata": {
    "id": "P-3miTAXUYJr"
   },
   "outputs": [],
   "source": [
    "y_true = np.array(y_true)\n",
    "y_pred = np.array(y_pred)"
   ]
  },
  {
   "cell_type": "code",
   "execution_count": 32,
   "metadata": {
    "id": "Ej6FgxWeUat3"
   },
   "outputs": [],
   "source": [
    "wrong_idx = np.where(y_true != y_pred)[0]"
   ]
  },
  {
   "cell_type": "code",
   "execution_count": 33,
   "metadata": {
    "id": "DVUdG-2hWuNl"
   },
   "outputs": [
    {
     "data": {
      "text/plain": [
       "array([ 290,  456,  503,  511,  512,  530,  537,  539,  550,  560,  573,\n",
       "        589,  591,  599,  608,  609,  620,  656,  658,  660,  674,  675,\n",
       "        677,  682,  704,  708,  724,  741,  745,  871, 1036, 1064, 1093,\n",
       "       1102, 1127, 1191, 1193, 1196, 1200, 1232, 1234, 1258, 1261, 1266,\n",
       "       1275, 1278, 1285, 1287, 1305, 1442, 1470, 1473, 1569, 1659])"
      ]
     },
     "execution_count": 33,
     "metadata": {},
     "output_type": "execute_result"
    }
   ],
   "source": [
    "wrong_idx"
   ]
  },
  {
   "cell_type": "markdown",
   "metadata": {
    "id": "0ZqyMvqjXJ9q"
   },
   "source": [
    "# Monte-Carlo"
   ]
  },
  {
   "cell_type": "code",
   "execution_count": 34,
   "metadata": {},
   "outputs": [],
   "source": [
    "def monte_carlo_dropout(model, mc_samples, dataloader):\n",
    "    with torch.no_grad():\n",
    "        model.train()\n",
    "        mc_samples = mc_samples\n",
    "        predictions = []\n",
    "        y_true = []\n",
    "        for images, labels in dataloader:\n",
    "            images = images.float().to(device)\n",
    "            labels = labels.to(device)\n",
    "            labels = labels.float().reshape(images.size(0), 9).to(device)\n",
    "            labels = labels.argmax(axis = 1).detach().cpu().numpy()\n",
    "            y_true.extend(labels)\n",
    "            pred_i = []\n",
    "            for _ in range(mc_samples):\n",
    "                output = model(images)\n",
    "                pred = output.argmax(axis = 1).detach().cpu()\n",
    "                pred_i.append(pred)\n",
    "            predictions.append(torch.stack(pred_i, dim=1))\n",
    "        predictions = torch.cat(predictions, dim =0)\n",
    "    return predictions, np.array(y_true)"
   ]
  },
  {
   "cell_type": "code",
   "execution_count": 35,
   "metadata": {},
   "outputs": [],
   "source": [
    "monte_pred, y_true = monte_carlo_dropout(base_line, 100, test_loader)"
   ]
  },
  {
   "cell_type": "code",
   "execution_count": 36,
   "metadata": {},
   "outputs": [
    {
     "data": {
      "text/plain": [
       "torch.Size([2006, 100])"
      ]
     },
     "execution_count": 36,
     "metadata": {},
     "output_type": "execute_result"
    }
   ],
   "source": [
    "monte_pred.shape"
   ]
  },
  {
   "cell_type": "code",
   "execution_count": 37,
   "metadata": {},
   "outputs": [
    {
     "data": {
      "text/plain": [
       "(2006,)"
      ]
     },
     "execution_count": 37,
     "metadata": {},
     "output_type": "execute_result"
    }
   ],
   "source": [
    "y_true.shape"
   ]
  },
  {
   "cell_type": "code",
   "execution_count": 38,
   "metadata": {},
   "outputs": [],
   "source": [
    "mc_result_pred = torch.mode(monte_pred, 1)[0]"
   ]
  },
  {
   "cell_type": "code",
   "execution_count": 39,
   "metadata": {},
   "outputs": [],
   "source": [
    "mc_result_pred = mc_result_pred.numpy()"
   ]
  },
  {
   "cell_type": "code",
   "execution_count": 40,
   "metadata": {},
   "outputs": [],
   "source": [
    "wrong_idx = np.where(mc_result_pred != y_true)[0]"
   ]
  },
  {
   "cell_type": "code",
   "execution_count": 41,
   "metadata": {
    "tags": []
   },
   "outputs": [
    {
     "name": "stdout",
     "output_type": "stream",
     "text": [
      "------------------\n"
     ]
    },
    {
     "data": {
      "image/png": "[encoded data removed]",
      "text/plain": [
       "<Figure size 432x288 with 1 Axes>"
      ]
     },
     "metadata": {
      "needs_background": "light"
     },
     "output_type": "display_data"
    },
    {
     "name": "stdout",
     "output_type": "stream",
     "text": [
      "tensor([0, 0, 0, 0, 0, 0, 0, 0, 0, 0, 0, 0, 1, 0, 0, 0, 0, 0, 0, 0, 0, 0, 0, 0,\n",
      "        0, 0, 0, 0, 0, 0, 0, 0, 0, 0, 0, 0, 0, 0, 0, 0, 0, 0, 0, 0, 0, 0, 0, 0,\n",
      "        0, 0, 1, 0, 0, 0, 0, 0, 0, 0, 0, 0, 0, 0, 0, 0, 0, 0, 0, 0, 0, 0, 0, 0,\n",
      "        0, 0, 0, 0, 0, 0, 1, 0, 0, 0, 0, 0, 0, 0, 0, 0, 0, 0, 0, 0, 0, 0, 0, 0,\n",
      "        0, 0, 0, 0])\n",
      "model_pred :  Center\n",
      "0\n",
      "ans :  Donut\n",
      "1\n",
      "------------------\n"
     ]
    },
    {
     "data": {
      "image/png": "[encoded data removed]",
      "text/plain": [
       "<Figure size 432x288 with 1 Axes>"
      ]
     },
     "metadata": {
      "needs_background": "light"
     },
     "output_type": "display_data"
    },
    {
     "name": "stdout",
     "output_type": "stream",
     "text": [
      "tensor([0, 0, 0, 0, 0, 0, 0, 0, 0, 0, 0, 0, 0, 0, 1, 0, 0, 0, 0, 1, 0, 1, 1, 0,\n",
      "        0, 0, 0, 0, 0, 0, 0, 0, 0, 0, 0, 0, 0, 0, 0, 0, 0, 0, 0, 0, 0, 0, 0, 0,\n",
      "        0, 0, 0, 0, 0, 0, 0, 0, 0, 0, 0, 0, 0, 0, 1, 0, 0, 0, 0, 0, 0, 0, 0, 0,\n",
      "        0, 1, 0, 0, 0, 0, 0, 0, 1, 0, 0, 0, 0, 0, 0, 0, 0, 0, 0, 0, 0, 0, 0, 1,\n",
      "        0, 0, 0, 0])\n",
      "model_pred :  Center\n",
      "0\n",
      "ans :  Donut\n",
      "1\n",
      "------------------\n"
     ]
    },
    {
     "data": {
      "image/png": "[encoded data removed]",
      "text/plain": [
       "<Figure size 432x288 with 1 Axes>"
      ]
     },
     "metadata": {
      "needs_background": "light"
     },
     "output_type": "display_data"
    },
    {
     "name": "stdout",
     "output_type": "stream",
     "text": [
      "tensor([3, 3, 3, 3, 3, 3, 3, 3, 3, 3, 3, 3, 3, 3, 3, 3, 3, 3, 3, 3, 3, 3, 3, 3,\n",
      "        3, 3, 3, 3, 3, 3, 3, 3, 3, 3, 3, 3, 3, 3, 3, 3, 3, 3, 3, 3, 3, 3, 3, 3,\n",
      "        3, 3, 3, 3, 3, 3, 3, 3, 3, 3, 3, 3, 3, 3, 3, 3, 3, 3, 3, 3, 3, 3, 3, 3,\n",
      "        3, 3, 3, 3, 3, 3, 3, 3, 3, 3, 3, 3, 3, 3, 3, 3, 3, 3, 3, 3, 3, 3, 3, 3,\n",
      "        3, 3, 3, 3])\n",
      "model_pred :  Edge-Ring\n",
      "3\n",
      "ans :  Edge-Loc\n",
      "2\n",
      "------------------\n"
     ]
    },
    {
     "data": {
      "image/png": "[encoded data removed]",
      "text/plain": [
       "<Figure size 432x288 with 1 Axes>"
      ]
     },
     "metadata": {
      "needs_background": "light"
     },
     "output_type": "display_data"
    },
    {
     "name": "stdout",
     "output_type": "stream",
     "text": [
      "tensor([3, 3, 3, 3, 3, 3, 3, 3, 3, 3, 3, 3, 3, 3, 3, 3, 3, 3, 3, 3, 3, 3, 3, 3,\n",
      "        3, 3, 3, 3, 3, 3, 3, 3, 3, 3, 3, 3, 3, 3, 3, 3, 3, 3, 3, 3, 3, 3, 3, 3,\n",
      "        3, 3, 3, 3, 3, 3, 3, 3, 3, 3, 3, 3, 3, 3, 3, 3, 3, 3, 3, 3, 3, 3, 3, 3,\n",
      "        3, 3, 3, 3, 3, 3, 3, 3, 3, 3, 3, 3, 3, 3, 3, 3, 3, 3, 3, 3, 3, 3, 3, 3,\n",
      "        3, 3, 3, 3])\n",
      "model_pred :  Edge-Ring\n",
      "3\n",
      "ans :  Edge-Loc\n",
      "2\n",
      "------------------\n"
     ]
    },
    {
     "data": {
      "image/png": "[encoded data removed]",
      "text/plain": [
       "<Figure size 432x288 with 1 Axes>"
      ]
     },
     "metadata": {
      "needs_background": "light"
     },
     "output_type": "display_data"
    },
    {
     "name": "stdout",
     "output_type": "stream",
     "text": [
      "tensor([6, 6, 6, 6, 6, 6, 6, 2, 6, 6, 6, 6, 6, 6, 2, 6, 6, 6, 6, 6, 6, 2, 6, 6,\n",
      "        6, 6, 6, 6, 6, 6, 6, 6, 6, 6, 6, 6, 6, 6, 6, 6, 2, 6, 2, 6, 2, 6, 6, 2,\n",
      "        6, 6, 6, 6, 6, 6, 6, 6, 2, 6, 6, 6, 6, 6, 2, 6, 6, 6, 6, 6, 2, 6, 6, 6,\n",
      "        6, 6, 6, 6, 2, 6, 2, 2, 2, 6, 6, 6, 2, 2, 2, 6, 2, 2, 6, 2, 2, 6, 2, 6,\n",
      "        6, 6, 6, 6])\n",
      "model_pred :  Scratch\n",
      "6\n",
      "ans :  Edge-Loc\n",
      "2\n",
      "------------------\n"
     ]
    },
    {
     "data": {
      "image/png": "[encoded data removed]",
      "text/plain": [
       "<Figure size 432x288 with 1 Axes>"
      ]
     },
     "metadata": {
      "needs_background": "light"
     },
     "output_type": "display_data"
    },
    {
     "name": "stdout",
     "output_type": "stream",
     "text": [
      "tensor([6, 6, 6, 6, 6, 6, 6, 6, 6, 6, 6, 6, 6, 6, 6, 6, 6, 6, 6, 6, 6, 6, 6, 6,\n",
      "        6, 6, 6, 6, 6, 6, 6, 6, 6, 6, 6, 6, 6, 6, 6, 6, 6, 6, 6, 6, 6, 6, 6, 6,\n",
      "        6, 6, 6, 6, 6, 6, 6, 6, 6, 6, 6, 6, 6, 6, 6, 6, 6, 6, 6, 6, 6, 6, 6, 6,\n",
      "        6, 6, 6, 6, 6, 6, 6, 6, 6, 6, 6, 6, 6, 6, 6, 6, 6, 6, 6, 6, 6, 6, 6, 6,\n",
      "        6, 6, 6, 6])\n",
      "model_pred :  Scratch\n",
      "6\n",
      "ans :  Edge-Loc\n",
      "2\n",
      "------------------\n"
     ]
    },
    {
     "data": {
      "image/png": "[encoded data removed]",
      "text/plain": [
       "<Figure size 432x288 with 1 Axes>"
      ]
     },
     "metadata": {
      "needs_background": "light"
     },
     "output_type": "display_data"
    },
    {
     "name": "stdout",
     "output_type": "stream",
     "text": [
      "tensor([3, 3, 3, 3, 3, 3, 3, 3, 3, 3, 3, 3, 3, 3, 3, 3, 3, 3, 3, 3, 3, 3, 3, 3,\n",
      "        3, 3, 3, 3, 3, 3, 3, 3, 3, 3, 3, 3, 3, 3, 3, 3, 3, 3, 3, 3, 3, 3, 3, 3,\n",
      "        3, 3, 3, 3, 3, 3, 3, 3, 3, 3, 3, 3, 3, 3, 3, 3, 3, 3, 3, 3, 3, 3, 3, 3,\n",
      "        3, 3, 3, 3, 3, 3, 3, 3, 3, 3, 3, 3, 3, 3, 3, 3, 3, 3, 3, 3, 3, 3, 3, 3,\n",
      "        3, 3, 3, 3])\n",
      "model_pred :  Edge-Ring\n",
      "3\n",
      "ans :  Edge-Loc\n",
      "2\n",
      "------------------\n"
     ]
    },
    {
     "data": {
      "image/png": "[encoded data removed]",
      "text/plain": [
       "<Figure size 432x288 with 1 Axes>"
      ]
     },
     "metadata": {
      "needs_background": "light"
     },
     "output_type": "display_data"
    },
    {
     "name": "stdout",
     "output_type": "stream",
     "text": [
      "tensor([3, 3, 3, 3, 3, 3, 3, 3, 3, 3, 3, 3, 3, 3, 3, 3, 3, 3, 3, 3, 3, 3, 3, 3,\n",
      "        3, 3, 3, 3, 3, 3, 3, 3, 3, 3, 3, 3, 3, 3, 3, 3, 3, 3, 3, 3, 3, 3, 3, 3,\n",
      "        3, 3, 3, 3, 3, 3, 3, 3, 3, 3, 3, 3, 3, 3, 3, 3, 3, 3, 3, 3, 3, 3, 3, 3,\n",
      "        3, 3, 3, 3, 3, 3, 3, 3, 3, 3, 3, 3, 3, 3, 3, 3, 3, 3, 3, 3, 3, 3, 3, 3,\n",
      "        3, 3, 3, 3])\n",
      "model_pred :  Edge-Ring\n",
      "3\n",
      "ans :  Edge-Loc\n",
      "2\n",
      "------------------\n"
     ]
    },
    {
     "data": {
      "image/png": "[encoded data removed]",
      "text/plain": [
       "<Figure size 432x288 with 1 Axes>"
      ]
     },
     "metadata": {
      "needs_background": "light"
     },
     "output_type": "display_data"
    },
    {
     "name": "stdout",
     "output_type": "stream",
     "text": [
      "tensor([3, 3, 3, 3, 3, 3, 3, 3, 3, 3, 3, 3, 3, 3, 3, 3, 3, 3, 3, 3, 3, 3, 3, 3,\n",
      "        3, 3, 3, 3, 3, 3, 3, 3, 3, 3, 3, 3, 3, 3, 3, 3, 3, 3, 3, 3, 3, 3, 3, 3,\n",
      "        3, 3, 3, 3, 3, 3, 3, 3, 3, 3, 3, 3, 3, 3, 3, 3, 3, 3, 3, 3, 3, 3, 3, 3,\n",
      "        3, 3, 3, 3, 3, 3, 3, 3, 3, 3, 3, 3, 3, 3, 3, 3, 3, 3, 3, 3, 3, 3, 3, 3,\n",
      "        3, 3, 3, 3])\n",
      "model_pred :  Edge-Ring\n",
      "3\n",
      "ans :  Edge-Loc\n",
      "2\n",
      "------------------\n"
     ]
    },
    {
     "data": {
      "image/png": "[encoded data removed]",
      "text/plain": [
       "<Figure size 432x288 with 1 Axes>"
      ]
     },
     "metadata": {
      "needs_background": "light"
     },
     "output_type": "display_data"
    },
    {
     "name": "stdout",
     "output_type": "stream",
     "text": [
      "tensor([6, 6, 6, 6, 2, 6, 2, 6, 2, 6, 6, 6, 6, 6, 6, 6, 2, 6, 2, 2, 6, 6, 2, 6,\n",
      "        2, 6, 6, 6, 6, 6, 6, 6, 2, 6, 6, 6, 2, 6, 6, 6, 2, 6, 6, 2, 6, 2, 6, 2,\n",
      "        6, 6, 6, 2, 6, 6, 6, 6, 2, 2, 6, 2, 6, 6, 2, 2, 6, 2, 2, 6, 2, 6, 6, 6,\n",
      "        6, 6, 2, 6, 6, 6, 6, 6, 2, 6, 2, 2, 2, 2, 6, 2, 2, 6, 2, 6, 6, 2, 6, 6,\n",
      "        6, 2, 2, 2])\n",
      "model_pred :  Scratch\n",
      "6\n",
      "ans :  Edge-Loc\n",
      "2\n",
      "------------------\n"
     ]
    },
    {
     "data": {
      "image/png": "[encoded data removed]",
      "text/plain": [
       "<Figure size 432x288 with 1 Axes>"
      ]
     },
     "metadata": {
      "needs_background": "light"
     },
     "output_type": "display_data"
    },
    {
     "name": "stdout",
     "output_type": "stream",
     "text": [
      "tensor([3, 3, 3, 3, 3, 3, 3, 3, 3, 3, 3, 3, 3, 3, 3, 3, 3, 3, 3, 3, 3, 3, 3, 3,\n",
      "        3, 3, 3, 3, 3, 3, 3, 3, 3, 3, 3, 3, 3, 3, 3, 3, 3, 3, 3, 3, 3, 3, 3, 3,\n",
      "        3, 3, 3, 3, 3, 3, 3, 3, 3, 3, 3, 3, 3, 3, 3, 3, 3, 3, 3, 3, 3, 3, 3, 3,\n",
      "        3, 3, 3, 3, 3, 3, 3, 3, 3, 3, 3, 3, 3, 3, 3, 3, 3, 3, 3, 3, 3, 3, 3, 3,\n",
      "        3, 3, 3, 3])\n",
      "model_pred :  Edge-Ring\n",
      "3\n",
      "ans :  Edge-Loc\n",
      "2\n",
      "------------------\n"
     ]
    },
    {
     "data": {
      "image/png": "[encoded data removed]",
      "text/plain": [
       "<Figure size 432x288 with 1 Axes>"
      ]
     },
     "metadata": {
      "needs_background": "light"
     },
     "output_type": "display_data"
    },
    {
     "name": "stdout",
     "output_type": "stream",
     "text": [
      "tensor([6, 6, 6, 6, 6, 6, 6, 6, 6, 6, 6, 6, 6, 6, 6, 6, 6, 6, 6, 6, 6, 6, 6, 6,\n",
      "        6, 6, 6, 6, 6, 6, 6, 6, 6, 6, 6, 6, 6, 6, 6, 6, 6, 6, 6, 6, 6, 6, 6, 6,\n",
      "        6, 6, 6, 6, 6, 6, 6, 6, 6, 6, 6, 6, 6, 6, 6, 6, 6, 2, 6, 6, 6, 6, 6, 6,\n",
      "        6, 6, 6, 6, 6, 6, 6, 6, 6, 6, 6, 6, 6, 6, 6, 6, 6, 6, 6, 6, 6, 6, 6, 6,\n",
      "        6, 6, 6, 6])\n",
      "model_pred :  Scratch\n",
      "6\n",
      "ans :  Edge-Loc\n",
      "2\n",
      "------------------\n"
     ]
    },
    {
     "data": {
      "image/png": "[encoded data removed]",
      "text/plain": [
       "<Figure size 432x288 with 1 Axes>"
      ]
     },
     "metadata": {
      "needs_background": "light"
     },
     "output_type": "display_data"
    },
    {
     "name": "stdout",
     "output_type": "stream",
     "text": [
      "tensor([3, 3, 3, 3, 3, 3, 3, 3, 3, 3, 3, 3, 3, 3, 3, 3, 3, 3, 3, 3, 3, 3, 3, 3,\n",
      "        3, 3, 3, 3, 3, 3, 3, 3, 3, 3, 3, 3, 3, 3, 3, 3, 3, 3, 3, 3, 3, 3, 3, 3,\n",
      "        3, 3, 3, 3, 3, 3, 3, 3, 3, 3, 3, 3, 3, 3, 3, 3, 3, 3, 3, 3, 3, 3, 3, 3,\n",
      "        3, 3, 3, 3, 3, 3, 3, 3, 3, 3, 3, 3, 3, 3, 3, 3, 3, 3, 3, 3, 3, 3, 3, 3,\n",
      "        3, 3, 3, 3])\n",
      "model_pred :  Edge-Ring\n",
      "3\n",
      "ans :  Edge-Loc\n",
      "2\n",
      "------------------\n"
     ]
    },
    {
     "data": {
      "image/png": "[encoded data removed]",
      "text/plain": [
       "<Figure size 432x288 with 1 Axes>"
      ]
     },
     "metadata": {
      "needs_background": "light"
     },
     "output_type": "display_data"
    },
    {
     "name": "stdout",
     "output_type": "stream",
     "text": [
      "tensor([3, 3, 2, 2, 3, 2, 3, 2, 3, 2, 3, 3, 3, 3, 3, 2, 3, 2, 3, 2, 3, 3, 3, 3,\n",
      "        3, 3, 3, 2, 3, 3, 3, 3, 2, 3, 3, 3, 3, 3, 3, 3, 3, 2, 3, 3, 2, 3, 3, 2,\n",
      "        2, 3, 3, 3, 3, 2, 3, 3, 2, 3, 3, 2, 2, 3, 2, 3, 3, 3, 3, 3, 3, 3, 2, 3,\n",
      "        3, 3, 2, 2, 3, 3, 3, 3, 3, 3, 3, 3, 2, 3, 3, 3, 3, 3, 3, 3, 3, 3, 3, 3,\n",
      "        2, 3, 3, 3])\n",
      "model_pred :  Edge-Ring\n",
      "3\n",
      "ans :  Edge-Loc\n",
      "2\n",
      "------------------\n"
     ]
    },
    {
     "data": {
      "image/png": "[encoded data removed]",
      "text/plain": [
       "<Figure size 432x288 with 1 Axes>"
      ]
     },
     "metadata": {
      "needs_background": "light"
     },
     "output_type": "display_data"
    },
    {
     "name": "stdout",
     "output_type": "stream",
     "text": [
      "tensor([6, 6, 6, 6, 6, 6, 6, 6, 6, 6, 6, 6, 6, 6, 6, 6, 6, 6, 6, 6, 6, 6, 6, 6,\n",
      "        6, 6, 6, 6, 6, 6, 6, 6, 6, 6, 6, 6, 6, 6, 6, 6, 6, 6, 6, 6, 6, 6, 6, 6,\n",
      "        6, 6, 6, 6, 6, 6, 6, 6, 6, 6, 6, 6, 6, 6, 6, 6, 6, 6, 6, 6, 6, 6, 6, 6,\n",
      "        6, 6, 6, 6, 6, 6, 6, 6, 6, 6, 6, 6, 6, 6, 6, 6, 6, 6, 6, 6, 6, 6, 6, 6,\n",
      "        6, 6, 6, 6])\n",
      "model_pred :  Scratch\n",
      "6\n",
      "ans :  Edge-Loc\n",
      "2\n",
      "------------------\n"
     ]
    },
    {
     "data": {
      "image/png": "[encoded data removed]",
      "text/plain": [
       "<Figure size 432x288 with 1 Axes>"
      ]
     },
     "metadata": {
      "needs_background": "light"
     },
     "output_type": "display_data"
    },
    {
     "name": "stdout",
     "output_type": "stream",
     "text": [
      "tensor([2, 3, 3, 3, 3, 2, 3, 3, 3, 3, 3, 3, 3, 3, 3, 3, 3, 3, 3, 3, 3, 3, 3, 3,\n",
      "        3, 2, 2, 3, 3, 3, 3, 2, 2, 3, 3, 3, 3, 2, 3, 3, 3, 3, 3, 3, 3, 3, 3, 3,\n",
      "        3, 2, 2, 3, 2, 3, 3, 3, 3, 3, 2, 3, 3, 3, 3, 3, 3, 3, 3, 3, 3, 3, 2, 3,\n",
      "        3, 3, 3, 3, 2, 3, 3, 3, 3, 3, 3, 3, 3, 2, 2, 3, 3, 3, 3, 3, 2, 3, 3, 3,\n",
      "        3, 2, 2, 3])\n",
      "model_pred :  Edge-Ring\n",
      "3\n",
      "ans :  Edge-Loc\n",
      "2\n",
      "------------------\n"
     ]
    },
    {
     "data": {
      "image/png": "[encoded data removed]",
      "text/plain": [
       "<Figure size 432x288 with 1 Axes>"
      ]
     },
     "metadata": {
      "needs_background": "light"
     },
     "output_type": "display_data"
    },
    {
     "name": "stdout",
     "output_type": "stream",
     "text": [
      "tensor([6, 6, 6, 6, 6, 6, 6, 6, 6, 6, 6, 6, 6, 6, 6, 6, 6, 6, 6, 6, 6, 6, 6, 6,\n",
      "        6, 6, 6, 6, 6, 6, 6, 6, 6, 6, 6, 6, 6, 6, 6, 6, 6, 6, 6, 6, 2, 6, 6, 6,\n",
      "        6, 6, 6, 6, 6, 6, 6, 6, 6, 6, 6, 6, 6, 6, 6, 6, 6, 6, 6, 6, 6, 6, 6, 6,\n",
      "        6, 6, 6, 6, 6, 6, 6, 6, 6, 6, 6, 6, 6, 6, 6, 6, 6, 6, 6, 6, 6, 6, 6, 6,\n",
      "        6, 6, 6, 6])\n",
      "model_pred :  Scratch\n",
      "6\n",
      "ans :  Edge-Loc\n",
      "2\n",
      "------------------\n"
     ]
    },
    {
     "data": {
      "image/png": "[encoded data removed]",
      "text/plain": [
       "<Figure size 432x288 with 1 Axes>"
      ]
     },
     "metadata": {
      "needs_background": "light"
     },
     "output_type": "display_data"
    },
    {
     "name": "stdout",
     "output_type": "stream",
     "text": [
      "tensor([3, 3, 3, 3, 3, 3, 3, 3, 2, 3, 3, 3, 3, 3, 3, 3, 3, 3, 3, 3, 3, 3, 3, 3,\n",
      "        3, 3, 3, 3, 3, 3, 3, 3, 3, 3, 3, 3, 3, 3, 3, 3, 3, 3, 3, 3, 3, 3, 3, 3,\n",
      "        3, 3, 3, 3, 3, 3, 3, 3, 3, 3, 3, 3, 3, 3, 3, 3, 3, 3, 3, 3, 3, 3, 3, 3,\n",
      "        3, 3, 3, 3, 3, 3, 3, 3, 3, 3, 3, 3, 3, 3, 3, 3, 3, 3, 3, 3, 3, 3, 3, 3,\n",
      "        3, 3, 3, 3])\n",
      "model_pred :  Edge-Ring\n",
      "3\n",
      "ans :  Edge-Loc\n",
      "2\n",
      "------------------\n"
     ]
    },
    {
     "data": {
      "image/png": "[encoded data removed]",
      "text/plain": [
       "<Figure size 432x288 with 1 Axes>"
      ]
     },
     "metadata": {
      "needs_background": "light"
     },
     "output_type": "display_data"
    },
    {
     "name": "stdout",
     "output_type": "stream",
     "text": [
      "tensor([6, 6, 6, 6, 6, 6, 6, 6, 6, 6, 6, 6, 6, 6, 6, 6, 6, 6, 6, 6, 6, 6, 6, 6,\n",
      "        6, 6, 6, 6, 6, 6, 6, 6, 6, 6, 6, 6, 6, 6, 6, 6, 6, 6, 6, 6, 6, 6, 6, 6,\n",
      "        6, 6, 6, 6, 6, 6, 6, 6, 6, 6, 6, 6, 6, 6, 6, 6, 6, 6, 6, 6, 6, 6, 6, 6,\n",
      "        6, 6, 6, 6, 6, 6, 6, 6, 6, 6, 6, 6, 6, 6, 6, 6, 6, 6, 6, 6, 6, 6, 6, 6,\n",
      "        6, 6, 6, 6])\n",
      "model_pred :  Scratch\n",
      "6\n",
      "ans :  Edge-Loc\n",
      "2\n",
      "------------------\n"
     ]
    },
    {
     "data": {
      "image/png": "[encoded data removed]",
      "text/plain": [
       "<Figure size 432x288 with 1 Axes>"
      ]
     },
     "metadata": {
      "needs_background": "light"
     },
     "output_type": "display_data"
    },
    {
     "name": "stdout",
     "output_type": "stream",
     "text": [
      "tensor([3, 3, 3, 3, 3, 3, 3, 3, 3, 3, 3, 3, 3, 3, 3, 3, 3, 3, 3, 3, 3, 3, 3, 3,\n",
      "        3, 3, 3, 3, 3, 3, 3, 3, 3, 3, 3, 3, 3, 3, 3, 3, 3, 3, 3, 3, 3, 3, 3, 3,\n",
      "        3, 3, 3, 3, 3, 3, 3, 3, 3, 3, 3, 3, 3, 3, 3, 3, 3, 3, 3, 3, 3, 3, 3, 3,\n",
      "        3, 3, 3, 3, 3, 3, 3, 3, 3, 3, 3, 3, 3, 3, 3, 3, 3, 3, 3, 3, 3, 3, 3, 3,\n",
      "        3, 3, 3, 3])\n",
      "model_pred :  Edge-Ring\n",
      "3\n",
      "ans :  Edge-Loc\n",
      "2\n",
      "------------------\n"
     ]
    },
    {
     "data": {
      "image/png": "[encoded data removed]",
      "text/plain": [
       "<Figure size 432x288 with 1 Axes>"
      ]
     },
     "metadata": {
      "needs_background": "light"
     },
     "output_type": "display_data"
    },
    {
     "name": "stdout",
     "output_type": "stream",
     "text": [
      "tensor([6, 6, 2, 6, 6, 2, 2, 6, 6, 2, 2, 6, 6, 6, 6, 6, 2, 6, 6, 2, 6, 6, 6, 6,\n",
      "        2, 6, 6, 2, 2, 2, 6, 6, 2, 6, 6, 2, 6, 6, 6, 2, 2, 2, 6, 6, 6, 6, 6, 2,\n",
      "        2, 6, 6, 6, 2, 6, 2, 2, 6, 2, 6, 2, 6, 6, 2, 6, 6, 6, 2, 2, 6, 6, 2, 6,\n",
      "        2, 6, 2, 2, 6, 6, 6, 2, 2, 6, 6, 2, 6, 6, 2, 2, 2, 6, 6, 2, 6, 6, 6, 2,\n",
      "        2, 2, 6, 6])\n",
      "model_pred :  Scratch\n",
      "6\n",
      "ans :  Edge-Loc\n",
      "2\n",
      "------------------\n"
     ]
    },
    {
     "data": {
      "image/png": "[encoded data removed]",
      "text/plain": [
       "<Figure size 432x288 with 1 Axes>"
      ]
     },
     "metadata": {
      "needs_background": "light"
     },
     "output_type": "display_data"
    },
    {
     "name": "stdout",
     "output_type": "stream",
     "text": [
      "tensor([6, 6, 6, 6, 6, 6, 6, 6, 6, 6, 6, 6, 6, 6, 6, 6, 6, 6, 6, 6, 6, 6, 6, 6,\n",
      "        6, 6, 6, 6, 6, 6, 6, 6, 6, 6, 6, 6, 6, 6, 6, 6, 6, 6, 6, 6, 6, 6, 6, 6,\n",
      "        6, 6, 6, 6, 6, 6, 6, 6, 6, 6, 6, 6, 6, 6, 6, 6, 6, 6, 6, 6, 6, 6, 6, 6,\n",
      "        6, 6, 6, 6, 6, 6, 6, 6, 6, 6, 6, 6, 6, 6, 6, 6, 6, 6, 6, 6, 6, 6, 6, 6,\n",
      "        6, 6, 6, 6])\n",
      "model_pred :  Scratch\n",
      "6\n",
      "ans :  Edge-Loc\n",
      "2\n",
      "------------------\n"
     ]
    },
    {
     "data": {
      "image/png": "[encoded data removed]",
      "text/plain": [
       "<Figure size 432x288 with 1 Axes>"
      ]
     },
     "metadata": {
      "needs_background": "light"
     },
     "output_type": "display_data"
    },
    {
     "name": "stdout",
     "output_type": "stream",
     "text": [
      "tensor([3, 2, 2, 2, 3, 3, 2, 2, 3, 3, 2, 2, 3, 3, 2, 3, 3, 3, 2, 2, 2, 3, 3, 3,\n",
      "        2, 3, 2, 2, 3, 2, 3, 3, 3, 2, 3, 3, 2, 2, 3, 3, 2, 3, 3, 2, 3, 3, 3, 3,\n",
      "        3, 2, 2, 3, 3, 3, 3, 2, 3, 2, 3, 2, 3, 3, 2, 2, 3, 2, 2, 3, 3, 3, 3, 2,\n",
      "        2, 2, 2, 3, 2, 2, 3, 3, 3, 3, 2, 3, 2, 3, 2, 2, 2, 2, 3, 3, 3, 2, 3, 2,\n",
      "        3, 3, 2, 3])\n",
      "model_pred :  Edge-Ring\n",
      "3\n",
      "ans :  Edge-Loc\n",
      "2\n",
      "------------------\n"
     ]
    },
    {
     "data": {
      "image/png": "[encoded data removed]",
      "text/plain": [
       "<Figure size 432x288 with 1 Axes>"
      ]
     },
     "metadata": {
      "needs_background": "light"
     },
     "output_type": "display_data"
    },
    {
     "name": "stdout",
     "output_type": "stream",
     "text": [
      "tensor([0, 0, 6, 0, 0, 0, 0, 0, 0, 0, 0, 0, 0, 0, 0, 0, 0, 0, 0, 0, 6, 0, 0, 0,\n",
      "        0, 0, 0, 0, 0, 0, 0, 0, 0, 0, 0, 0, 0, 0, 0, 0, 0, 6, 0, 0, 4, 0, 0, 0,\n",
      "        0, 0, 0, 0, 6, 4, 0, 0, 0, 0, 4, 0, 0, 0, 0, 0, 0, 0, 0, 0, 0, 0, 0, 0,\n",
      "        0, 0, 0, 0, 0, 0, 4, 0, 6, 0, 0, 0, 4, 0, 0, 0, 0, 0, 0, 0, 0, 0, 0, 0,\n",
      "        0, 0, 0, 0])\n",
      "model_pred :  Center\n",
      "0\n",
      "ans :  Edge-Loc\n",
      "2\n",
      "------------------\n"
     ]
    },
    {
     "data": {
      "image/png": "[encoded data removed]",
      "text/plain": [
       "<Figure size 432x288 with 1 Axes>"
      ]
     },
     "metadata": {
      "needs_background": "light"
     },
     "output_type": "display_data"
    },
    {
     "name": "stdout",
     "output_type": "stream",
     "text": [
      "tensor([3, 3, 3, 3, 3, 3, 3, 3, 3, 3, 3, 3, 3, 3, 3, 3, 3, 3, 3, 3, 3, 3, 3, 3,\n",
      "        3, 3, 3, 3, 3, 3, 3, 3, 3, 3, 3, 3, 3, 3, 3, 3, 3, 3, 3, 3, 3, 3, 3, 3,\n",
      "        3, 3, 3, 3, 3, 3, 3, 3, 3, 3, 3, 3, 3, 3, 3, 3, 3, 3, 3, 3, 3, 3, 3, 3,\n",
      "        3, 3, 3, 3, 3, 3, 3, 3, 3, 3, 3, 3, 3, 3, 3, 3, 3, 3, 3, 3, 3, 3, 3, 3,\n",
      "        3, 3, 3, 3])\n",
      "model_pred :  Edge-Ring\n",
      "3\n",
      "ans :  Edge-Loc\n",
      "2\n",
      "------------------\n"
     ]
    },
    {
     "data": {
      "image/png": "[encoded data removed]",
      "text/plain": [
       "<Figure size 432x288 with 1 Axes>"
      ]
     },
     "metadata": {
      "needs_background": "light"
     },
     "output_type": "display_data"
    },
    {
     "name": "stdout",
     "output_type": "stream",
     "text": [
      "tensor([3, 3, 3, 3, 3, 3, 3, 3, 3, 3, 3, 3, 3, 3, 3, 3, 3, 3, 3, 3, 3, 2, 3, 3,\n",
      "        3, 3, 2, 3, 3, 3, 3, 3, 3, 3, 3, 3, 3, 2, 3, 3, 3, 3, 3, 3, 3, 3, 3, 3,\n",
      "        2, 3, 3, 3, 3, 3, 3, 3, 3, 3, 3, 3, 3, 3, 2, 2, 3, 3, 3, 3, 3, 3, 3, 3,\n",
      "        3, 3, 3, 3, 3, 3, 3, 3, 2, 3, 3, 3, 3, 3, 3, 3, 3, 3, 3, 3, 3, 3, 3, 3,\n",
      "        3, 3, 3, 3])\n",
      "model_pred :  Edge-Ring\n",
      "3\n",
      "ans :  Edge-Loc\n",
      "2\n",
      "------------------\n"
     ]
    },
    {
     "data": {
      "image/png": "[encoded data removed]",
      "text/plain": [
       "<Figure size 432x288 with 1 Axes>"
      ]
     },
     "metadata": {
      "needs_background": "light"
     },
     "output_type": "display_data"
    },
    {
     "name": "stdout",
     "output_type": "stream",
     "text": [
      "tensor([2, 2, 6, 2, 2, 2, 2, 2, 2, 2, 6, 6, 2, 2, 6, 6, 2, 6, 6, 2, 6, 6, 6, 2,\n",
      "        2, 6, 6, 6, 6, 6, 2, 6, 6, 6, 6, 2, 2, 2, 2, 6, 2, 2, 6, 2, 6, 6, 6, 6,\n",
      "        6, 6, 6, 2, 2, 6, 2, 6, 2, 6, 6, 6, 6, 2, 6, 2, 6, 2, 6, 2, 6, 6, 2, 2,\n",
      "        6, 6, 6, 2, 2, 2, 6, 2, 2, 2, 6, 2, 2, 2, 6, 2, 2, 2, 6, 6, 2, 6, 6, 6,\n",
      "        6, 2, 2, 6])\n",
      "model_pred :  Scratch\n",
      "6\n",
      "ans :  Edge-Loc\n",
      "2\n",
      "------------------\n"
     ]
    },
    {
     "data": {
      "image/png": "[encoded data removed]",
      "text/plain": [
       "<Figure size 432x288 with 1 Axes>"
      ]
     },
     "metadata": {
      "needs_background": "light"
     },
     "output_type": "display_data"
    },
    {
     "name": "stdout",
     "output_type": "stream",
     "text": [
      "tensor([6, 6, 6, 6, 6, 6, 6, 6, 2, 6, 6, 6, 6, 6, 6, 6, 6, 6, 6, 6, 6, 6, 6, 6,\n",
      "        6, 2, 6, 6, 6, 6, 6, 6, 6, 6, 6, 6, 2, 6, 6, 6, 6, 6, 6, 6, 6, 6, 6, 2,\n",
      "        6, 6, 6, 2, 6, 2, 2, 6, 6, 6, 6, 6, 6, 6, 2, 2, 2, 6, 6, 6, 6, 6, 6, 6,\n",
      "        6, 6, 6, 6, 6, 6, 2, 6, 6, 6, 6, 6, 6, 6, 6, 6, 6, 6, 6, 6, 6, 2, 6, 6,\n",
      "        6, 6, 6, 6])\n",
      "model_pred :  Scratch\n",
      "6\n",
      "ans :  Edge-Loc\n",
      "2\n",
      "------------------\n"
     ]
    },
    {
     "data": {
      "image/png": "[encoded data removed]",
      "text/plain": [
       "<Figure size 432x288 with 1 Axes>"
      ]
     },
     "metadata": {
      "needs_background": "light"
     },
     "output_type": "display_data"
    },
    {
     "name": "stdout",
     "output_type": "stream",
     "text": [
      "tensor([2, 6, 6, 2, 2, 2, 2, 6, 2, 6, 2, 2, 6, 6, 6, 6, 2, 6, 6, 6, 6, 2, 6, 2,\n",
      "        6, 2, 6, 2, 6, 2, 6, 6, 6, 2, 6, 6, 2, 2, 6, 6, 2, 6, 2, 6, 6, 6, 2, 2,\n",
      "        2, 2, 2, 6, 6, 6, 2, 2, 2, 6, 6, 6, 6, 2, 6, 2, 2, 6, 6, 6, 6, 2, 2, 6,\n",
      "        2, 6, 6, 6, 2, 2, 6, 6, 6, 6, 2, 6, 2, 2, 2, 6, 2, 6, 2, 2, 6, 6, 6, 6,\n",
      "        2, 2, 2, 6])\n",
      "model_pred :  Scratch\n",
      "6\n",
      "ans :  Edge-Loc\n",
      "2\n",
      "------------------\n"
     ]
    },
    {
     "data": {
      "image/png": "[encoded data removed]",
      "text/plain": [
       "<Figure size 432x288 with 1 Axes>"
      ]
     },
     "metadata": {
      "needs_background": "light"
     },
     "output_type": "display_data"
    },
    {
     "name": "stdout",
     "output_type": "stream",
     "text": [
      "tensor([3, 3, 3, 3, 3, 3, 3, 3, 3, 3, 3, 2, 3, 3, 3, 3, 3, 3, 2, 2, 2, 3, 3, 3,\n",
      "        3, 2, 3, 3, 3, 2, 3, 2, 3, 3, 3, 3, 2, 3, 3, 3, 2, 3, 3, 3, 3, 3, 2, 3,\n",
      "        2, 3, 2, 2, 3, 3, 3, 2, 2, 3, 3, 3, 3, 3, 3, 3, 3, 3, 3, 3, 3, 2, 2, 3,\n",
      "        3, 2, 3, 2, 3, 3, 3, 2, 3, 3, 2, 3, 3, 3, 2, 3, 3, 3, 3, 3, 3, 2, 2, 3,\n",
      "        3, 3, 3, 3])\n",
      "model_pred :  Edge-Ring\n",
      "3\n",
      "ans :  Edge-Loc\n",
      "2\n",
      "------------------\n"
     ]
    },
    {
     "data": {
      "image/png": "[encoded data removed]",
      "text/plain": [
       "<Figure size 432x288 with 1 Axes>"
      ]
     },
     "metadata": {
      "needs_background": "light"
     },
     "output_type": "display_data"
    },
    {
     "name": "stdout",
     "output_type": "stream",
     "text": [
      "tensor([2, 2, 3, 3, 2, 3, 3, 2, 2, 3, 3, 3, 2, 2, 2, 3, 3, 3, 3, 2, 3, 2, 2, 2,\n",
      "        3, 3, 3, 2, 2, 3, 2, 3, 3, 3, 3, 2, 2, 2, 2, 2, 3, 2, 3, 3, 2, 3, 2, 3,\n",
      "        2, 3, 2, 3, 3, 3, 2, 3, 3, 2, 3, 2, 3, 2, 2, 3, 3, 2, 2, 3, 2, 3, 2, 2,\n",
      "        3, 2, 2, 3, 2, 3, 2, 2, 2, 2, 3, 2, 3, 3, 3, 2, 3, 3, 3, 2, 3, 2, 3, 2,\n",
      "        2, 2, 2, 3])\n",
      "model_pred :  Edge-Loc\n",
      "2\n",
      "ans :  Edge-Ring\n",
      "3\n",
      "------------------\n"
     ]
    },
    {
     "data": {
      "image/png": "[encoded data removed]",
      "text/plain": [
       "<Figure size 432x288 with 1 Axes>"
      ]
     },
     "metadata": {
      "needs_background": "light"
     },
     "output_type": "display_data"
    },
    {
     "name": "stdout",
     "output_type": "stream",
     "text": [
      "tensor([2, 6, 6, 4, 6, 6, 6, 6, 6, 6, 6, 6, 6, 6, 6, 6, 6, 6, 6, 4, 6, 6, 6, 4,\n",
      "        6, 6, 6, 6, 6, 6, 6, 6, 6, 6, 4, 6, 6, 6, 6, 6, 6, 6, 6, 6, 6, 6, 6, 6,\n",
      "        6, 6, 6, 6, 4, 6, 6, 6, 6, 6, 6, 6, 4, 6, 6, 6, 6, 6, 4, 6, 6, 6, 6, 6,\n",
      "        6, 6, 6, 4, 6, 6, 6, 6, 6, 6, 6, 6, 6, 6, 6, 6, 6, 6, 6, 6, 6, 6, 6, 6,\n",
      "        6, 6, 6, 6])\n",
      "model_pred :  Scratch\n",
      "6\n",
      "ans :  Loc\n",
      "4\n",
      "------------------\n"
     ]
    },
    {
     "data": {
      "image/png": "[encoded data removed]",
      "text/plain": [
       "<Figure size 432x288 with 1 Axes>"
      ]
     },
     "metadata": {
      "needs_background": "light"
     },
     "output_type": "display_data"
    },
    {
     "name": "stdout",
     "output_type": "stream",
     "text": [
      "tensor([6, 4, 6, 6, 6, 6, 6, 4, 6, 6, 6, 4, 6, 6, 4, 6, 6, 6, 4, 4, 6, 6, 6, 4,\n",
      "        6, 4, 6, 6, 4, 6, 4, 6, 6, 4, 6, 6, 6, 6, 4, 6, 4, 4, 6, 6, 4, 6, 6, 4,\n",
      "        6, 6, 6, 6, 6, 4, 6, 6, 4, 6, 6, 6, 6, 4, 6, 6, 6, 6, 6, 6, 6, 4, 4, 4,\n",
      "        6, 4, 4, 4, 6, 4, 6, 6, 6, 6, 6, 4, 6, 6, 6, 4, 4, 6, 4, 4, 4, 6, 4, 6,\n",
      "        6, 6, 6, 6])\n",
      "model_pred :  Scratch\n",
      "6\n",
      "ans :  Loc\n",
      "4\n",
      "------------------\n"
     ]
    },
    {
     "data": {
      "image/png": "[encoded data removed]",
      "text/plain": [
       "<Figure size 432x288 with 1 Axes>"
      ]
     },
     "metadata": {
      "needs_background": "light"
     },
     "output_type": "display_data"
    },
    {
     "name": "stdout",
     "output_type": "stream",
     "text": [
      "tensor([6, 6, 6, 6, 6, 6, 6, 6, 6, 6, 6, 6, 6, 6, 6, 6, 6, 6, 6, 6, 6, 6, 6, 6,\n",
      "        6, 6, 6, 6, 6, 6, 6, 6, 6, 6, 6, 6, 6, 6, 6, 6, 6, 6, 6, 6, 6, 6, 6, 6,\n",
      "        6, 6, 6, 6, 6, 6, 6, 6, 6, 6, 6, 6, 6, 6, 6, 6, 6, 6, 6, 6, 6, 6, 6, 6,\n",
      "        6, 6, 6, 6, 6, 6, 6, 6, 6, 6, 6, 6, 6, 6, 6, 6, 6, 6, 6, 6, 6, 6, 6, 6,\n",
      "        6, 6, 6, 6])\n",
      "model_pred :  Scratch\n",
      "6\n",
      "ans :  Loc\n",
      "4\n",
      "------------------\n"
     ]
    },
    {
     "data": {
      "image/png": "[encoded data removed]",
      "text/plain": [
       "<Figure size 432x288 with 1 Axes>"
      ]
     },
     "metadata": {
      "needs_background": "light"
     },
     "output_type": "display_data"
    },
    {
     "name": "stdout",
     "output_type": "stream",
     "text": [
      "tensor([6, 6, 6, 2, 6, 6, 6, 6, 6, 6, 6, 6, 2, 4, 6, 6, 6, 6, 6, 6, 2, 6, 6, 6,\n",
      "        6, 6, 6, 6, 6, 6, 6, 2, 6, 6, 2, 6, 6, 6, 6, 6, 6, 6, 6, 6, 6, 6, 2, 6,\n",
      "        6, 6, 6, 6, 6, 6, 2, 4, 6, 6, 6, 2, 6, 6, 6, 6, 2, 6, 6, 6, 6, 6, 6, 6,\n",
      "        6, 6, 6, 6, 6, 6, 6, 6, 6, 6, 6, 6, 6, 2, 6, 6, 2, 6, 6, 6, 6, 6, 6, 6,\n",
      "        6, 6, 6, 6])\n",
      "model_pred :  Scratch\n",
      "6\n",
      "ans :  Loc\n",
      "4\n",
      "------------------\n"
     ]
    },
    {
     "data": {
      "image/png": "[encoded data removed]",
      "text/plain": [
       "<Figure size 432x288 with 1 Axes>"
      ]
     },
     "metadata": {
      "needs_background": "light"
     },
     "output_type": "display_data"
    },
    {
     "name": "stdout",
     "output_type": "stream",
     "text": [
      "tensor([6, 6, 6, 6, 6, 6, 6, 6, 6, 6, 6, 6, 6, 6, 6, 6, 6, 6, 6, 6, 6, 6, 6, 6,\n",
      "        6, 6, 6, 6, 6, 6, 6, 6, 6, 6, 6, 6, 6, 6, 6, 6, 6, 6, 4, 6, 6, 6, 6, 6,\n",
      "        6, 6, 6, 6, 6, 6, 6, 6, 6, 6, 6, 6, 6, 6, 4, 6, 6, 6, 6, 6, 6, 6, 6, 6,\n",
      "        6, 6, 6, 6, 6, 6, 6, 6, 6, 6, 6, 6, 6, 6, 6, 6, 6, 6, 6, 6, 6, 6, 6, 6,\n",
      "        6, 6, 6, 6])\n",
      "model_pred :  Scratch\n",
      "6\n",
      "ans :  Loc\n",
      "4\n",
      "------------------\n"
     ]
    },
    {
     "data": {
      "image/png": "[encoded data removed]",
      "text/plain": [
       "<Figure size 432x288 with 1 Axes>"
      ]
     },
     "metadata": {
      "needs_background": "light"
     },
     "output_type": "display_data"
    },
    {
     "name": "stdout",
     "output_type": "stream",
     "text": [
      "tensor([6, 6, 6, 6, 6, 6, 6, 6, 6, 6, 6, 6, 6, 6, 6, 6, 6, 6, 6, 6, 6, 6, 6, 6,\n",
      "        6, 6, 6, 6, 6, 6, 6, 6, 6, 6, 6, 6, 6, 6, 6, 6, 6, 6, 6, 6, 6, 6, 6, 6,\n",
      "        6, 6, 6, 6, 6, 6, 6, 6, 6, 6, 6, 6, 6, 6, 6, 6, 6, 6, 6, 6, 6, 6, 6, 6,\n",
      "        6, 6, 6, 6, 6, 6, 6, 6, 6, 6, 6, 6, 6, 6, 6, 6, 6, 6, 6, 6, 6, 6, 6, 6,\n",
      "        6, 6, 6, 6])\n",
      "model_pred :  Scratch\n",
      "6\n",
      "ans :  Loc\n",
      "4\n",
      "------------------\n"
     ]
    },
    {
     "data": {
      "image/png": "[encoded data removed]",
      "text/plain": [
       "<Figure size 432x288 with 1 Axes>"
      ]
     },
     "metadata": {
      "needs_background": "light"
     },
     "output_type": "display_data"
    },
    {
     "name": "stdout",
     "output_type": "stream",
     "text": [
      "tensor([6, 6, 6, 6, 6, 6, 6, 6, 6, 6, 6, 6, 6, 6, 6, 6, 6, 6, 4, 6, 6, 6, 6, 6,\n",
      "        6, 6, 6, 6, 6, 6, 6, 6, 6, 6, 6, 6, 6, 6, 6, 6, 6, 6, 6, 6, 4, 6, 6, 6,\n",
      "        6, 6, 6, 6, 6, 6, 6, 6, 6, 6, 6, 6, 6, 6, 6, 6, 6, 6, 6, 6, 6, 6, 6, 6,\n",
      "        6, 6, 6, 6, 6, 6, 6, 6, 6, 6, 6, 6, 6, 6, 6, 6, 6, 6, 6, 6, 6, 6, 6, 6,\n",
      "        6, 6, 6, 6])\n",
      "model_pred :  Scratch\n",
      "6\n",
      "ans :  Loc\n",
      "4\n",
      "------------------\n"
     ]
    },
    {
     "data": {
      "image/png": "[encoded data removed]",
      "text/plain": [
       "<Figure size 432x288 with 1 Axes>"
      ]
     },
     "metadata": {
      "needs_background": "light"
     },
     "output_type": "display_data"
    },
    {
     "name": "stdout",
     "output_type": "stream",
     "text": [
      "tensor([2, 6, 2, 2, 2, 2, 6, 2, 2, 2, 6, 2, 6, 6, 2, 2, 2, 2, 2, 2, 2, 2, 2, 2,\n",
      "        2, 2, 2, 8, 2, 6, 2, 2, 2, 2, 2, 2, 2, 2, 2, 2, 6, 2, 6, 2, 2, 2, 2, 6,\n",
      "        6, 2, 2, 6, 2, 2, 2, 2, 6, 2, 2, 6, 8, 2, 2, 6, 2, 2, 6, 2, 6, 2, 2, 2,\n",
      "        2, 2, 2, 2, 2, 2, 2, 2, 6, 2, 6, 6, 2, 2, 2, 2, 6, 6, 6, 2, 2, 6, 2, 6,\n",
      "        2, 2, 2, 2])\n",
      "model_pred :  Edge-Loc\n",
      "2\n",
      "ans :  Loc\n",
      "4\n",
      "------------------\n"
     ]
    },
    {
     "data": {
      "image/png": "[encoded data removed]",
      "text/plain": [
       "<Figure size 432x288 with 1 Axes>"
      ]
     },
     "metadata": {
      "needs_background": "light"
     },
     "output_type": "display_data"
    },
    {
     "name": "stdout",
     "output_type": "stream",
     "text": [
      "tensor([6, 6, 6, 6, 6, 6, 6, 6, 6, 6, 6, 6, 6, 6, 6, 6, 6, 6, 6, 6, 6, 6, 6, 6,\n",
      "        6, 6, 6, 6, 6, 6, 6, 6, 6, 6, 6, 6, 6, 6, 6, 6, 6, 6, 6, 6, 6, 6, 6, 6,\n",
      "        6, 6, 6, 6, 6, 6, 6, 6, 6, 6, 6, 6, 6, 6, 6, 6, 6, 6, 6, 6, 6, 6, 6, 6,\n",
      "        6, 6, 6, 6, 6, 6, 6, 6, 6, 6, 6, 6, 6, 6, 6, 6, 6, 6, 6, 6, 6, 6, 6, 6,\n",
      "        6, 6, 6, 6])\n",
      "model_pred :  Scratch\n",
      "6\n",
      "ans :  Loc\n",
      "4\n",
      "------------------\n"
     ]
    },
    {
     "data": {
      "image/png": "[encoded data removed]",
      "text/plain": [
       "<Figure size 432x288 with 1 Axes>"
      ]
     },
     "metadata": {
      "needs_background": "light"
     },
     "output_type": "display_data"
    },
    {
     "name": "stdout",
     "output_type": "stream",
     "text": [
      "tensor([2, 2, 6, 6, 6, 2, 4, 2, 2, 2, 2, 6, 2, 2, 2, 6, 6, 4, 6, 2, 6, 2, 2, 2,\n",
      "        2, 2, 6, 6, 6, 6, 6, 6, 2, 6, 6, 6, 4, 2, 6, 2, 6, 6, 6, 4, 6, 6, 2, 6,\n",
      "        2, 6, 6, 6, 6, 4, 6, 6, 6, 2, 2, 2, 2, 6, 2, 2, 6, 2, 2, 2, 6, 2, 2, 2,\n",
      "        6, 2, 2, 2, 6, 2, 2, 2, 6, 2, 6, 6, 2, 4, 2, 6, 6, 2, 6, 6, 6, 6, 6, 2,\n",
      "        2, 6, 6, 2])\n",
      "model_pred :  Scratch\n",
      "6\n",
      "ans :  Loc\n",
      "4\n",
      "------------------\n"
     ]
    },
    {
     "data": {
      "image/png": "[encoded data removed]",
      "text/plain": [
       "<Figure size 432x288 with 1 Axes>"
      ]
     },
     "metadata": {
      "needs_background": "light"
     },
     "output_type": "display_data"
    },
    {
     "name": "stdout",
     "output_type": "stream",
     "text": [
      "tensor([6, 6, 6, 6, 6, 6, 4, 6, 6, 6, 6, 6, 6, 4, 6, 6, 6, 6, 4, 6, 6, 6, 6, 6,\n",
      "        6, 6, 6, 6, 6, 6, 6, 4, 6, 6, 6, 6, 4, 6, 6, 4, 6, 6, 6, 4, 6, 6, 4, 6,\n",
      "        6, 6, 6, 6, 6, 6, 6, 4, 4, 6, 6, 6, 6, 4, 6, 4, 6, 6, 6, 6, 6, 6, 6, 6,\n",
      "        4, 4, 6, 4, 4, 6, 4, 6, 4, 4, 6, 4, 6, 6, 6, 4, 6, 6, 6, 6, 6, 6, 6, 4,\n",
      "        4, 6, 6, 6])\n",
      "model_pred :  Scratch\n",
      "6\n",
      "ans :  Loc\n",
      "4\n",
      "------------------\n"
     ]
    },
    {
     "data": {
      "image/png": "[encoded data removed]",
      "text/plain": [
       "<Figure size 432x288 with 1 Axes>"
      ]
     },
     "metadata": {
      "needs_background": "light"
     },
     "output_type": "display_data"
    },
    {
     "name": "stdout",
     "output_type": "stream",
     "text": [
      "tensor([7, 5, 7, 7, 7, 7, 7, 7, 5, 7, 7, 5, 7, 7, 7, 5, 7, 7, 5, 7, 7, 5, 7, 7,\n",
      "        7, 7, 5, 7, 5, 7, 7, 7, 7, 7, 7, 7, 5, 5, 7, 7, 5, 7, 7, 5, 7, 7, 7, 7,\n",
      "        5, 7, 7, 7, 7, 7, 7, 7, 7, 7, 7, 5, 7, 7, 7, 7, 5, 7, 5, 7, 7, 7, 7, 5,\n",
      "        7, 7, 7, 5, 7, 7, 7, 7, 7, 7, 5, 7, 7, 7, 5, 7, 7, 5, 7, 7, 7, 7, 7, 7,\n",
      "        7, 7, 7, 5])\n",
      "model_pred :  Near-full\n",
      "7\n",
      "ans :  Random\n",
      "5\n",
      "------------------\n"
     ]
    },
    {
     "data": {
      "image/png": "[encoded data removed]",
      "text/plain": [
       "<Figure size 432x288 with 1 Axes>"
      ]
     },
     "metadata": {
      "needs_background": "light"
     },
     "output_type": "display_data"
    },
    {
     "name": "stdout",
     "output_type": "stream",
     "text": [
      "tensor([7, 7, 7, 7, 7, 7, 7, 7, 7, 7, 7, 7, 7, 7, 7, 7, 7, 7, 7, 7, 7, 7, 7, 7,\n",
      "        7, 7, 7, 7, 7, 7, 7, 7, 7, 7, 7, 7, 7, 7, 7, 7, 7, 7, 7, 7, 7, 7, 7, 7,\n",
      "        7, 7, 7, 7, 7, 7, 7, 5, 7, 7, 7, 7, 7, 5, 7, 7, 7, 7, 7, 7, 7, 7, 7, 7,\n",
      "        7, 7, 7, 7, 7, 7, 7, 7, 7, 7, 7, 7, 7, 7, 7, 7, 7, 7, 7, 7, 7, 7, 7, 7,\n",
      "        7, 7, 7, 7])\n",
      "model_pred :  Near-full\n",
      "7\n",
      "ans :  Random\n",
      "5\n",
      "------------------\n"
     ]
    },
    {
     "data": {
      "image/png": "[encoded data removed]",
      "text/plain": [
       "<Figure size 432x288 with 1 Axes>"
      ]
     },
     "metadata": {
      "needs_background": "light"
     },
     "output_type": "display_data"
    },
    {
     "name": "stdout",
     "output_type": "stream",
     "text": [
      "tensor([7, 7, 7, 5, 7, 7, 7, 7, 7, 7, 7, 7, 7, 7, 7, 5, 7, 7, 7, 7, 7, 7, 7, 7,\n",
      "        7, 5, 7, 7, 7, 7, 7, 7, 7, 5, 7, 5, 7, 5, 7, 5, 7, 5, 7, 7, 7, 7, 7, 7,\n",
      "        7, 7, 5, 7, 7, 7, 7, 7, 7, 7, 7, 7, 7, 7, 7, 5, 5, 7, 7, 5, 7, 7, 7, 7,\n",
      "        7, 7, 7, 5, 5, 7, 7, 5, 5, 5, 5, 7, 7, 7, 7, 7, 7, 7, 7, 7, 5, 7, 7, 7,\n",
      "        5, 7, 7, 5])\n",
      "model_pred :  Near-full\n",
      "7\n",
      "ans :  Random\n",
      "5\n",
      "------------------\n"
     ]
    },
    {
     "data": {
      "image/png": "[encoded data removed]",
      "text/plain": [
       "<Figure size 432x288 with 1 Axes>"
      ]
     },
     "metadata": {
      "needs_background": "light"
     },
     "output_type": "display_data"
    },
    {
     "name": "stdout",
     "output_type": "stream",
     "text": [
      "tensor([7, 7, 7, 7, 7, 7, 7, 7, 7, 7, 7, 7, 7, 7, 7, 7, 7, 7, 7, 7, 7, 5, 7, 7,\n",
      "        7, 7, 7, 7, 7, 7, 7, 7, 7, 7, 7, 7, 7, 7, 7, 7, 7, 7, 7, 7, 7, 7, 7, 7,\n",
      "        7, 5, 7, 7, 7, 7, 7, 7, 7, 7, 7, 7, 7, 7, 7, 7, 7, 7, 7, 7, 7, 7, 7, 7,\n",
      "        7, 7, 7, 7, 7, 7, 7, 7, 7, 7, 7, 7, 7, 7, 7, 7, 7, 7, 7, 7, 7, 7, 7, 7,\n",
      "        7, 7, 7, 7])\n",
      "model_pred :  Near-full\n",
      "7\n",
      "ans :  Random\n",
      "5\n",
      "------------------\n"
     ]
    },
    {
     "data": {
      "image/png": "[encoded data removed]",
      "text/plain": [
       "<Figure size 432x288 with 1 Axes>"
      ]
     },
     "metadata": {
      "needs_background": "light"
     },
     "output_type": "display_data"
    },
    {
     "name": "stdout",
     "output_type": "stream",
     "text": [
      "tensor([7, 7, 7, 7, 7, 7, 7, 7, 7, 5, 7, 7, 7, 7, 7, 7, 5, 7, 7, 7, 7, 7, 7, 7,\n",
      "        7, 7, 7, 7, 7, 7, 7, 7, 7, 7, 7, 7, 7, 7, 7, 7, 7, 7, 7, 7, 7, 7, 7, 7,\n",
      "        7, 7, 7, 7, 7, 7, 5, 7, 7, 7, 7, 7, 7, 7, 7, 7, 7, 7, 7, 7, 7, 7, 7, 7,\n",
      "        7, 7, 7, 7, 7, 7, 7, 7, 7, 7, 7, 7, 7, 7, 7, 7, 7, 7, 7, 7, 7, 7, 7, 7,\n",
      "        7, 7, 7, 7])\n",
      "model_pred :  Near-full\n",
      "7\n",
      "ans :  Random\n",
      "5\n",
      "------------------\n"
     ]
    },
    {
     "data": {
      "image/png": "[encoded data removed]",
      "text/plain": [
       "<Figure size 432x288 with 1 Axes>"
      ]
     },
     "metadata": {
      "needs_background": "light"
     },
     "output_type": "display_data"
    },
    {
     "name": "stdout",
     "output_type": "stream",
     "text": [
      "tensor([7, 7, 7, 7, 7, 7, 7, 7, 7, 7, 7, 7, 7, 7, 7, 7, 7, 7, 7, 7, 7, 7, 7, 7,\n",
      "        7, 7, 7, 7, 7, 7, 7, 7, 7, 7, 7, 7, 7, 7, 7, 7, 7, 7, 7, 7, 7, 7, 7, 7,\n",
      "        7, 7, 7, 7, 7, 7, 7, 7, 7, 7, 7, 7, 7, 5, 7, 7, 5, 7, 7, 7, 7, 5, 7, 7,\n",
      "        7, 7, 7, 7, 7, 7, 7, 7, 7, 7, 7, 7, 7, 7, 7, 7, 7, 7, 7, 7, 7, 7, 7, 5,\n",
      "        7, 7, 7, 7])\n",
      "model_pred :  Near-full\n",
      "7\n",
      "ans :  Random\n",
      "5\n",
      "------------------\n"
     ]
    },
    {
     "data": {
      "image/png": "[encoded data removed]",
      "text/plain": [
       "<Figure size 432x288 with 1 Axes>"
      ]
     },
     "metadata": {
      "needs_background": "light"
     },
     "output_type": "display_data"
    },
    {
     "name": "stdout",
     "output_type": "stream",
     "text": [
      "tensor([7, 7, 7, 7, 7, 7, 7, 7, 7, 7, 7, 7, 7, 7, 7, 7, 5, 7, 7, 7, 7, 7, 7, 7,\n",
      "        7, 7, 7, 7, 7, 7, 5, 7, 7, 7, 7, 7, 7, 7, 7, 7, 7, 7, 7, 7, 7, 5, 7, 7,\n",
      "        7, 5, 7, 7, 7, 7, 7, 7, 7, 7, 7, 7, 7, 7, 7, 7, 7, 5, 5, 7, 7, 7, 7, 5,\n",
      "        7, 7, 7, 5, 7, 5, 7, 7, 7, 7, 7, 7, 7, 7, 7, 7, 7, 7, 7, 5, 5, 7, 7, 7,\n",
      "        7, 7, 7, 7])\n",
      "model_pred :  Near-full\n",
      "7\n",
      "ans :  Random\n",
      "5\n",
      "------------------\n"
     ]
    },
    {
     "data": {
      "image/png": "[encoded data removed]",
      "text/plain": [
       "<Figure size 432x288 with 1 Axes>"
      ]
     },
     "metadata": {
      "needs_background": "light"
     },
     "output_type": "display_data"
    },
    {
     "name": "stdout",
     "output_type": "stream",
     "text": [
      "tensor([6, 6, 2, 6, 2, 2, 2, 2, 6, 2, 6, 6, 6, 2, 6, 2, 2, 2, 2, 2, 2, 6, 2, 6,\n",
      "        6, 2, 2, 2, 2, 2, 6, 2, 6, 2, 6, 2, 2, 6, 2, 6, 2, 6, 2, 6, 6, 2, 2, 2,\n",
      "        2, 6, 2, 2, 2, 2, 2, 2, 6, 2, 2, 2, 2, 2, 2, 2, 6, 6, 2, 6, 2, 2, 6, 2,\n",
      "        6, 6, 2, 6, 2, 2, 2, 2, 2, 2, 2, 2, 6, 2, 2, 2, 6, 2, 2, 2, 2, 6, 2, 2,\n",
      "        2, 2, 2, 2])\n",
      "model_pred :  Edge-Loc\n",
      "2\n",
      "ans :  Scratch\n",
      "6\n",
      "------------------\n"
     ]
    },
    {
     "data": {
      "image/png": "[encoded data removed]",
      "text/plain": [
       "<Figure size 432x288 with 1 Axes>"
      ]
     },
     "metadata": {
      "needs_background": "light"
     },
     "output_type": "display_data"
    },
    {
     "name": "stdout",
     "output_type": "stream",
     "text": [
      "tensor([2, 2, 6, 2, 2, 2, 2, 2, 2, 2, 6, 2, 2, 2, 2, 2, 2, 2, 2, 6, 2, 2, 2, 2,\n",
      "        6, 2, 2, 2, 6, 2, 2, 2, 6, 2, 6, 2, 6, 2, 2, 6, 2, 2, 2, 2, 2, 2, 6, 2,\n",
      "        2, 2, 2, 2, 6, 6, 2, 2, 2, 2, 2, 2, 2, 2, 2, 2, 2, 2, 2, 2, 2, 2, 2, 6,\n",
      "        2, 2, 2, 2, 2, 2, 2, 2, 2, 2, 2, 6, 2, 2, 2, 2, 2, 2, 2, 2, 2, 2, 2, 2,\n",
      "        2, 2, 2, 2])\n",
      "model_pred :  Edge-Loc\n",
      "2\n",
      "ans :  Scratch\n",
      "6\n",
      "------------------\n"
     ]
    },
    {
     "data": {
      "image/png": "[encoded data removed]",
      "text/plain": [
       "<Figure size 432x288 with 1 Axes>"
      ]
     },
     "metadata": {
      "needs_background": "light"
     },
     "output_type": "display_data"
    },
    {
     "name": "stdout",
     "output_type": "stream",
     "text": [
      "tensor([2, 2, 2, 2, 2, 2, 2, 2, 2, 2, 2, 2, 2, 2, 2, 2, 2, 2, 2, 2, 2, 2, 6, 2,\n",
      "        2, 2, 2, 2, 2, 2, 2, 2, 2, 2, 2, 2, 2, 2, 2, 2, 2, 2, 2, 2, 2, 2, 2, 2,\n",
      "        2, 2, 2, 2, 2, 2, 2, 2, 2, 2, 2, 2, 2, 2, 2, 2, 2, 2, 6, 2, 2, 2, 2, 2,\n",
      "        2, 2, 2, 2, 2, 2, 2, 2, 2, 2, 2, 2, 2, 2, 2, 2, 2, 2, 2, 2, 2, 2, 2, 2,\n",
      "        2, 2, 2, 2])\n",
      "model_pred :  Edge-Loc\n",
      "2\n",
      "ans :  Scratch\n",
      "6\n",
      "------------------\n"
     ]
    },
    {
     "data": {
      "image/png": "[encoded data removed]",
      "text/plain": [
       "<Figure size 432x288 with 1 Axes>"
      ]
     },
     "metadata": {
      "needs_background": "light"
     },
     "output_type": "display_data"
    },
    {
     "name": "stdout",
     "output_type": "stream",
     "text": [
      "tensor([2, 2, 2, 6, 2, 2, 2, 2, 2, 2, 2, 2, 2, 2, 2, 2, 2, 2, 2, 6, 2, 2, 2, 2,\n",
      "        2, 2, 2, 2, 2, 2, 2, 2, 2, 6, 2, 2, 2, 2, 2, 2, 2, 6, 2, 2, 2, 2, 2, 2,\n",
      "        2, 2, 2, 2, 2, 2, 2, 2, 2, 2, 6, 2, 6, 2, 2, 2, 2, 2, 6, 2, 2, 6, 6, 2,\n",
      "        2, 2, 2, 2, 2, 2, 2, 2, 6, 2, 2, 2, 2, 2, 2, 2, 2, 2, 2, 2, 2, 2, 2, 2,\n",
      "        2, 2, 2, 2])\n",
      "model_pred :  Edge-Loc\n",
      "2\n",
      "ans :  Scratch\n",
      "6\n",
      "------------------\n"
     ]
    },
    {
     "data": {
      "image/png": "[encoded data removed]",
      "text/plain": [
       "<Figure size 432x288 with 1 Axes>"
      ]
     },
     "metadata": {
      "needs_background": "light"
     },
     "output_type": "display_data"
    },
    {
     "name": "stdout",
     "output_type": "stream",
     "text": [
      "tensor([1, 1, 1, 1, 7, 1, 1, 1, 1, 1, 1, 1, 1, 1, 1, 7, 1, 1, 1, 1, 7, 7, 7, 1,\n",
      "        7, 7, 1, 1, 1, 7, 7, 1, 1, 1, 7, 1, 1, 7, 7, 1, 1, 1, 7, 1, 1, 7, 1, 7,\n",
      "        1, 1, 1, 1, 1, 1, 1, 1, 7, 1, 1, 7, 1, 1, 1, 7, 7, 1, 1, 7, 7, 1, 1, 7,\n",
      "        7, 1, 1, 1, 7, 7, 7, 1, 1, 7, 1, 1, 7, 7, 7, 1, 1, 7, 7, 7, 7, 1, 7, 1,\n",
      "        1, 1, 7, 7])\n",
      "model_pred :  Donut\n",
      "1\n",
      "ans :  Near-full\n",
      "7\n",
      "------------------\n"
     ]
    },
    {
     "data": {
      "image/png": "[encoded data removed]",
      "text/plain": [
       "<Figure size 432x288 with 1 Axes>"
      ]
     },
     "metadata": {
      "needs_background": "light"
     },
     "output_type": "display_data"
    },
    {
     "name": "stdout",
     "output_type": "stream",
     "text": [
      "tensor([5, 5, 5, 5, 5, 5, 5, 5, 5, 5, 5, 5, 5, 5, 5, 5, 5, 5, 5, 5, 5, 5, 5, 5,\n",
      "        5, 5, 5, 5, 5, 5, 5, 5, 7, 5, 5, 5, 5, 5, 5, 5, 7, 7, 7, 5, 5, 5, 5, 5,\n",
      "        5, 7, 5, 5, 5, 5, 5, 5, 5, 5, 5, 5, 5, 5, 5, 5, 5, 5, 5, 5, 5, 5, 5, 5,\n",
      "        5, 5, 5, 5, 7, 5, 5, 5, 5, 7, 7, 5, 5, 5, 5, 7, 5, 5, 5, 5, 5, 5, 5, 5,\n",
      "        5, 5, 7, 5])\n",
      "model_pred :  Random\n",
      "5\n",
      "ans :  Near-full\n",
      "7\n"
     ]
    }
   ],
   "source": [
    "target_names=  ('Center', 'Donut', 'Edge-Loc', 'Edge-Ring', 'Loc', 'Random', 'Scratch', 'Near-full', 'none')\n",
    "for idx in wrong_idx:\n",
    "    print(\"------------------\")\n",
    "    plt.imshow(X_test[idx].squeeze())\n",
    "    plt.show()\n",
    "    \n",
    "    print(monte_pred[idx])\n",
    "    print(\"model_pred : \",target_names[mc_result_pred[idx]])\n",
    "    print(mc_result_pred[idx])\n",
    "    print(\"ans : \",target_names[y_true[idx]])\n",
    "    print(y_true[idx])"
   ]
  }
 ],
 "metadata": {
  "accelerator": "GPU",
  "colab": {
   "collapsed_sections": [],
   "machine_shape": "hm",
   "private_outputs": true,
   "provenance": []
  },
  "gpuClass": "standard",
  "kernelspec": {
   "display_name": "Python 3 (ipykernel)",
   "language": "python",
   "name": "python3"
  },
  "language_info": {
   "codemirror_mode": {
    "name": "ipython",
    "version": 3
   },
   "file_extension": ".py",
   "mimetype": "text/x-python",
   "name": "python",
   "nbconvert_exporter": "python",
   "pygments_lexer": "ipython3",
   "version": "3.8.13"
  }
 },
 "nbformat": 4,
 "nbformat_minor": 4
}
