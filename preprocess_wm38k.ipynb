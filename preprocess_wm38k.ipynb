{
 "cells": [
  {
   "cell_type": "code",
   "execution_count": 2,
   "metadata": {
    "id": "4BQQ5HZJc-pb"
   },
   "outputs": [],
   "source": [
    "# Load in our libraries\n",
    "import pandas as pd\n",
    "import numpy as np\n",
    "import sklearn\n",
    "import seaborn as sns\n",
    "import matplotlib.pyplot as plt\n",
    "plt.style.use('seaborn')\n",
    "sns.set(font_scale=2) \n",
    "from tqdm import tqdm\n",
    "\n",
    "%matplotlib inline\n",
    "import torch\n",
    "import torchvision\n",
    "from PIL import Image\n",
    "import random\n",
    "import pickle"
   ]
  },
  {
   "cell_type": "code",
   "execution_count": 3,
   "metadata": {
    "id": "ZSH8BNEhdEPw"
   },
   "outputs": [],
   "source": [
    "wm_38k = np.load('raw_data/Wafer_Map_Datasets.npz')\n",
    "X = wm_38k[\"arr_0\"]\n",
    "y = wm_38k[\"arr_1\"]"
   ]
  },
  {
   "cell_type": "markdown",
   "metadata": {
    "id": "l4yTcAoqise3"
   },
   "source": [
    "# Utils"
   ]
  },
  {
   "cell_type": "code",
   "execution_count": 4,
   "metadata": {
    "id": "63gJ-jj1f2D6"
   },
   "outputs": [],
   "source": [
    "# def mean_filter(img):\n",
    "#     img_cpy = np.copy(img)\n",
    "#     height = img_cpy.shape[0]\n",
    "#     width = img_cpy.shape[1]\n",
    "#     for h in range(1,height):\n",
    "#         for w in range(1,width):\n",
    "#             if img_cpy[h][w] == 2.0:\n",
    "#                 filter_area = img_cpy[h-1:h+2, w-1:w+2]\n",
    "#                 filter_area = np.where(filter_area == 2.0, filter_area, 0)\n",
    "#                 if (filter_area == 2.0).sum() - 1.0 == 0.0:\n",
    "#                     img_cpy[h][w] = 1.0\n",
    "#                 else:\n",
    "#                     mean = (filter_area.sum())/((filter_area == 2.0).sum() - 1.0 )\n",
    "#                     if mean >= 1.25:\n",
    "#                         img_cpy[h][w] = 1.0\n",
    "                    \n",
    "#     return img_cpy"
   ]
  },
  {
   "cell_type": "code",
   "execution_count": 5,
   "metadata": {
    "id": "_tXhOTZGkTI-"
   },
   "outputs": [],
   "source": [
    "def mean_filter(img):\n",
    "    img_cpy = np.copy(img)\n",
    "    height = img_cpy.shape[0]\n",
    "    width = img_cpy.shape[1]\n",
    "    for h in range(1,height):\n",
    "        for w in range(1,width):\n",
    "            if img_cpy[h][w] == 2.0:\n",
    "                filter_area = img_cpy[h-1:h+2, w-1:w+2]\n",
    "                zero_count = (filter_area == 0.0).sum()\n",
    "                neighbor_mean = (filter_area.sum()-2.0)/(8 - zero_count)\n",
    "                if neighbor_mean < 1.25:\n",
    "                    img_cpy[h][w] = 1.0\n",
    "    return img_cpy"
   ]
  },
  {
   "cell_type": "code",
   "execution_count": 6,
   "metadata": {
    "id": "xSIdcOuieA3g"
   },
   "outputs": [],
   "source": [
    "def resize_arr(X, Y):\n",
    "    x = []\n",
    "    y = []\n",
    "    for i in tqdm(range(len(X))):\n",
    "        img_array = X[i]\n",
    "        label = Y[i]\n",
    "        img_array = mean_filter(img_array)\n",
    "        img_array =Image.fromarray(img_array)\n",
    "        im_resized = img_array.resize((64,64), Image.NEAREST)\n",
    "        img_array = np.array(im_resized, dtype = 'f')\n",
    "        y.append(label)\n",
    "        x.append(img_array)\n",
    "    x = np.array(x)\n",
    "    return np.array(x), np.array(y)"
   ]
  },
  {
   "cell_type": "code",
   "execution_count": 7,
   "metadata": {
    "id": "X89wT-ClRS1z"
   },
   "outputs": [],
   "source": [
    "def shuffle_idx(label):\n",
    "    train_idx = []\n",
    "    valid_idx = []\n",
    "    test_idx = []\n",
    "    train_label = []\n",
    "    valid_label = []\n",
    "    test_label = []\n",
    "    for defect in range(0, 8):\n",
    "        target_defect = np.where(label == defect)[0]\n",
    "        np.random.shuffle(target_defect)\n",
    "        training_size = int(len(target_defect)*0.60)\n",
    "        valid_size = int(len(target_defect)*0.15)\n",
    "        defect_train = target_defect[:training_size]\n",
    "        defect_valid = target_defect[training_size:training_size+valid_size]\n",
    "        defect_test = target_defect[training_size+valid_size:]\n",
    "        train_idx.extend(list(defect_train))\n",
    "        valid_idx.extend(list(defect_valid))\n",
    "        test_idx.extend(list(defect_test))\n",
    "        train_label.extend([defect] * len(defect_train))\n",
    "        valid_label.extend([defect] * len(defect_valid))\n",
    "        test_label.extend([defect] * len(defect_test))\n",
    "    return train_idx, valid_idx, test_idx, train_label, valid_label, test_label\n"
   ]
  },
  {
   "cell_type": "code",
   "execution_count": 8,
   "metadata": {
    "id": "hRM_VVwOysfQ"
   },
   "outputs": [],
   "source": [
    "def shuffle_idx_n(label):\n",
    "    train_idx = []\n",
    "    valid_idx = []\n",
    "    test_idx = []\n",
    "    train_label = []\n",
    "    valid_label = []\n",
    "    test_label = []\n",
    "    defect = 8\n",
    "    target_defect = np.where(label == defect)[0]\n",
    "    np.random.shuffle(target_defect)\n",
    "    training_size = int(len(target_defect)*0.60)\n",
    "    valid_size = int(len(target_defect)*0.15)\n",
    "    defect_train = target_defect[:training_size]\n",
    "    defect_valid = target_defect[training_size:training_size+valid_size]\n",
    "    defect_test = target_defect[training_size+valid_size:]\n",
    "    train_idx.extend(list(defect_train))\n",
    "    valid_idx.extend(list(defect_valid))\n",
    "    test_idx.extend(list(defect_test))\n",
    "    train_label.extend([defect] * len(defect_train))\n",
    "    valid_label.extend([defect] * len(defect_valid))\n",
    "    test_label.extend([defect] * len(defect_test))\n",
    "    return train_idx, valid_idx, test_idx, train_label, valid_label, test_label\n"
   ]
  },
  {
   "cell_type": "markdown",
   "metadata": {
    "id": "y1AzYr6Gib2s"
   },
   "source": [
    "# Generate Single_defect case"
   ]
  },
  {
   "cell_type": "code",
   "execution_count": 9,
   "metadata": {
    "id": "SXH3r8HvedYD"
   },
   "outputs": [
    {
     "data": {
      "text/plain": [
       "(38015, 8)"
      ]
     },
     "execution_count": 9,
     "metadata": {},
     "output_type": "execute_result"
    }
   ],
   "source": [
    "y.shape"
   ]
  },
  {
   "cell_type": "code",
   "execution_count": 10,
   "metadata": {
    "id": "AsLFhBFrdKyS"
   },
   "outputs": [
    {
     "name": "stderr",
     "output_type": "stream",
     "text": [
      "100%|█████████████████████████████████████████████████████████████████████████| 38015/38015 [00:00<00:00, 507151.70it/s]\n"
     ]
    }
   ],
   "source": [
    "single_defect_idx = []\n",
    "for i in tqdm(range(len(y))):\n",
    "    if y[i].sum() == 1:\n",
    "        single_defect_idx.append(i)\n",
    "single_defect_idx = np.array(single_defect_idx)"
   ]
  },
  {
   "cell_type": "code",
   "execution_count": 11,
   "metadata": {
    "id": "aVg5fFqVddwy"
   },
   "outputs": [],
   "source": [
    "single_defect_label = y[single_defect_idx]"
   ]
  },
  {
   "cell_type": "code",
   "execution_count": 12,
   "metadata": {
    "id": "C6r9ZWOFdqSh"
   },
   "outputs": [],
   "source": [
    "single_defect_label = np.argmax(single_defect_label, axis = 1)\n",
    "single_defect_X = X[single_defect_idx]"
   ]
  },
  {
   "cell_type": "code",
   "execution_count": 13,
   "metadata": {},
   "outputs": [],
   "source": [
    "single_defect_label = np.where(single_defect_label == 5, 10, single_defect_label)\n",
    "single_defect_label = np.where(single_defect_label == 7, 5, single_defect_label)\n",
    "single_defect_label = np.where(single_defect_label == 10, 7, single_defect_label)"
   ]
  },
  {
   "cell_type": "code",
   "execution_count": 14,
   "metadata": {
    "id": "B0-qVEzTfeSi"
   },
   "outputs": [
    {
     "data": {
      "text/plain": [
       "(array([0, 1, 2, 3, 4, 5, 6, 7]),\n",
       " array([1000, 1000, 1000, 1000, 1000,  149, 1000,  866]))"
      ]
     },
     "execution_count": 14,
     "metadata": {},
     "output_type": "execute_result"
    }
   ],
   "source": [
    "np.unique(single_defect_label, return_counts = True)     "
   ]
  },
  {
   "cell_type": "code",
   "execution_count": 15,
   "metadata": {
    "id": "nvBTqH4nf3TB"
   },
   "outputs": [
    {
     "name": "stderr",
     "output_type": "stream",
     "text": [
      "  0%|                                                                                          | 0/7015 [00:00<?, ?it/s]/tmp/ipykernel_517665/1346200602.py:9: DeprecationWarning: NEAREST is deprecated and will be removed in Pillow 10 (2023-07-01). Use Resampling.NEAREST or Dither.NONE instead.\n",
      "  im_resized = img_array.resize((64,64), Image.NEAREST)\n",
      "100%|██████████████████████████████████████████████████████████████████████████████| 7015/7015 [00:56<00:00, 123.48it/s]\n"
     ]
    }
   ],
   "source": [
    "X_, label = resize_arr(single_defect_X, single_defect_label)"
   ]
  },
  {
   "cell_type": "code",
   "execution_count": 16,
   "metadata": {
    "id": "K9sipZBJhl_O"
   },
   "outputs": [],
   "source": [
    "# mapping_type={'Center':0,'Donut':1,'Edge-Loc':2,'Edge-Ring':3,'Loc':4,'Random':5,'Scratch':6,'Near-full':7,'none':8}"
   ]
  },
  {
   "cell_type": "code",
   "execution_count": 17,
   "metadata": {
    "id": "4ig7n66bhmWK"
   },
   "outputs": [],
   "source": [
    "# mapping_type={'Center':0,'Donut':1,'Edge-Loc':2,'Edge-Ring':3,'Loc':4,'Random':5,'Scratch':6,'Near-full':7}"
   ]
  },
  {
   "cell_type": "code",
   "execution_count": 18,
   "metadata": {
    "id": "-5Y5yX2ATbxc"
   },
   "outputs": [],
   "source": [
    "train_idx, valid_idx, test_idx, train_label, valid_label, test_label = shuffle_idx(label)"
   ]
  },
  {
   "cell_type": "code",
   "execution_count": 19,
   "metadata": {
    "id": "tzqPBFTlU5CB"
   },
   "outputs": [
    {
     "data": {
      "text/plain": [
       "(array([0, 1, 2, 3, 4, 5, 6, 7]),\n",
       " array([1000, 1000, 1000, 1000, 1000,  149, 1000,  866]))"
      ]
     },
     "execution_count": 19,
     "metadata": {},
     "output_type": "execute_result"
    }
   ],
   "source": [
    "np.unique(label, return_counts = True)  "
   ]
  },
  {
   "cell_type": "code",
   "execution_count": 20,
   "metadata": {
    "id": "oSypkTSgYqS0"
   },
   "outputs": [],
   "source": [
    "X_ = torch.Tensor(X_)"
   ]
  },
  {
   "cell_type": "code",
   "execution_count": 21,
   "metadata": {
    "id": "U1PhE3ogX6YS"
   },
   "outputs": [
    {
     "name": "stderr",
     "output_type": "stream",
     "text": [
      "100%|██████████████████████████████████████████████████████████████████████████████| 4208/4208 [00:08<00:00, 525.70it/s]\n",
      "100%|████████████████████████████████████████████████████████████████████████████| 1051/1051 [00:00<00:00, 15142.20it/s]\n",
      "100%|█████████████████████████████████████████████████████████████████████████████| 1756/1756 [00:00<00:00, 5315.89it/s]\n"
     ]
    }
   ],
   "source": [
    "base = torch.zeros(1,64,64)\n",
    "for idx in tqdm(train_idx):\n",
    "    base = torch.cat([base, X_[idx].unsqueeze(0)], axis = 0)\n",
    "train = base[1:]\n",
    "\n",
    "base = torch.zeros(1,64,64)\n",
    "for idx in tqdm(valid_idx):\n",
    "    base = torch.cat([base, X_[idx].unsqueeze(0)], axis = 0)\n",
    "valid = base[1:]\n",
    "\n",
    "base = torch.zeros(1,64,64)\n",
    "for idx in tqdm(test_idx):\n",
    "    base = torch.cat([base, X_[idx].unsqueeze(0)], axis = 0)\n",
    "test = base[1:]"
   ]
  },
  {
   "cell_type": "markdown",
   "metadata": {
    "id": "qgRZpH0xmpmw"
   },
   "source": [
    "# Generate none defect case"
   ]
  },
  {
   "cell_type": "code",
   "execution_count": 22,
   "metadata": {
    "id": "6sgXmiKQhSnY"
   },
   "outputs": [
    {
     "name": "stderr",
     "output_type": "stream",
     "text": [
      "100%|█████████████████████████████████████████████████████████████████████████| 38015/38015 [00:00<00:00, 331595.70it/s]\n"
     ]
    }
   ],
   "source": [
    "none_defect_case = []\n",
    "for i in tqdm(range(len(y))):\n",
    "    if y[i].sum() == 0:\n",
    "        none_defect_case.append(i)\n",
    "none_defect_case = np.array(none_defect_case)"
   ]
  },
  {
   "cell_type": "code",
   "execution_count": 23,
   "metadata": {},
   "outputs": [
    {
     "name": "stderr",
     "output_type": "stream",
     "text": [
      "  0%|                                                                                          | 0/1000 [00:00<?, ?it/s]/tmp/ipykernel_517665/1346200602.py:9: DeprecationWarning: NEAREST is deprecated and will be removed in Pillow 10 (2023-07-01). Use Resampling.NEAREST or Dither.NONE instead.\n",
      "  im_resized = img_array.resize((64,64), Image.NEAREST)\n",
      "100%|██████████████████████████████████████████████████████████████████████████████| 1000/1000 [00:04<00:00, 207.05it/s]\n"
     ]
    }
   ],
   "source": [
    "none_defect_label = np.array([8]*none_defect_case.shape[0])\n",
    "none_defect_X = X[none_defect_case]\n",
    "\n",
    "none_defect_label\n",
    "\n",
    "X_none, none_label = resize_arr(none_defect_X, none_defect_label)"
   ]
  },
  {
   "cell_type": "code",
   "execution_count": 24,
   "metadata": {
    "id": "2UFC3Ox-izTn"
   },
   "outputs": [
    {
     "data": {
      "text/plain": [
       "(array([8]), array([1000]))"
      ]
     },
     "execution_count": 24,
     "metadata": {},
     "output_type": "execute_result"
    }
   ],
   "source": [
    "np.unique(none_defect_label, return_counts = True)     "
   ]
  },
  {
   "cell_type": "code",
   "execution_count": 25,
   "metadata": {
    "id": "eN2-SY69izTn"
   },
   "outputs": [
    {
     "name": "stderr",
     "output_type": "stream",
     "text": [
      "  0%|                                                                                          | 0/1000 [00:00<?, ?it/s]/tmp/ipykernel_517665/1346200602.py:9: DeprecationWarning: NEAREST is deprecated and will be removed in Pillow 10 (2023-07-01). Use Resampling.NEAREST or Dither.NONE instead.\n",
      "  im_resized = img_array.resize((64,64), Image.NEAREST)\n",
      "100%|██████████████████████████████████████████████████████████████████████████████| 1000/1000 [00:04<00:00, 208.18it/s]\n"
     ]
    }
   ],
   "source": [
    "X_none, none_label = resize_arr(none_defect_X, none_defect_label)"
   ]
  },
  {
   "cell_type": "code",
   "execution_count": 26,
   "metadata": {
    "id": "sn0L-AFzkC_2"
   },
   "outputs": [],
   "source": [
    "n_train_idx, n_valid_idx, n_test_idx, n_train_label, n_valid_label, n_test_label = shuffle_idx_n(none_label)"
   ]
  },
  {
   "cell_type": "code",
   "execution_count": 27,
   "metadata": {
    "id": "hNNoUqfZkC_2"
   },
   "outputs": [],
   "source": [
    "X_none = torch.Tensor(X_none)"
   ]
  },
  {
   "cell_type": "code",
   "execution_count": 28,
   "metadata": {
    "id": "4bpO0_7ukC_3"
   },
   "outputs": [
    {
     "name": "stderr",
     "output_type": "stream",
     "text": [
      "100%|██████████████████████████████████████████████████████████████████████████████| 600/600 [00:00<00:00, 15467.53it/s]\n",
      "100%|██████████████████████████████████████████████████████████████████████████████| 150/150 [00:00<00:00, 23199.44it/s]\n",
      "100%|██████████████████████████████████████████████████████████████████████████████| 250/250 [00:00<00:00, 24238.93it/s]\n"
     ]
    }
   ],
   "source": [
    "base = torch.zeros(1,64,64)\n",
    "for idx in tqdm(n_train_idx):\n",
    "    base = torch.cat([base, X_none[idx].unsqueeze(0)], axis = 0)\n",
    "n_train = base[1:]\n",
    "\n",
    "base = torch.zeros(1,64,64)\n",
    "for idx in tqdm(n_valid_idx):\n",
    "    base = torch.cat([base, X_none[idx].unsqueeze(0)], axis = 0)\n",
    "n_valid = base[1:]\n",
    "\n",
    "base = torch.zeros(1,64,64)\n",
    "for idx in tqdm(n_test_idx):\n",
    "    base = torch.cat([base, X_none[idx].unsqueeze(0)], axis = 0)\n",
    "n_test = base[1:]"
   ]
  },
  {
   "cell_type": "markdown",
   "metadata": {
    "id": "cW8E0cLzjiqp"
   },
   "source": [
    "# Save "
   ]
  },
  {
   "cell_type": "code",
   "execution_count": 29,
   "metadata": {
    "id": "9NXA9UBsk11L"
   },
   "outputs": [],
   "source": [
    "train = torch.concat([train, n_train], axis = 0)\n",
    "valid = torch.concat([valid, n_valid], axis = 0)\n",
    "test = torch.concat([test, n_test], axis = 0)\n"
   ]
  },
  {
   "cell_type": "code",
   "execution_count": 30,
   "metadata": {
    "id": "_jyhFFETlX56"
   },
   "outputs": [],
   "source": [
    "train_label.extend(n_train_label)\n",
    "valid_label.extend(n_valid_label)\n",
    "test_label.extend(n_test_label)"
   ]
  },
  {
   "cell_type": "code",
   "execution_count": 31,
   "metadata": {
    "id": "OPD0assdyNuz"
   },
   "outputs": [
    {
     "data": {
      "text/plain": [
       "(array([0, 1, 2, 3, 4, 5, 6, 7, 8]),\n",
       " array([600, 600, 600, 600, 600,  89, 600, 519, 600]))"
      ]
     },
     "execution_count": 31,
     "metadata": {},
     "output_type": "execute_result"
    }
   ],
   "source": [
    "np.unique(train_label, return_counts = True)  "
   ]
  },
  {
   "cell_type": "code",
   "execution_count": 32,
   "metadata": {
    "id": "7IlJx7Eys4-R"
   },
   "outputs": [
    {
     "data": {
      "text/plain": [
       "torch.Size([4808, 64, 64])"
      ]
     },
     "execution_count": 32,
     "metadata": {},
     "output_type": "execute_result"
    }
   ],
   "source": [
    "train.shape"
   ]
  },
  {
   "cell_type": "code",
   "execution_count": 33,
   "metadata": {
    "id": "jpS-54dykAUM"
   },
   "outputs": [],
   "source": [
    "import pickle \n",
    "\n",
    "with open('data/wm_38_X_train.pickle', 'wb') as handle:\n",
    "    pickle.dump(train, handle, protocol = pickle.HIGHEST_PROTOCOL)    \n",
    "with open('data/wm_38_y_train.pickle', 'wb') as handle:\n",
    "    pickle.dump(train_label, handle, protocol = pickle.HIGHEST_PROTOCOL)    \n",
    "\n",
    "with open('data/wm_38_X_valid.pickle', 'wb') as handle:\n",
    "    pickle.dump(valid, handle, protocol = pickle.HIGHEST_PROTOCOL)    \n",
    "with open('data/wm_38_y_valid.pickle', 'wb') as handle:\n",
    "    pickle.dump(valid_label, handle, protocol = pickle.HIGHEST_PROTOCOL)    \n",
    "\n",
    "with open('data/wm_38_X_test.pickle', 'wb') as handle:\n",
    "    pickle.dump(test, handle, protocol = pickle.HIGHEST_PROTOCOL)    \n",
    "with open('data/wm_38_y_test.pickle', 'wb') as handle:\n",
    "    pickle.dump(test_label, handle, protocol = pickle.HIGHEST_PROTOCOL)    "
   ]
  }
 ],
 "metadata": {
  "colab": {
   "collapsed_sections": [],
   "machine_shape": "hm",
   "private_outputs": true,
   "provenance": []
  },
  "kernelspec": {
   "display_name": "Python 3 (ipykernel)",
   "language": "python",
   "name": "python3"
  },
  "language_info": {
   "codemirror_mode": {
    "name": "ipython",
    "version": 3
   },
   "file_extension": ".py",
   "mimetype": "text/x-python",
   "name": "python",
   "nbconvert_exporter": "python",
   "pygments_lexer": "ipython3",
   "version": "3.8.13"
  }
 },
 "nbformat": 4,
 "nbformat_minor": 4
}
